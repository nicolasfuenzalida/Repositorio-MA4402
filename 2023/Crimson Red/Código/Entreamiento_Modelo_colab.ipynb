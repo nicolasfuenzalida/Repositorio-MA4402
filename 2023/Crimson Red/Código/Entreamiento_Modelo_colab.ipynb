{
 "cells": [
  {
   "cell_type": "markdown",
   "id": "2ec75473",
   "metadata": {
    "id": "2ec75473"
   },
   "source": [
    "Librerías"
   ]
  },
  {
   "cell_type": "code",
   "execution_count": 1,
   "id": "rBgx14Ua3k0-",
   "metadata": {
    "colab": {
     "base_uri": "https://localhost:8080/"
    },
    "id": "rBgx14Ua3k0-",
    "outputId": "8d0328dd-f767-4db0-de99-e24a08605f36"
   },
   "outputs": [
    {
     "name": "stdout",
     "output_type": "stream",
     "text": [
      "Collecting chess\n",
      "  Downloading chess-1.10.0-py3-none-any.whl (154 kB)\n",
      "\u001b[?25l     \u001b[90m━━━━━━━━━━━━━━━━━━━━━━━━━━━━━━━━━━━━━━━━\u001b[0m \u001b[32m0.0/154.4 kB\u001b[0m \u001b[31m?\u001b[0m eta \u001b[36m-:--:--\u001b[0m\r",
      "\u001b[2K     \u001b[91m━━━━━━━━━━━━━━━━━━━━━━━━━━━━━━━\u001b[0m\u001b[91m╸\u001b[0m\u001b[90m━━━━━━━━\u001b[0m \u001b[32m122.9/154.4 kB\u001b[0m \u001b[31m3.4 MB/s\u001b[0m eta \u001b[36m0:00:01\u001b[0m\r",
      "\u001b[2K     \u001b[90m━━━━━━━━━━━━━━━━━━━━━━━━━━━━━━━━━━━━━━━━\u001b[0m \u001b[32m154.4/154.4 kB\u001b[0m \u001b[31m3.1 MB/s\u001b[0m eta \u001b[36m0:00:00\u001b[0m\n",
      "\u001b[?25hInstalling collected packages: chess\n",
      "Successfully installed chess-1.10.0\n",
      "Reading package lists... Done\n",
      "Building dependency tree... Done\n",
      "Reading state information... Done\n",
      "unrar is already the newest version (1:6.1.5-1).\n",
      "0 upgraded, 0 newly installed, 0 to remove and 24 not upgraded.\n"
     ]
    }
   ],
   "source": [
    "!pip install chess\n",
    "!apt-get install unrar"
   ]
  },
  {
   "cell_type": "code",
   "execution_count": 1,
   "id": "5f8b3805",
   "metadata": {
    "id": "5f8b3805"
   },
   "outputs": [],
   "source": [
    "import chess\n",
    "import numpy as np\n",
    "import chess.pgn\n",
    "import math\n",
    "import tensorflow as tf\n",
    "from tensorflow.keras import layers, models\n",
    "from tensorflow.keras.models import Model\n",
    "from tensorflow.keras.optimizers import Adam\n",
    "import chess.engine\n",
    "import random\n",
    "import gc\n"
   ]
  },
  {
   "cell_type": "markdown",
   "id": "bo5BHfQ1v47C",
   "metadata": {
    "id": "bo5BHfQ1v47C"
   },
   "source": [
    "Descomprimir el dataset"
   ]
  },
  {
   "cell_type": "code",
   "execution_count": 3,
   "id": "e76RIvZIExY4",
   "metadata": {
    "id": "e76RIvZIExY4"
   },
   "outputs": [],
   "source": [
    "import os\n",
    "\n",
    "def unrar(file_path, extract_path='.'):\n",
    "    os.system(f'unrar x \"{file_path}\" \"{extract_path}\"')\n",
    "\n",
    "\n",
    "# Example usage\n",
    "rar_file_path = '/content/Dataset_Entrenamiento.rar'\n",
    "extract_path1 = '/content/'\n",
    "\n",
    "\n",
    "# Unzip .rar file\n",
    "unrar(rar_file_path, extract_path1)\n",
    "\n"
   ]
  },
  {
   "cell_type": "markdown",
   "id": "9e5d2495",
   "metadata": {
    "id": "9e5d2495"
   },
   "source": [
    "Cargamos el dataset"
   ]
  },
  {
   "cell_type": "code",
   "execution_count": 2,
   "id": "cODuVGMF6kjE",
   "metadata": {
    "id": "cODuVGMF6kjE"
   },
   "outputs": [],
   "source": [
    "file1='/content/Nueva_Data_Numpy_1/dataset_partidas_1.npy'\n",
    "file2='/content/Nueva_Data_Numpy_1/labels_partidas_1.npy'\n",
    "file3='/content/Nueva_Data_Numpy_1/dataset_partidas_3.npy'\n",
    "file4='/content/Nueva_Data_Numpy_1/labels_partidas_3.npy'"
   ]
  },
  {
   "cell_type": "code",
   "execution_count": 3,
   "id": "RRBNP7uO7HgM",
   "metadata": {
    "id": "RRBNP7uO7HgM"
   },
   "outputs": [],
   "source": [
    "dataset1 = np.load(file1)\n",
    "labels1 = np.load(file2)\n",
    "dataset2 = np.load(file3)\n",
    "labels2 = np.load(file4)"
   ]
  },
  {
   "cell_type": "code",
   "execution_count": 4,
   "id": "Qbu6gRijVAuy",
   "metadata": {
    "colab": {
     "base_uri": "https://localhost:8080/"
    },
    "id": "Qbu6gRijVAuy",
    "outputId": "1d5201bd-16ae-42da-d03f-c29971e86223"
   },
   "outputs": [
    {
     "data": {
      "text/plain": [
       "0"
      ]
     },
     "execution_count": 4,
     "metadata": {},
     "output_type": "execute_result"
    }
   ],
   "source": [
    "dataset=np.concatenate((dataset1,dataset2))\n",
    "labels=np.concatenate((labels1,labels2))\n",
    "\n",
    "del dataset1\n",
    "del labels1\n",
    "del dataset2\n",
    "del labels2\n",
    "gc.collect()"
   ]
  },
  {
   "cell_type": "code",
   "execution_count": 5,
   "id": "OPABRmAOsZtx",
   "metadata": {
    "colab": {
     "base_uri": "https://localhost:8080/"
    },
    "id": "OPABRmAOsZtx",
    "outputId": "9426a4c3-85a3-4260-feef-843741a919eb"
   },
   "outputs": [
    {
     "data": {
      "text/plain": [
       "397641"
      ]
     },
     "execution_count": 5,
     "metadata": {},
     "output_type": "execute_result"
    }
   ],
   "source": [
    "len(dataset)"
   ]
  },
  {
   "cell_type": "markdown",
   "id": "q3MEyQzivMx6",
   "metadata": {
    "id": "q3MEyQzivMx6"
   },
   "source": [
    "Creamos dataset de tensorflow, barajamos y creamos un set de validación."
   ]
  },
  {
   "cell_type": "code",
   "execution_count": 6,
   "id": "5JuVULKNsCKn",
   "metadata": {
    "id": "5JuVULKNsCKn"
   },
   "outputs": [],
   "source": [
    "# Tensorflow dataser\n",
    "dataset = tf.data.Dataset.from_tensor_slices((dataset, labels))\n",
    "\n",
    "del labels\n",
    "gc.collect()\n",
    "\n",
    "# Barajar\n",
    "dataset = dataset.shuffle(buffer_size=len(dataset))\n",
    "\n",
    "# Validación\n",
    "split_ratio = 0.9\n",
    "split_index = int(len(dataset) * split_ratio)\n",
    "\n",
    "train_dataset = dataset.take(split_index)\n",
    "val_dataset = dataset.skip(split_index)\n",
    "\n",
    "# Batch \n",
    "batch_size = 32\n",
    "train_dataset = train_dataset.batch(batch_size)\n",
    "\n",
    "# Batch \n",
    "val_dataset = val_dataset.batch(batch_size)\n"
   ]
  },
  {
   "cell_type": "code",
   "execution_count": 7,
   "id": "GYJP1R_-wHkP",
   "metadata": {
    "colab": {
     "base_uri": "https://localhost:8080/"
    },
    "id": "GYJP1R_-wHkP",
    "outputId": "5d9b0ec5-309e-43be-8d7d-063c656dbc99"
   },
   "outputs": [
    {
     "name": "stdout",
     "output_type": "stream",
     "text": [
      "11184\n",
      "1243\n"
     ]
    }
   ],
   "source": [
    "print(len(train_dataset))\n",
    "print(len(val_dataset))"
   ]
  },
  {
   "cell_type": "markdown",
   "id": "bad67ca8",
   "metadata": {
    "id": "bad67ca8"
   },
   "source": [
    "Creamos la red neuronal"
   ]
  },
  {
   "cell_type": "code",
   "execution_count": 10,
   "id": "1e65deb2",
   "metadata": {
    "colab": {
     "base_uri": "https://localhost:8080/"
    },
    "id": "1e65deb2",
    "outputId": "fa250262-3acf-4c46-804a-ba50603affc9"
   },
   "outputs": [
    {
     "name": "stdout",
     "output_type": "stream",
     "text": [
      "Model: \"model_1\"\n",
      "_________________________________________________________________\n",
      " Layer (type)                Output Shape              Param #   \n",
      "=================================================================\n",
      " input_2 (InputLayer)        [(None, 17, 8, 8)]        0         \n",
      "                                                                 \n",
      " conv2d_6 (Conv2D)           (None, 17, 8, 128)        9344      \n",
      "                                                                 \n",
      " batch_normalization_6 (Bat  (None, 17, 8, 128)        512       \n",
      " chNormalization)                                                \n",
      "                                                                 \n",
      " activation_6 (Activation)   (None, 17, 8, 128)        0         \n",
      "                                                                 \n",
      " conv2d_7 (Conv2D)           (None, 17, 8, 128)        147584    \n",
      "                                                                 \n",
      " batch_normalization_7 (Bat  (None, 17, 8, 128)        512       \n",
      " chNormalization)                                                \n",
      "                                                                 \n",
      " activation_7 (Activation)   (None, 17, 8, 128)        0         \n",
      "                                                                 \n",
      " conv2d_8 (Conv2D)           (None, 17, 8, 128)        147584    \n",
      "                                                                 \n",
      " batch_normalization_8 (Bat  (None, 17, 8, 128)        512       \n",
      " chNormalization)                                                \n",
      "                                                                 \n",
      " activation_8 (Activation)   (None, 17, 8, 128)        0         \n",
      "                                                                 \n",
      " conv2d_9 (Conv2D)           (None, 17, 8, 128)        147584    \n",
      "                                                                 \n",
      " batch_normalization_9 (Bat  (None, 17, 8, 128)        512       \n",
      " chNormalization)                                                \n",
      "                                                                 \n",
      " activation_9 (Activation)   (None, 17, 8, 128)        0         \n",
      "                                                                 \n",
      " conv2d_10 (Conv2D)          (None, 17, 8, 128)        147584    \n",
      "                                                                 \n",
      " batch_normalization_10 (Ba  (None, 17, 8, 128)        512       \n",
      " tchNormalization)                                               \n",
      "                                                                 \n",
      " activation_10 (Activation)  (None, 17, 8, 128)        0         \n",
      "                                                                 \n",
      " conv2d_11 (Conv2D)          (None, 17, 8, 1)          129       \n",
      "                                                                 \n",
      " batch_normalization_11 (Ba  (None, 17, 8, 1)          4         \n",
      " tchNormalization)                                               \n",
      "                                                                 \n",
      " activation_11 (Activation)  (None, 17, 8, 1)          0         \n",
      "                                                                 \n",
      " flatten_1 (Flatten)         (None, 136)               0         \n",
      "                                                                 \n",
      " dense_2 (Dense)             (None, 128)               17536     \n",
      "                                                                 \n",
      " dense_3 (Dense)             (None, 1)                 129       \n",
      "                                                                 \n",
      "=================================================================\n",
      "Total params: 620038 (2.37 MB)\n",
      "Trainable params: 618756 (2.36 MB)\n",
      "Non-trainable params: 1282 (5.01 KB)\n",
      "_________________________________________________________________\n"
     ]
    }
   ],
   "source": [
    "# Input\n",
    "input1 = tf.keras.Input(shape=(17, 8, 8))\n",
    "\n",
    "# Capas convolucionales\n",
    "conv1 = layers.Conv2D(128, kernel_size=(3, 3), strides=(1, 1), padding='same')(input1)\n",
    "norm1 = layers.BatchNormalization()(conv1)\n",
    "relu1 = layers.Activation('relu')(norm1)\n",
    "\n",
    "conv2 = layers.Conv2D(128, kernel_size=(3, 3), strides=(1, 1), padding='same')(relu1)\n",
    "norm2 = layers.BatchNormalization()(conv2)\n",
    "relu2 = layers.Activation('relu')(norm2)\n",
    "\n",
    "conv3 = layers.Conv2D(128, kernel_size=(3, 3), strides=(1, 1), padding='same')(relu2)\n",
    "norm3 = layers.BatchNormalization()(conv3)\n",
    "relu3 = layers.Activation('relu')(norm3)\n",
    "\n",
    "conv4 = layers.Conv2D(128, kernel_size=(3, 3), strides=(1, 1), padding='same')(relu3)\n",
    "norm4 = layers.BatchNormalization()(conv4)\n",
    "relu4 = layers.Activation('relu')(norm4)\n",
    "\n",
    "conv5 = layers.Conv2D(128, kernel_size=(3, 3), strides=(1, 1), padding='same')(relu4)\n",
    "norm5 = layers.BatchNormalization()(conv5)\n",
    "relu5 = layers.Activation('relu')(norm5)\n",
    "\n",
    "\n",
    "conv6 = layers.Conv2D(1, kernel_size=(1, 1), strides=(1, 1), padding='same')(relu5)\n",
    "norm6 = layers.BatchNormalization()(conv6)\n",
    "relu6 = layers.Activation('relu')(norm6)\n",
    "\n",
    "# Flatten\n",
    "flatten = layers.Flatten()(relu6)\n",
    "\n",
    "dense1 = layers.Dense(128, activation='relu')(flatten)\n",
    "output_layer = layers.Dense(1, activation='linear')(dense1)\n",
    "\n",
    "# Modelo\n",
    "model = models.Model(inputs=[input1], outputs=output_layer)\n",
    "\n",
    "\n",
    "learning_rate = 0.001\n",
    "\n",
    "# Optimizador\n",
    "optimizer = Adam(learning_rate=learning_rate)\n",
    "\n",
    "# Compilar\n",
    "model.compile(optimizer=optimizer, loss='mse', metrics=['mae'])\n",
    "\n",
    "# Resumen\n",
    "model.summary()"
   ]
  },
  {
   "cell_type": "markdown",
   "id": "2a7efbc2",
   "metadata": {
    "id": "2a7efbc2"
   },
   "source": [
    "Entrenamos"
   ]
  },
  {
   "cell_type": "code",
   "execution_count": 11,
   "id": "SZEIsFBGtJ7E",
   "metadata": {
    "colab": {
     "base_uri": "https://localhost:8080/"
    },
    "id": "SZEIsFBGtJ7E",
    "outputId": "075da7f6-94a0-416d-a44b-9297a519bd72"
   },
   "outputs": [
    {
     "name": "stdout",
     "output_type": "stream",
     "text": [
      "Epoch 1/30\n",
      "11184/11184 [==============================] - 106s 9ms/step - loss: 5350977.5000 - mae: 865.1548 - val_loss: 4801223.0000 - val_mae: 804.1387\n",
      "Epoch 2/30\n",
      "11184/11184 [==============================] - 89s 8ms/step - loss: 4694757.5000 - mae: 833.9952 - val_loss: 4380379.0000 - val_mae: 859.7321\n",
      "Epoch 3/30\n",
      "11184/11184 [==============================] - 93s 8ms/step - loss: 4417713.5000 - mae: 803.2002 - val_loss: 4094569.5000 - val_mae: 760.7051\n",
      "Epoch 4/30\n",
      "11184/11184 [==============================] - 90s 8ms/step - loss: 4175865.5000 - mae: 783.8777 - val_loss: 3895409.5000 - val_mae: 749.8892\n",
      "Epoch 5/30\n",
      "11184/11184 [==============================] - 88s 8ms/step - loss: 3895035.0000 - mae: 753.5534 - val_loss: 3710859.2500 - val_mae: 712.5275\n",
      "Epoch 6/30\n",
      "11184/11184 [==============================] - 90s 8ms/step - loss: 3675817.0000 - mae: 736.3111 - val_loss: 3521190.7500 - val_mae: 830.5017\n",
      "Epoch 7/30\n",
      "11184/11184 [==============================] - 90s 8ms/step - loss: 3462654.2500 - mae: 713.7820 - val_loss: 3474410.5000 - val_mae: 659.0747\n",
      "11184/11184 [==============================] - 89s 8ms/step - loss: 3306530.2500 - mae: 701.7045 - val_loss: 3067528.0000 - val_mae: 665.3741\n",
      "Epoch 9/30\n",
      "11184/11184 [==============================] - 88s 8ms/step - loss: 3117809.2500 - mae: 682.4440 - val_loss: 2780007.5000 - val_mae: 650.2407\n",
      "Epoch 10/30\n",
      "11184/11184 [==============================] - 89s 8ms/step - loss: 2955708.7500 - mae: 667.3107 - val_loss: 2871587.2500 - val_mae: 683.6623\n",
      "Epoch 11/30\n",
      "11184/11184 [==============================] - 88s 8ms/step - loss: 2820065.0000 - mae: 651.7495 - val_loss: 2687025.5000 - val_mae: 605.1030\n",
      "Epoch 12/30\n",
      "11184/11184 [==============================] - 92s 8ms/step - loss: 2678409.0000 - mae: 635.5075 - val_loss: 2508666.7500 - val_mae: 679.9775\n",
      "Epoch 13/30\n",
      "11184/11184 [==============================] - 92s 8ms/step - loss: 2566656.2500 - mae: 625.2961 - val_loss: 2346839.2500 - val_mae: 563.6574\n",
      "Epoch 14/30\n",
      "11184/11184 [==============================] - 91s 8ms/step - loss: 2474504.0000 - mae: 614.3931 - val_loss: 2213203.5000 - val_mae: 622.5427\n",
      "Epoch 15/30\n",
      "11184/11184 [==============================] - 89s 8ms/step - loss: 2342919.7500 - mae: 602.5233 - val_loss: 2168583.7500 - val_mae: 586.6392\n",
      "Epoch 16/30\n",
      "11184/11184 [==============================] - 87s 8ms/step - loss: 2249388.7500 - mae: 592.5311 - val_loss: 1942730.0000 - val_mae: 538.3055\n",
      "Epoch 17/30\n",
      "11184/11184 [==============================] - 88s 8ms/step - loss: 2163890.5000 - mae: 583.5549 - val_loss: 1887082.0000 - val_mae: 533.5729\n",
      "Epoch 18/30\n",
      "11184/11184 [==============================] - 91s 8ms/step - loss: 2053040.5000 - mae: 573.1368 - val_loss: 1825718.1250 - val_mae: 541.2281\n",
      "Epoch 19/30\n",
      "11184/11184 [==============================] - 88s 8ms/step - loss: 1970987.8750 - mae: 561.4565 - val_loss: 1781533.2500 - val_mae: 537.3674\n",
      "Epoch 20/30\n",
      "11184/11184 [==============================] - 87s 8ms/step - loss: 1895598.5000 - mae: 553.3689 - val_loss: 1631309.8750 - val_mae: 543.2790\n",
      "Epoch 21/30\n",
      "11184/11184 [==============================] - 90s 8ms/step - loss: 1819699.8750 - mae: 543.5462 - val_loss: 1634586.3750 - val_mae: 507.2527\n",
      "Epoch 22/30\n",
      "11184/11184 [==============================] - 95s 8ms/step - loss: 1758074.0000 - mae: 537.5897 - val_loss: 1562482.3750 - val_mae: 520.5181\n",
      "Epoch 23/30\n",
      "11184/11184 [==============================] - 88s 8ms/step - loss: 1678930.5000 - mae: 528.2448 - val_loss: 1443933.3750 - val_mae: 472.1235\n",
      "Epoch 24/30\n",
      "11184/11184 [==============================] - 88s 8ms/step - loss: 1623214.0000 - mae: 519.3502 - val_loss: 1588261.8750 - val_mae: 552.7273\n",
      "Epoch 25/30\n",
      "11184/11184 [==============================] - 88s 8ms/step - loss: 1544779.2500 - mae: 510.9059 - val_loss: 1372694.7500 - val_mae: 474.5986\n",
      "Epoch 26/30\n",
      "11184/11184 [==============================] - 89s 8ms/step - loss: 1487446.6250 - mae: 503.5394 - val_loss: 1367297.0000 - val_mae: 467.1060\n",
      "Epoch 27/30\n",
      "11184/11184 [==============================] - 88s 8ms/step - loss: 1439038.7500 - mae: 497.1619 - val_loss: 1233094.1250 - val_mae: 485.4980\n",
      "Epoch 28/30\n",
      "11184/11184 [==============================] - 88s 8ms/step - loss: 1368755.2500 - mae: 486.8708 - val_loss: 1149303.6250 - val_mae: 447.0143\n",
      "Epoch 29/30\n",
      "11184/11184 [==============================] - 89s 8ms/step - loss: 1308455.5000 - mae: 478.6805 - val_loss: 1141169.5000 - val_mae: 437.3961\n",
      "Epoch 30/30\n",
      "11184/11184 [==============================] - 93s 8ms/step - loss: 1269161.8750 - mae: 471.5629 - val_loss: 1107437.7500 - val_mae: 434.0507\n"
     ]
    }
   ],
   "source": [
    "epochs = 30\n",
    "history = model.fit(train_dataset, epochs=epochs, validation_data=val_dataset)"
   ]
  },
  {
   "cell_type": "markdown",
   "id": "D3H1msWdwj_T",
   "metadata": {
    "id": "D3H1msWdwj_T"
   },
   "source": [
    "Guardamos"
   ]
  },
  {
   "cell_type": "code",
   "execution_count": 12,
   "id": "BNVf7fyt9lgU",
   "metadata": {
    "colab": {
     "base_uri": "https://localhost:8080/"
    },
    "id": "BNVf7fyt9lgU",
    "outputId": "8dd3c2f3-7c9e-46f1-be01-6064fe226b68"
   },
   "outputs": [
    {
     "name": "stderr",
     "output_type": "stream",
     "text": [
      "/usr/local/lib/python3.10/dist-packages/keras/src/engine/training.py:3103: UserWarning: You are saving your model as an HDF5 file via `model.save()`. This file format is considered legacy. We recommend using instead the native Keras format, e.g. `model.save('my_model.keras')`.\n",
      "  saving_api.save_model(\n"
     ]
    }
   ],
   "source": [
    "model.save('Crimson_Red_v10_30e.keras')\n",
    "model.save('Crimson_Red_v10_30e.h5')"
   ]
  },
  {
   "cell_type": "markdown",
   "id": "azg9S9tvwnO4",
   "metadata": {
    "id": "azg9S9tvwnO4"
   },
   "source": [
    "Graficamos métricas"
   ]
  },
  {
   "cell_type": "code",
   "execution_count": 13,
   "id": "3KrYnFIKkFGV",
   "metadata": {
    "colab": {
     "base_uri": "https://localhost:8080/",
     "height": 472
    },
    "id": "3KrYnFIKkFGV",
    "outputId": "d62eb215-57c8-42ce-c70e-1b9951e4534f"
   },
   "outputs": [
    {
     "data": {
      "image/png": "[encoded data removed]",
      "text/plain": [
       "<Figure size 640x480 with 1 Axes>"
      ]
     },
     "metadata": {},
     "output_type": "display_data"
    }
   ],
   "source": [
    "import matplotlib.pyplot as plt\n",
    "\n",
    "history_dict = history.history\n",
    "\n",
    "\n",
    "loss_values = history_dict['loss']\n",
    "val_loss_values = history_dict['val_loss']\n",
    "\n",
    "epochs = range(1, len(loss_values) + 1)\n",
    "\n",
    "plt.plot(epochs, loss_values, 'r', label='Training Loss')\n",
    "plt.plot(epochs, val_loss_values, 'b', label='Validation Loss')\n",
    "plt.title('Training and Validation Loss')\n",
    "plt.xlabel('Epochs')\n",
    "plt.ylabel('Loss')\n",
    "plt.legend()\n",
    "\n",
    "plt.show()\n"
   ]
  },
  {
   "cell_type": "markdown",
   "id": "a4352402",
   "metadata": {},
   "source": [
    "Entrenamos mas"
   ]
  },
  {
   "cell_type": "code",
   "execution_count": 14,
   "id": "RzBlCGYkhJXN",
   "metadata": {
    "colab": {
     "base_uri": "https://localhost:8080/"
    },
    "id": "RzBlCGYkhJXN",
    "outputId": "e51d4b73-0baf-4c75-8706-91d378a75037"
   },
   "outputs": [
    {
     "name": "stdout",
     "output_type": "stream",
     "text": [
      "Epoch 1/20\n",
      "11184/11184 [==============================] - 96s 9ms/step - loss: 1229316.5000 - mae: 462.9585 - val_loss: 1060379.7500 - val_mae: 434.4523\n",
      "Epoch 2/20\n",
      "11184/11184 [==============================] - 88s 8ms/step - loss: 1175350.7500 - mae: 458.0426 - val_loss: 1103520.7500 - val_mae: 454.5362\n",
      "Epoch 3/20\n",
      "11184/11184 [==============================] - 89s 8ms/step - loss: 1144813.6250 - mae: 451.2976 - val_loss: 1071494.3750 - val_mae: 423.4660\n",
      "Epoch 4/20\n",
      "11184/11184 [==============================] - 87s 8ms/step - loss: 1103231.7500 - mae: 444.0266 - val_loss: 933502.4375 - val_mae: 399.7881\n",
      "Epoch 5/20\n",
      "11184/11184 [==============================] - 87s 8ms/step - loss: 1053567.8750 - mae: 436.4756 - val_loss: 834113.1250 - val_mae: 393.6234\n",
      "Epoch 6/20\n",
      "11184/11184 [==============================] - 89s 8ms/step - loss: 1017058.7500 - mae: 431.7201 - val_loss: 869521.4375 - val_mae: 389.2899\n",
      "Epoch 7/20\n",
      "11184/11184 [==============================] - 90s 8ms/step - loss: 979163.2500 - mae: 422.9020 - val_loss: 858751.1875 - val_mae: 392.2725\n",
      "Epoch 8/20\n",
      "11184/11184 [==============================] - 88s 8ms/step - loss: 965772.1250 - mae: 419.3263 - val_loss: 836555.1875 - val_mae: 392.8394\n",
      "Epoch 9/20\n",
      "11184/11184 [==============================] - 87s 8ms/step - loss: 931414.8750 - mae: 413.2847 - val_loss: 837782.9375 - val_mae: 416.5881\n",
      "Epoch 10/20\n",
      "11184/11184 [==============================] - 86s 8ms/step - loss: 886805.5625 - mae: 404.5762 - val_loss: 767317.9375 - val_mae: 396.7160\n",
      "Epoch 11/20\n",
      "11184/11184 [==============================] - 88s 8ms/step - loss: 876263.1875 - mae: 402.2113 - val_loss: 684358.2500 - val_mae: 371.8449\n",
      "Epoch 12/20\n",
      "11184/11184 [==============================] - 88s 8ms/step - loss: 850807.7500 - mae: 397.9039 - val_loss: 715696.5000 - val_mae: 406.1325\n",
      "Epoch 13/20\n",
      "11184/11184 [==============================] - 88s 8ms/step - loss: 822301.5625 - mae: 392.6520 - val_loss: 680477.6250 - val_mae: 370.7706\n",
      "Epoch 14/20\n",
      "11184/11184 [==============================] - 90s 8ms/step - loss: 802976.5000 - mae: 388.4099 - val_loss: 690430.5000 - val_mae: 392.0795\n",
      "Epoch 15/20\n",
      "11184/11184 [==============================] - 93s 8ms/step - loss: 766865.0000 - mae: 381.9015 - val_loss: 697304.5000 - val_mae: 381.7664\n",
      "Epoch 16/20\n",
      "11184/11184 [==============================] - 90s 8ms/step - loss: 757622.1875 - mae: 378.8498 - val_loss: 660430.4375 - val_mae: 353.2194\n",
      "Epoch 17/20\n",
      "11184/11184 [==============================] - 90s 8ms/step - loss: 743257.3125 - mae: 375.9611 - val_loss: 588587.8125 - val_mae: 355.8705\n",
      "Epoch 18/20\n",
      "11184/11184 [==============================] - 87s 8ms/step - loss: 714106.0000 - mae: 369.2993 - val_loss: 582074.9375 - val_mae: 335.2510\n",
      "Epoch 19/20\n",
      "11184/11184 [==============================] - 89s 8ms/step - loss: 703151.0000 - mae: 366.4254 - val_loss: 631513.6875 - val_mae: 341.7401\n",
      "Epoch 20/20\n",
      "11184/11184 [==============================] - 88s 8ms/step - loss: 677547.8750 - mae: 361.7979 - val_loss: 659481.8125 - val_mae: 370.9649\n"
     ]
    }
   ],
   "source": [
    "epochs = 20\n",
    "history = model.fit(train_dataset, epochs=epochs, validation_data=val_dataset)"
   ]
  },
  {
   "cell_type": "code",
   "execution_count": 15,
   "id": "UlB9S0vbhMKM",
   "metadata": {
    "id": "UlB9S0vbhMKM"
   },
   "outputs": [],
   "source": [
    "model.save('Crimson_Red_v10_50e.keras')\n",
    "model.save('Crimson_Red_v10_50e.h5')"
   ]
  },
  {
   "cell_type": "code",
   "execution_count": 16,
   "id": "Ln2nM_18hML8",
   "metadata": {
    "colab": {
     "base_uri": "https://localhost:8080/",
     "height": 472
    },
    "id": "Ln2nM_18hML8",
    "outputId": "392d8e97-443b-4a6b-8c6f-5374d1b0f85e"
   },
   "outputs": [
    {
     "data": {
      "image/png": "[encoded data removed]",
      "text/plain": [
       "<Figure size 640x480 with 1 Axes>"
      ]
     },
     "metadata": {},
     "output_type": "display_data"
    }
   ],
   "source": [
    "import matplotlib.pyplot as plt\n",
    "\n",
    "# Assuming history is a dictionary containing the training history\n",
    "history_dict = history.history\n",
    "\n",
    "# Plot training and validation loss\n",
    "loss_values = history_dict['loss']\n",
    "val_loss_values = history_dict['val_loss']\n",
    "\n",
    "epochs = range(1, len(loss_values) + 1)\n",
    "\n",
    "plt.plot(epochs, loss_values, 'r', label='Training Loss')\n",
    "plt.plot(epochs, val_loss_values, 'b', label='Validation Loss')\n",
    "plt.title('Training and Validation Loss')\n",
    "plt.xlabel('Epochs')\n",
    "plt.ylabel('Loss')\n",
    "plt.legend()\n",
    "\n",
    "plt.show()\n"
   ]
  }
 ],
 "metadata": {
  "accelerator": "GPU",
  "colab": {
   "gpuType": "T4",
   "provenance": []
  },
  "kernelspec": {
   "display_name": "Python 3 (ipykernel)",
   "language": "python",
   "name": "python3"
  },
  "language_info": {
   "codemirror_mode": {
    "name": "ipython",
    "version": 3
   },
   "file_extension": ".py",
   "mimetype": "text/x-python",
   "name": "python",
   "nbconvert_exporter": "python",
   "pygments_lexer": "ipython3",
   "version": "3.9.7"
  }
 },
 "nbformat": 4,
 "nbformat_minor": 5
}
