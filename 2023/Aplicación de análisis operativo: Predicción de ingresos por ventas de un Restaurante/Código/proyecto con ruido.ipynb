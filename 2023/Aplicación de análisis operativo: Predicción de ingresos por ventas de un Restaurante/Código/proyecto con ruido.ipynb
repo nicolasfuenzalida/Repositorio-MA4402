{
 "cells": [
  {
   "cell_type": "code",
   "execution_count": 1,
   "metadata": {},
   "outputs": [],
   "source": [
    "import pandas as pd\n",
    "import numpy as np\n",
    "from sklearn.pipeline import Pipeline\n",
    "from sklearn.impute import SimpleImputer\n",
    "from sklearn.preprocessing import StandardScaler, OneHotEncoder\n",
    "from sklearn.compose import ColumnTransformer\n",
    "from sklearn.linear_model import LinearRegression, Ridge\n",
    "from sklearn.metrics import r2_score\n",
    "from sklearn import tree\n",
    "from sklearn.base import BaseEstimator\n",
    "from typing import Type, Callable\n",
    "from sklearn.ensemble import RandomForestRegressor\n",
    "\n",
    "np.random.seed(5)"
   ]
  },
  {
   "cell_type": "code",
   "execution_count": 2,
   "metadata": {},
   "outputs": [
    {
     "data": {
      "text/html": [
       "<div>\n",
       "<style scoped>\n",
       "    .dataframe tbody tr th:only-of-type {\n",
       "        vertical-align: middle;\n",
       "    }\n",
       "\n",
       "    .dataframe tbody tr th {\n",
       "        vertical-align: top;\n",
       "    }\n",
       "\n",
       "    .dataframe thead th {\n",
       "        text-align: right;\n",
       "    }\n",
       "</style>\n",
       "<table border=\"1\" class=\"dataframe\">\n",
       "  <thead>\n",
       "    <tr style=\"text-align: right;\">\n",
       "      <th></th>\n",
       "      <th>Id</th>\n",
       "      <th>Open Date</th>\n",
       "      <th>City</th>\n",
       "      <th>City Group</th>\n",
       "      <th>Type</th>\n",
       "      <th>P1</th>\n",
       "      <th>P2</th>\n",
       "      <th>P3</th>\n",
       "      <th>P4</th>\n",
       "      <th>P5</th>\n",
       "      <th>...</th>\n",
       "      <th>P29</th>\n",
       "      <th>P30</th>\n",
       "      <th>P31</th>\n",
       "      <th>P32</th>\n",
       "      <th>P33</th>\n",
       "      <th>P34</th>\n",
       "      <th>P35</th>\n",
       "      <th>P36</th>\n",
       "      <th>P37</th>\n",
       "      <th>revenue</th>\n",
       "    </tr>\n",
       "  </thead>\n",
       "  <tbody>\n",
       "    <tr>\n",
       "      <th>0</th>\n",
       "      <td>0</td>\n",
       "      <td>07/17/1999</td>\n",
       "      <td>İstanbul</td>\n",
       "      <td>Big Cities</td>\n",
       "      <td>IL</td>\n",
       "      <td>4</td>\n",
       "      <td>5.0</td>\n",
       "      <td>4.0</td>\n",
       "      <td>4.0</td>\n",
       "      <td>2</td>\n",
       "      <td>...</td>\n",
       "      <td>3.0</td>\n",
       "      <td>5</td>\n",
       "      <td>3</td>\n",
       "      <td>4</td>\n",
       "      <td>5</td>\n",
       "      <td>5</td>\n",
       "      <td>4</td>\n",
       "      <td>3</td>\n",
       "      <td>4</td>\n",
       "      <td>5653753.0</td>\n",
       "    </tr>\n",
       "    <tr>\n",
       "      <th>1</th>\n",
       "      <td>1</td>\n",
       "      <td>02/14/2008</td>\n",
       "      <td>Ankara</td>\n",
       "      <td>Big Cities</td>\n",
       "      <td>FC</td>\n",
       "      <td>4</td>\n",
       "      <td>5.0</td>\n",
       "      <td>4.0</td>\n",
       "      <td>4.0</td>\n",
       "      <td>1</td>\n",
       "      <td>...</td>\n",
       "      <td>3.0</td>\n",
       "      <td>0</td>\n",
       "      <td>0</td>\n",
       "      <td>0</td>\n",
       "      <td>0</td>\n",
       "      <td>0</td>\n",
       "      <td>0</td>\n",
       "      <td>0</td>\n",
       "      <td>0</td>\n",
       "      <td>6923131.0</td>\n",
       "    </tr>\n",
       "    <tr>\n",
       "      <th>2</th>\n",
       "      <td>2</td>\n",
       "      <td>03/09/2013</td>\n",
       "      <td>Diyarbakır</td>\n",
       "      <td>Other</td>\n",
       "      <td>IL</td>\n",
       "      <td>2</td>\n",
       "      <td>4.0</td>\n",
       "      <td>2.0</td>\n",
       "      <td>5.0</td>\n",
       "      <td>2</td>\n",
       "      <td>...</td>\n",
       "      <td>3.0</td>\n",
       "      <td>0</td>\n",
       "      <td>0</td>\n",
       "      <td>0</td>\n",
       "      <td>0</td>\n",
       "      <td>0</td>\n",
       "      <td>0</td>\n",
       "      <td>0</td>\n",
       "      <td>0</td>\n",
       "      <td>2055379.0</td>\n",
       "    </tr>\n",
       "    <tr>\n",
       "      <th>3</th>\n",
       "      <td>3</td>\n",
       "      <td>02/02/2012</td>\n",
       "      <td>Tokat</td>\n",
       "      <td>Other</td>\n",
       "      <td>IL</td>\n",
       "      <td>6</td>\n",
       "      <td>4.5</td>\n",
       "      <td>6.0</td>\n",
       "      <td>6.0</td>\n",
       "      <td>4</td>\n",
       "      <td>...</td>\n",
       "      <td>7.5</td>\n",
       "      <td>25</td>\n",
       "      <td>12</td>\n",
       "      <td>10</td>\n",
       "      <td>6</td>\n",
       "      <td>18</td>\n",
       "      <td>12</td>\n",
       "      <td>12</td>\n",
       "      <td>6</td>\n",
       "      <td>2675511.0</td>\n",
       "    </tr>\n",
       "    <tr>\n",
       "      <th>4</th>\n",
       "      <td>4</td>\n",
       "      <td>05/09/2009</td>\n",
       "      <td>Gaziantep</td>\n",
       "      <td>Other</td>\n",
       "      <td>IL</td>\n",
       "      <td>3</td>\n",
       "      <td>4.0</td>\n",
       "      <td>3.0</td>\n",
       "      <td>4.0</td>\n",
       "      <td>2</td>\n",
       "      <td>...</td>\n",
       "      <td>3.0</td>\n",
       "      <td>5</td>\n",
       "      <td>1</td>\n",
       "      <td>3</td>\n",
       "      <td>2</td>\n",
       "      <td>3</td>\n",
       "      <td>4</td>\n",
       "      <td>3</td>\n",
       "      <td>3</td>\n",
       "      <td>4316715.0</td>\n",
       "    </tr>\n",
       "  </tbody>\n",
       "</table>\n",
       "<p>5 rows × 43 columns</p>\n",
       "</div>"
      ],
      "text/plain": [
       "   Id   Open Date        City  City Group Type  P1   P2   P3   P4  P5  ...  \\\n",
       "0   0  07/17/1999    İstanbul  Big Cities   IL   4  5.0  4.0  4.0   2  ...   \n",
       "1   1  02/14/2008      Ankara  Big Cities   FC   4  5.0  4.0  4.0   1  ...   \n",
       "2   2  03/09/2013  Diyarbakır       Other   IL   2  4.0  2.0  5.0   2  ...   \n",
       "3   3  02/02/2012       Tokat       Other   IL   6  4.5  6.0  6.0   4  ...   \n",
       "4   4  05/09/2009   Gaziantep       Other   IL   3  4.0  3.0  4.0   2  ...   \n",
       "\n",
       "   P29  P30  P31  P32  P33  P34  P35  P36  P37    revenue  \n",
       "0  3.0    5    3    4    5    5    4    3    4  5653753.0  \n",
       "1  3.0    0    0    0    0    0    0    0    0  6923131.0  \n",
       "2  3.0    0    0    0    0    0    0    0    0  2055379.0  \n",
       "3  7.5   25   12   10    6   18   12   12    6  2675511.0  \n",
       "4  3.0    5    1    3    2    3    4    3    3  4316715.0  \n",
       "\n",
       "[5 rows x 43 columns]"
      ]
     },
     "execution_count": 2,
     "metadata": {},
     "output_type": "execute_result"
    }
   ],
   "source": [
    "def load_data():\n",
    "    csv_path = \"train.csv\"\n",
    "    return pd.read_csv(csv_path)\n",
    "\n",
    "database = load_data()\n",
    "database.head()"
   ]
  },
  {
   "cell_type": "code",
   "execution_count": 3,
   "metadata": {},
   "outputs": [
    {
     "data": {
      "text/plain": [
       "Index(['Id', 'Open Date', 'City', 'City Group', 'Type', 'P1', 'P2', 'P3', 'P4',\n",
       "       'P5', 'P6', 'P7', 'P8', 'P9', 'P10', 'P11', 'P12', 'P13', 'P14', 'P15',\n",
       "       'P16', 'P17', 'P18', 'P19', 'P20', 'P21', 'P22', 'P23', 'P24', 'P25',\n",
       "       'P26', 'P27', 'P28', 'P29', 'P30', 'P31', 'P32', 'P33', 'P34', 'P35',\n",
       "       'P36', 'P37', 'revenue'],\n",
       "      dtype='object')"
      ]
     },
     "execution_count": 3,
     "metadata": {},
     "output_type": "execute_result"
    }
   ],
   "source": [
    "database.columns"
   ]
  },
  {
   "cell_type": "code",
   "execution_count": 4,
   "metadata": {},
   "outputs": [],
   "source": [
    "for i in range(1,38):\n",
    "    column_name = f'P{i}'\n",
    "    database[column_name] += np.random.normal(loc=0, scale=0.1, size=len(database))"
   ]
  },
  {
   "cell_type": "code",
   "execution_count": 5,
   "metadata": {},
   "outputs": [
    {
     "data": {
      "text/html": [
       "<div>\n",
       "<style scoped>\n",
       "    .dataframe tbody tr th:only-of-type {\n",
       "        vertical-align: middle;\n",
       "    }\n",
       "\n",
       "    .dataframe tbody tr th {\n",
       "        vertical-align: top;\n",
       "    }\n",
       "\n",
       "    .dataframe thead th {\n",
       "        text-align: right;\n",
       "    }\n",
       "</style>\n",
       "<table border=\"1\" class=\"dataframe\">\n",
       "  <thead>\n",
       "    <tr style=\"text-align: right;\">\n",
       "      <th></th>\n",
       "      <th>Id</th>\n",
       "      <th>Open Date</th>\n",
       "      <th>City</th>\n",
       "      <th>City Group</th>\n",
       "      <th>Type</th>\n",
       "      <th>P1</th>\n",
       "      <th>P2</th>\n",
       "      <th>P3</th>\n",
       "      <th>P4</th>\n",
       "      <th>P5</th>\n",
       "      <th>...</th>\n",
       "      <th>P29</th>\n",
       "      <th>P30</th>\n",
       "      <th>P31</th>\n",
       "      <th>P32</th>\n",
       "      <th>P33</th>\n",
       "      <th>P34</th>\n",
       "      <th>P35</th>\n",
       "      <th>P36</th>\n",
       "      <th>P37</th>\n",
       "      <th>revenue</th>\n",
       "    </tr>\n",
       "  </thead>\n",
       "  <tbody>\n",
       "    <tr>\n",
       "      <th>0</th>\n",
       "      <td>0</td>\n",
       "      <td>07/17/1999</td>\n",
       "      <td>İstanbul</td>\n",
       "      <td>Big Cities</td>\n",
       "      <td>IL</td>\n",
       "      <td>4.044123</td>\n",
       "      <td>5.070980</td>\n",
       "      <td>4.144295</td>\n",
       "      <td>3.885100</td>\n",
       "      <td>2.143271</td>\n",
       "      <td>...</td>\n",
       "      <td>2.926795</td>\n",
       "      <td>5.197823</td>\n",
       "      <td>2.894935</td>\n",
       "      <td>4.075853</td>\n",
       "      <td>4.876688</td>\n",
       "      <td>4.996042</td>\n",
       "      <td>3.993054</td>\n",
       "      <td>3.095695</td>\n",
       "      <td>4.039992</td>\n",
       "      <td>5653753.0</td>\n",
       "    </tr>\n",
       "    <tr>\n",
       "      <th>1</th>\n",
       "      <td>1</td>\n",
       "      <td>02/14/2008</td>\n",
       "      <td>Ankara</td>\n",
       "      <td>Big Cities</td>\n",
       "      <td>FC</td>\n",
       "      <td>3.966913</td>\n",
       "      <td>5.074715</td>\n",
       "      <td>3.875600</td>\n",
       "      <td>3.863484</td>\n",
       "      <td>0.935838</td>\n",
       "      <td>...</td>\n",
       "      <td>3.178976</td>\n",
       "      <td>0.011086</td>\n",
       "      <td>0.078483</td>\n",
       "      <td>0.030565</td>\n",
       "      <td>0.116402</td>\n",
       "      <td>-0.222511</td>\n",
       "      <td>-0.134362</td>\n",
       "      <td>-0.064968</td>\n",
       "      <td>0.092304</td>\n",
       "      <td>6923131.0</td>\n",
       "    </tr>\n",
       "    <tr>\n",
       "      <th>2</th>\n",
       "      <td>2</td>\n",
       "      <td>03/09/2013</td>\n",
       "      <td>Diyarbakır</td>\n",
       "      <td>Other</td>\n",
       "      <td>IL</td>\n",
       "      <td>2.243077</td>\n",
       "      <td>4.146310</td>\n",
       "      <td>2.062888</td>\n",
       "      <td>4.921076</td>\n",
       "      <td>1.889147</td>\n",
       "      <td>...</td>\n",
       "      <td>2.871157</td>\n",
       "      <td>0.063734</td>\n",
       "      <td>0.122052</td>\n",
       "      <td>-0.178183</td>\n",
       "      <td>0.103369</td>\n",
       "      <td>-0.137776</td>\n",
       "      <td>0.074223</td>\n",
       "      <td>-0.153699</td>\n",
       "      <td>-0.077217</td>\n",
       "      <td>2055379.0</td>\n",
       "    </tr>\n",
       "    <tr>\n",
       "      <th>3</th>\n",
       "      <td>3</td>\n",
       "      <td>02/02/2012</td>\n",
       "      <td>Tokat</td>\n",
       "      <td>Other</td>\n",
       "      <td>IL</td>\n",
       "      <td>5.974791</td>\n",
       "      <td>4.673845</td>\n",
       "      <td>5.957441</td>\n",
       "      <td>6.072996</td>\n",
       "      <td>3.810530</td>\n",
       "      <td>...</td>\n",
       "      <td>7.431931</td>\n",
       "      <td>24.935029</td>\n",
       "      <td>12.017341</td>\n",
       "      <td>9.817811</td>\n",
       "      <td>6.011682</td>\n",
       "      <td>17.979468</td>\n",
       "      <td>12.129175</td>\n",
       "      <td>11.887015</td>\n",
       "      <td>5.950585</td>\n",
       "      <td>2675511.0</td>\n",
       "    </tr>\n",
       "    <tr>\n",
       "      <th>4</th>\n",
       "      <td>4</td>\n",
       "      <td>05/09/2009</td>\n",
       "      <td>Gaziantep</td>\n",
       "      <td>Other</td>\n",
       "      <td>IL</td>\n",
       "      <td>3.010961</td>\n",
       "      <td>4.146520</td>\n",
       "      <td>3.100321</td>\n",
       "      <td>3.918612</td>\n",
       "      <td>2.000622</td>\n",
       "      <td>...</td>\n",
       "      <td>2.903065</td>\n",
       "      <td>4.954610</td>\n",
       "      <td>1.108884</td>\n",
       "      <td>2.958862</td>\n",
       "      <td>1.879918</td>\n",
       "      <td>2.896871</td>\n",
       "      <td>4.093422</td>\n",
       "      <td>3.147932</td>\n",
       "      <td>3.158667</td>\n",
       "      <td>4316715.0</td>\n",
       "    </tr>\n",
       "  </tbody>\n",
       "</table>\n",
       "<p>5 rows × 43 columns</p>\n",
       "</div>"
      ],
      "text/plain": [
       "   Id   Open Date        City  City Group Type        P1        P2        P3  \\\n",
       "0   0  07/17/1999    İstanbul  Big Cities   IL  4.044123  5.070980  4.144295   \n",
       "1   1  02/14/2008      Ankara  Big Cities   FC  3.966913  5.074715  3.875600   \n",
       "2   2  03/09/2013  Diyarbakır       Other   IL  2.243077  4.146310  2.062888   \n",
       "3   3  02/02/2012       Tokat       Other   IL  5.974791  4.673845  5.957441   \n",
       "4   4  05/09/2009   Gaziantep       Other   IL  3.010961  4.146520  3.100321   \n",
       "\n",
       "         P4        P5  ...       P29        P30        P31       P32  \\\n",
       "0  3.885100  2.143271  ...  2.926795   5.197823   2.894935  4.075853   \n",
       "1  3.863484  0.935838  ...  3.178976   0.011086   0.078483  0.030565   \n",
       "2  4.921076  1.889147  ...  2.871157   0.063734   0.122052 -0.178183   \n",
       "3  6.072996  3.810530  ...  7.431931  24.935029  12.017341  9.817811   \n",
       "4  3.918612  2.000622  ...  2.903065   4.954610   1.108884  2.958862   \n",
       "\n",
       "        P33        P34        P35        P36       P37    revenue  \n",
       "0  4.876688   4.996042   3.993054   3.095695  4.039992  5653753.0  \n",
       "1  0.116402  -0.222511  -0.134362  -0.064968  0.092304  6923131.0  \n",
       "2  0.103369  -0.137776   0.074223  -0.153699 -0.077217  2055379.0  \n",
       "3  6.011682  17.979468  12.129175  11.887015  5.950585  2675511.0  \n",
       "4  1.879918   2.896871   4.093422   3.147932  3.158667  4316715.0  \n",
       "\n",
       "[5 rows x 43 columns]"
      ]
     },
     "execution_count": 5,
     "metadata": {},
     "output_type": "execute_result"
    }
   ],
   "source": [
    "database.head()"
   ]
  },
  {
   "cell_type": "code",
   "execution_count": 6,
   "metadata": {},
   "outputs": [],
   "source": [
    "num_attribs = database.columns[5:-1]\n",
    "cat_attribs = [\"City\", \"City Group\", \"Type\"]\n",
    "\n",
    "num_pipeline = Pipeline([\n",
    "    ('imputer', SimpleImputer(strategy='median')),  # Imputación de valores faltantes usando la mediana\n",
    "    ('scaler', StandardScaler())  # Escalado de características para normalizar los datos\n",
    "])\n",
    "\n",
    "cat_pipeline = Pipeline([\n",
    "    (\"encoder\", OneHotEncoder())\n",
    "])\n",
    "\n",
    "full_pipeline = ColumnTransformer([\n",
    "    (\"categorical\", cat_pipeline, cat_attribs),\n",
    "    (\"numerical\", num_pipeline, num_attribs)\n",
    "])\n",
    "\n",
    "data_prepared = full_pipeline.fit_transform(database)\n",
    "data_labels = database[\"revenue\"].copy()"
   ]
  },
  {
   "cell_type": "code",
   "execution_count": 7,
   "metadata": {},
   "outputs": [
    {
     "name": "stdout",
     "output_type": "stream",
     "text": [
      "Número de columnas en data_prepared: 76\n",
      "Nombres de las columnas en data_prepared:\n"
     ]
    }
   ],
   "source": [
    "print(\"Número de columnas en data_prepared:\", data_prepared.shape[1])\n",
    "print(\"Nombres de las columnas en data_prepared:\")"
   ]
  },
  {
   "cell_type": "code",
   "execution_count": 8,
   "metadata": {},
   "outputs": [
    {
     "data": {
      "text/plain": [
       "array([[ 0.        ,  0.        ,  0.        , ...,  0.5744861 ,\n",
       "         0.21588898,  1.64455541],\n",
       "       [ 0.        ,  0.        ,  0.        , ..., -0.62874628,\n",
       "        -0.54827291, -0.57608868],\n",
       "       [ 0.        ,  0.        ,  0.        , ..., -0.56793913,\n",
       "        -0.56972545, -0.67144697],\n",
       "       ...,\n",
       "       [ 0.        ,  0.        ,  0.        , ..., -0.59641685,\n",
       "        -0.56288493, -0.65656255],\n",
       "       [ 0.        ,  0.        ,  0.        , ..., -0.60946948,\n",
       "        -0.58953493, -0.7263346 ],\n",
       "       [ 0.        ,  0.        ,  0.        , ..., -0.60641931,\n",
       "        -0.51113641, -0.58291116]])"
      ]
     },
     "execution_count": 8,
     "metadata": {},
     "output_type": "execute_result"
    }
   ],
   "source": [
    "data_prepared"
   ]
  },
  {
   "cell_type": "code",
   "execution_count": 9,
   "metadata": {},
   "outputs": [
    {
     "data": {
      "text/html": [
       "<style>#sk-container-id-1 {color: black;}#sk-container-id-1 pre{padding: 0;}#sk-container-id-1 div.sk-toggleable {background-color: white;}#sk-container-id-1 label.sk-toggleable__label {cursor: pointer;display: block;width: 100%;margin-bottom: 0;padding: 0.3em;box-sizing: border-box;text-align: center;}#sk-container-id-1 label.sk-toggleable__label-arrow:before {content: \"▸\";float: left;margin-right: 0.25em;color: #696969;}#sk-container-id-1 label.sk-toggleable__label-arrow:hover:before {color: black;}#sk-container-id-1 div.sk-estimator:hover label.sk-toggleable__label-arrow:before {color: black;}#sk-container-id-1 div.sk-toggleable__content {max-height: 0;max-width: 0;overflow: hidden;text-align: left;background-color: #f0f8ff;}#sk-container-id-1 div.sk-toggleable__content pre {margin: 0.2em;color: black;border-radius: 0.25em;background-color: #f0f8ff;}#sk-container-id-1 input.sk-toggleable__control:checked~div.sk-toggleable__content {max-height: 200px;max-width: 100%;overflow: auto;}#sk-container-id-1 input.sk-toggleable__control:checked~label.sk-toggleable__label-arrow:before {content: \"▾\";}#sk-container-id-1 div.sk-estimator input.sk-toggleable__control:checked~label.sk-toggleable__label {background-color: #d4ebff;}#sk-container-id-1 div.sk-label input.sk-toggleable__control:checked~label.sk-toggleable__label {background-color: #d4ebff;}#sk-container-id-1 input.sk-hidden--visually {border: 0;clip: rect(1px 1px 1px 1px);clip: rect(1px, 1px, 1px, 1px);height: 1px;margin: -1px;overflow: hidden;padding: 0;position: absolute;width: 1px;}#sk-container-id-1 div.sk-estimator {font-family: monospace;background-color: #f0f8ff;border: 1px dotted black;border-radius: 0.25em;box-sizing: border-box;margin-bottom: 0.5em;}#sk-container-id-1 div.sk-estimator:hover {background-color: #d4ebff;}#sk-container-id-1 div.sk-parallel-item::after {content: \"\";width: 100%;border-bottom: 1px solid gray;flex-grow: 1;}#sk-container-id-1 div.sk-label:hover label.sk-toggleable__label {background-color: #d4ebff;}#sk-container-id-1 div.sk-serial::before {content: \"\";position: absolute;border-left: 1px solid gray;box-sizing: border-box;top: 0;bottom: 0;left: 50%;z-index: 0;}#sk-container-id-1 div.sk-serial {display: flex;flex-direction: column;align-items: center;background-color: white;padding-right: 0.2em;padding-left: 0.2em;position: relative;}#sk-container-id-1 div.sk-item {position: relative;z-index: 1;}#sk-container-id-1 div.sk-parallel {display: flex;align-items: stretch;justify-content: center;background-color: white;position: relative;}#sk-container-id-1 div.sk-item::before, #sk-container-id-1 div.sk-parallel-item::before {content: \"\";position: absolute;border-left: 1px solid gray;box-sizing: border-box;top: 0;bottom: 0;left: 50%;z-index: -1;}#sk-container-id-1 div.sk-parallel-item {display: flex;flex-direction: column;z-index: 1;position: relative;background-color: white;}#sk-container-id-1 div.sk-parallel-item:first-child::after {align-self: flex-end;width: 50%;}#sk-container-id-1 div.sk-parallel-item:last-child::after {align-self: flex-start;width: 50%;}#sk-container-id-1 div.sk-parallel-item:only-child::after {width: 0;}#sk-container-id-1 div.sk-dashed-wrapped {border: 1px dashed gray;margin: 0 0.4em 0.5em 0.4em;box-sizing: border-box;padding-bottom: 0.4em;background-color: white;}#sk-container-id-1 div.sk-label label {font-family: monospace;font-weight: bold;display: inline-block;line-height: 1.2em;}#sk-container-id-1 div.sk-label-container {text-align: center;}#sk-container-id-1 div.sk-container {/* jupyter's `normalize.less` sets `[hidden] { display: none; }` but bootstrap.min.css set `[hidden] { display: none !important; }` so we also need the `!important` here to be able to override the default hidden behavior on the sphinx rendered scikit-learn.org. See: https://github.com/scikit-learn/scikit-learn/issues/21755 */display: inline-block !important;position: relative;}#sk-container-id-1 div.sk-text-repr-fallback {display: none;}</style><div id=\"sk-container-id-1\" class=\"sk-top-container\"><div class=\"sk-text-repr-fallback\"><pre>LinearRegression()</pre><b>In a Jupyter environment, please rerun this cell to show the HTML representation or trust the notebook. <br />On GitHub, the HTML representation is unable to render, please try loading this page with nbviewer.org.</b></div><div class=\"sk-container\" hidden><div class=\"sk-item\"><div class=\"sk-estimator sk-toggleable\"><input class=\"sk-toggleable__control sk-hidden--visually\" id=\"sk-estimator-id-1\" type=\"checkbox\" checked><label for=\"sk-estimator-id-1\" class=\"sk-toggleable__label sk-toggleable__label-arrow\">LinearRegression</label><div class=\"sk-toggleable__content\"><pre>LinearRegression()</pre></div></div></div></div></div>"
      ],
      "text/plain": [
       "LinearRegression()"
      ]
     },
     "execution_count": 9,
     "metadata": {},
     "output_type": "execute_result"
    }
   ],
   "source": [
    "lin_reg = LinearRegression()\n",
    "lin_reg.fit(data_prepared, data_labels)"
   ]
  },
  {
   "cell_type": "code",
   "execution_count": 10,
   "metadata": {},
   "outputs": [
    {
     "name": "stdout",
     "output_type": "stream",
     "text": [
      "Coeficiente de determinación de regresión lineal (R²): 0.4773351275986826\n"
     ]
    }
   ],
   "source": [
    "predictions_lin = lin_reg.predict(data_prepared)\n",
    "r2_lin = r2_score(data_labels, predictions_lin)\n",
    "print(f\"Coeficiente de determinación de regresión lineal (R²): {r2_lin}\")"
   ]
  },
  {
   "cell_type": "code",
   "execution_count": 11,
   "metadata": {},
   "outputs": [],
   "source": [
    "d_tree = tree.DecisionTreeRegressor(max_depth=8,max_features=0.75,random_state=5)\n",
    "d_tree = d_tree.fit(data_prepared, data_labels)"
   ]
  },
  {
   "cell_type": "code",
   "execution_count": 12,
   "metadata": {},
   "outputs": [
    {
     "name": "stdout",
     "output_type": "stream",
     "text": [
      "Coeficiente de determinación decision tree (R²): 0.8472308286703703\n"
     ]
    }
   ],
   "source": [
    "predictions_dt = d_tree.predict(data_prepared)\n",
    "r2_dt = r2_score(data_labels, predictions_dt)\n",
    "print(f\"Coeficiente de determinación decision tree (R²): {r2_dt}\")"
   ]
  },
  {
   "cell_type": "code",
   "execution_count": 13,
   "metadata": {},
   "outputs": [
    {
     "name": "stdout",
     "output_type": "stream",
     "text": [
      "Coeficiente de determinación de regresión ridge (R²): 0.46970545092571936\n"
     ]
    }
   ],
   "source": [
    "ridge_reg = Ridge(alpha=0.1, solver='cholesky')\n",
    "ridge_reg = ridge_reg.fit(data_prepared, data_labels)\n",
    "predictions_ridge = ridge_reg.predict(data_prepared)\n",
    "r2_ridge = r2_score(data_labels, predictions_ridge)\n",
    "print(f\"Coeficiente de determinación de regresión ridge (R²): {r2_ridge}\")"
   ]
  },
  {
   "cell_type": "code",
   "execution_count": 14,
   "metadata": {},
   "outputs": [
    {
     "data": {
      "text/plain": [
       "numpy.ndarray"
      ]
     },
     "execution_count": 14,
     "metadata": {},
     "output_type": "execute_result"
    }
   ],
   "source": [
    "type(data_prepared)"
   ]
  },
  {
   "cell_type": "code",
   "execution_count": 15,
   "metadata": {},
   "outputs": [],
   "source": [
    "def weighted_model_creator(models: list[Type[BaseEstimator]], models_proportions: np.array) -> Callable[[np.ndarray], np.ndarray]:\n",
    "    '''\n",
    "    Retorna una función que pondera distintos modelos de scikit para predecir un valor.\n",
    "\n",
    "    Parámetros\n",
    "    ----------\n",
    "    models : list[type[BaseEstimator]]\n",
    "        Lista de modelos de scikit-learn ya entrenados con los datos.\n",
    "\n",
    "    models_proportions : np.array()\n",
    "        Lista de ponderación de los distintos modelos (en orden respectivo) para la predicción.\n",
    "\n",
    "    Returns\n",
    "    -------\n",
    "    weighted_model_predictor : function\n",
    "        Función que recibe data y retorna una predicción ponderando los modelos.\n",
    "    '''\n",
    "\n",
    "    def weighted_model_predictor(data: np.ndarray) -> np.ndarray:\n",
    "        number_of_rows = data.shape[0]\n",
    "        acumulated_sum = np.zeros(number_of_rows)\n",
    "        for model, proportion in zip(models, models_proportions):\n",
    "            acumulated_sum += model.predict(data) * proportion\n",
    "        ponderation = acumulated_sum / np.sum(models_proportions)\n",
    "        return ponderation\n",
    "\n",
    "    return weighted_model_predictor\n"
   ]
  },
  {
   "cell_type": "code",
   "execution_count": 16,
   "metadata": {},
   "outputs": [
    {
     "data": {
      "text/html": [
       "<div>\n",
       "<style scoped>\n",
       "    .dataframe tbody tr th:only-of-type {\n",
       "        vertical-align: middle;\n",
       "    }\n",
       "\n",
       "    .dataframe tbody tr th {\n",
       "        vertical-align: top;\n",
       "    }\n",
       "\n",
       "    .dataframe thead th {\n",
       "        text-align: right;\n",
       "    }\n",
       "</style>\n",
       "<table border=\"1\" class=\"dataframe\">\n",
       "  <thead>\n",
       "    <tr style=\"text-align: right;\">\n",
       "      <th>Setting</th>\n",
       "      <th>0</th>\n",
       "      <th>1</th>\n",
       "      <th>2</th>\n",
       "      <th>3</th>\n",
       "      <th>4</th>\n",
       "      <th>5</th>\n",
       "      <th>6</th>\n",
       "      <th>7</th>\n",
       "      <th>8</th>\n",
       "      <th>9</th>\n",
       "      <th>10</th>\n",
       "      <th>11</th>\n",
       "    </tr>\n",
       "  </thead>\n",
       "  <tbody>\n",
       "    <tr>\n",
       "      <th>W1</th>\n",
       "      <td>1.000000</td>\n",
       "      <td>1.000000</td>\n",
       "      <td>1.000000</td>\n",
       "      <td>1.000000</td>\n",
       "      <td>1.000000</td>\n",
       "      <td>1.000000</td>\n",
       "      <td>1.000000</td>\n",
       "      <td>1.000000</td>\n",
       "      <td>1.000000</td>\n",
       "      <td>2.000000</td>\n",
       "      <td>3.000000</td>\n",
       "      <td>2.000000</td>\n",
       "    </tr>\n",
       "    <tr>\n",
       "      <th>W2</th>\n",
       "      <td>1.000000</td>\n",
       "      <td>1.000000</td>\n",
       "      <td>1.000000</td>\n",
       "      <td>1.000000</td>\n",
       "      <td>1.000000</td>\n",
       "      <td>1.000000</td>\n",
       "      <td>1.000000</td>\n",
       "      <td>1.000000</td>\n",
       "      <td>1.000000</td>\n",
       "      <td>1.000000</td>\n",
       "      <td>1.000000</td>\n",
       "      <td>2.000000</td>\n",
       "    </tr>\n",
       "    <tr>\n",
       "      <th>W3</th>\n",
       "      <td>1.000000</td>\n",
       "      <td>2.000000</td>\n",
       "      <td>3.000000</td>\n",
       "      <td>4.000000</td>\n",
       "      <td>5.000000</td>\n",
       "      <td>6.000000</td>\n",
       "      <td>7.000000</td>\n",
       "      <td>8.000000</td>\n",
       "      <td>11.000000</td>\n",
       "      <td>10.000000</td>\n",
       "      <td>10.000000</td>\n",
       "      <td>10.000000</td>\n",
       "    </tr>\n",
       "    <tr>\n",
       "      <th>R2 score (%)</th>\n",
       "      <td>71.940368</td>\n",
       "      <td>79.636783</td>\n",
       "      <td>82.814397</td>\n",
       "      <td>84.332707</td>\n",
       "      <td>85.123289</td>\n",
       "      <td>85.555485</td>\n",
       "      <td>85.796384</td>\n",
       "      <td>85.929093</td>\n",
       "      <td>86.034278</td>\n",
       "      <td>85.773825</td>\n",
       "      <td>85.198814</td>\n",
       "      <td>85.123289</td>\n",
       "    </tr>\n",
       "  </tbody>\n",
       "</table>\n",
       "</div>"
      ],
      "text/plain": [
       "Setting              0          1          2          3          4   \\\n",
       "W1             1.000000   1.000000   1.000000   1.000000   1.000000   \n",
       "W2             1.000000   1.000000   1.000000   1.000000   1.000000   \n",
       "W3             1.000000   2.000000   3.000000   4.000000   5.000000   \n",
       "R2 score (%)  71.940368  79.636783  82.814397  84.332707  85.123289   \n",
       "\n",
       "Setting              5          6          7          8          9   \\\n",
       "W1             1.000000   1.000000   1.000000   1.000000   2.000000   \n",
       "W2             1.000000   1.000000   1.000000   1.000000   1.000000   \n",
       "W3             6.000000   7.000000   8.000000  11.000000  10.000000   \n",
       "R2 score (%)  85.555485  85.796384  85.929093  86.034278  85.773825   \n",
       "\n",
       "Setting              10         11  \n",
       "W1             3.000000   2.000000  \n",
       "W2             1.000000   2.000000  \n",
       "W3            10.000000  10.000000  \n",
       "R2 score (%)  85.198814  85.123289  "
      ]
     },
     "execution_count": 16,
     "metadata": {},
     "output_type": "execute_result"
    }
   ],
   "source": [
    "list_of_models = [lin_reg, ridge_reg, d_tree]\n",
    "list_of_different_ponderations = [\n",
    "    [1, 1, 1], [1, 1, 2], [1, 1, 3], [1, 1, 4], [1, 1, 5],\n",
    "    [1, 1, 6], [1, 1, 7], [1, 1, 8], [1, 1, 11], [2, 1, 10],\n",
    "    [3, 1, 10], [2, 2, 10]\n",
    "]\n",
    "\n",
    "results = []\n",
    "\n",
    "for i, ponderations in enumerate(list_of_different_ponderations):\n",
    "    weighted_model = weighted_model_creator(list_of_models, ponderations)\n",
    "    prediction = weighted_model(data_prepared)\n",
    "    r2 = r2_score(data_labels, prediction)\n",
    "    results.append({'Setting': i, 'W1': ponderations[0], 'W2': ponderations[1], 'W3': ponderations[2], 'R2 score (%)': r2*100})\n",
    "\n",
    "df = pd.DataFrame(results)\n",
    "df_transposed = df.set_index('Setting').T\n",
    "df_transposed"
   ]
  },
  {
   "cell_type": "code",
   "execution_count": 17,
   "metadata": {},
   "outputs": [],
   "source": [
    "reg = RandomForestRegressor(n_estimators=20, max_depth=8, max_features=0.75, random_state=5)\n",
    "random_f = reg.fit(data_prepared, data_labels)"
   ]
  },
  {
   "cell_type": "code",
   "execution_count": 18,
   "metadata": {},
   "outputs": [
    {
     "name": "stdout",
     "output_type": "stream",
     "text": [
      "Coeficiente de determinación de random forest (R²): 0.8380794139195342\n"
     ]
    }
   ],
   "source": [
    "predictions_rf = random_f.predict(data_prepared)\n",
    "r2_rf = r2_score(data_labels, predictions_rf)\n",
    "print(f\"Coeficiente de determinación de random forest (R²): {r2_rf}\")"
   ]
  },
  {
   "cell_type": "code",
   "execution_count": 19,
   "metadata": {},
   "outputs": [
    {
     "name": "stdout",
     "output_type": "stream",
     "text": [
      "Pesos óptimos: [ 0.4961639  -0.21511473  0.86572498]\n",
      "Término de sesgo: -653448.5299222348\n"
     ]
    }
   ],
   "source": [
    "predictions_baseModels = np.column_stack((predictions_lin, predictions_ridge, predictions_dt))\n",
    "\n",
    "weights_lin_model = LinearRegression()\n",
    "weights_lin_model.fit(predictions_baseModels, data_labels)\n",
    "\n",
    "optimal_weights = weights_lin_model.coef_\n",
    "intercept = weights_lin_model.intercept_\n",
    "\n",
    "print(\"Pesos óptimos:\", optimal_weights)\n",
    "print(\"Término de sesgo:\", intercept)"
   ]
  },
  {
   "cell_type": "code",
   "execution_count": 20,
   "metadata": {},
   "outputs": [
    {
     "name": "stdout",
     "output_type": "stream",
     "text": [
      "Coeficiente de determinación de Second Stage Model (R²): 0.8588087021660439\n"
     ]
    }
   ],
   "source": [
    "secondStage_model = weighted_model_creator(list_of_models, optimal_weights)\n",
    "predictions_sS = secondStage_model(data_prepared)\n",
    "r2_sS = r2_score(data_labels, predictions_sS)\n",
    "print(f\"Coeficiente de determinación de Second Stage Model (R²): {r2_sS}\")"
   ]
  },
  {
   "cell_type": "code",
   "execution_count": 21,
   "metadata": {},
   "outputs": [
    {
     "name": "stdout",
     "output_type": "stream",
     "text": [
      "Coeficiente de determinación de regresión lineal (R²): 0.4773351275986826\n",
      "Coeficiente de determinación de regresión ridge (R²): 0.46970545092571936\n",
      "Coeficiente de determinación decision tree (R²): 0.8472308286703703\n",
      "Coeficiente de determinación de random forest (R²): 0.8380794139195342\n",
      "Coeficiente de determinación de Second Stage Model (R²): 0.8588087021660439\n"
     ]
    }
   ],
   "source": [
    "print(f\"Coeficiente de determinación de regresión lineal (R²): {r2_lin}\")\n",
    "print(f\"Coeficiente de determinación de regresión ridge (R²): {r2_ridge}\")\n",
    "print(f\"Coeficiente de determinación decision tree (R²): {r2_dt}\")\n",
    "print(f\"Coeficiente de determinación de random forest (R²): {r2_rf}\")\n",
    "print(f\"Coeficiente de determinación de Second Stage Model (R²): {r2_sS}\")"
   ]
  },
  {
   "cell_type": "code",
   "execution_count": 22,
   "metadata": {},
   "outputs": [],
   "source": [
    "final_model = secondStage_model"
   ]
  }
 ],
 "metadata": {
  "kernelspec": {
   "display_name": "Python 3",
   "language": "python",
   "name": "python3"
  },
  "language_info": {
   "codemirror_mode": {
    "name": "ipython",
    "version": 3
   },
   "file_extension": ".py",
   "mimetype": "text/x-python",
   "name": "python",
   "nbconvert_exporter": "python",
   "pygments_lexer": "ipython3",
   "version": "3.11.4"
  }
 },
 "nbformat": 4,
 "nbformat_minor": 2
}
