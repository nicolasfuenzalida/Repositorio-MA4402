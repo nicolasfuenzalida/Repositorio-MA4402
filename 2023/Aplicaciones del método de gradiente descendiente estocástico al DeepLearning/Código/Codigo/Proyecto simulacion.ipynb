{
 "cells": [
  {
   "cell_type": "markdown",
   "metadata": {
    "id": "Ylj46vvADpXX"
   },
   "source": [
    "<h1 align=\"center\"> Proyecto Simulación Estocástica:\n",
    "\n",
    "\n",
    "Aplicación del Método de Descenso del Gradiente Estocástico y ADAM para entrenar una Red Neuronal para predecir resultados en la PAES específica de matemáticas.\n",
    "\n",
    "\n",
    "<h2 align=\"center\">  Integrantes: Sebastián Sabat y Rocío Yáñez\n",
    "<h3 align=\"center\"> MA4402 - Simulación Estocástica.\n",
    "<h3 align=\"center\"> Primavera 2023\n",
    "\n",
    "---"
   ]
  },
  {
   "cell_type": "markdown",
   "metadata": {
    "id": "xFJKol4FI9qx"
   },
   "source": [
    "**OBJETIVO DE LA INVESTIGACIÓN:**"
   ]
  },
  {
   "cell_type": "markdown",
   "metadata": {
    "id": "40SlVXjUI1DR"
   },
   "source": [
    "Desarrollar un predictor vía Deep Learning que permita conocer el rendimiento en la prueba específica de matemáticas a partir de una colección de datos de entrada y minimizar la función de pérdida bajo un método estocástico (SGD) y un método determinista (ADAM)."
   ]
  },
  {
   "cell_type": "markdown",
   "metadata": {
    "id": "3aSCyIhoJFQI"
   },
   "source": [
    "**METODOLOGÍA**"
   ]
  },
  {
   "cell_type": "markdown",
   "metadata": {
    "id": "jA21unnEJIBY"
   },
   "source": [
    "El proceso se dividió en tres grandes bloques:\n",
    "\n",
    "1. Análisis exploratorio y filtrado de los datos.\n",
    "2. Búsqueda de atributos predictores.\n",
    "3. Desarrollo de la Red Neuronal y minimización de la función de pérdida para ambos métodos.\n"
   ]
  },
  {
   "cell_type": "markdown",
   "metadata": {
    "id": "JLR1tiUJDxEd"
   },
   "source": [
    "## PRELIMINARES"
   ]
  },
  {
   "cell_type": "code",
   "execution_count": 1,
   "metadata": {
    "colab": {
     "base_uri": "https://localhost:8080/"
    },
    "id": "MaUuB9NpISjb",
    "outputId": "e39fff32-889f-4c13-f973-28c19c4bc2a8"
   },
   "outputs": [
    {
     "name": "stdout",
     "output_type": "stream",
     "text": [
      "Requirement already satisfied: pyreadstat in c:\\users\\yo\\miniconda3\\lib\\site-packages (1.2.6)\n",
      "Requirement already satisfied: pandas>=1.2.0 in c:\\users\\yo\\miniconda3\\lib\\site-packages (from pyreadstat) (2.1.4)\n",
      "Requirement already satisfied: numpy<2,>=1.23.2 in c:\\users\\yo\\miniconda3\\lib\\site-packages (from pandas>=1.2.0->pyreadstat) (1.26.2)\n",
      "Requirement already satisfied: python-dateutil>=2.8.2 in c:\\users\\yo\\miniconda3\\lib\\site-packages (from pandas>=1.2.0->pyreadstat) (2.8.2)\n",
      "Requirement already satisfied: pytz>=2020.1 in c:\\users\\yo\\miniconda3\\lib\\site-packages (from pandas>=1.2.0->pyreadstat) (2023.3.post1)\n",
      "Requirement already satisfied: tzdata>=2022.1 in c:\\users\\yo\\miniconda3\\lib\\site-packages (from pandas>=1.2.0->pyreadstat) (2023.4)\n",
      "Requirement already satisfied: six>=1.5 in c:\\users\\yo\\miniconda3\\lib\\site-packages (from python-dateutil>=2.8.2->pandas>=1.2.0->pyreadstat) (1.16.0)\n"
     ]
    }
   ],
   "source": [
    "!pip install pyreadstat"
   ]
  },
  {
   "cell_type": "code",
   "execution_count": 2,
   "metadata": {
    "id": "oP3n1oKBDR7l"
   },
   "outputs": [],
   "source": [
    "import csv as c\n",
    "import numpy as np\n",
    "import pandas as pd\n",
    "import math as mt\n",
    "import seaborn as sns\n",
    "import matplotlib.pyplot as plt\n",
    "import datetime as dt\n",
    "import plotly.express as px\n",
    "#from google.colab import files\n",
    "import pyreadstat\n",
    "import io"
   ]
  },
  {
   "cell_type": "code",
   "execution_count": 3,
   "metadata": {
    "colab": {
     "base_uri": "https://localhost:8080/",
     "height": 407
    },
    "id": "t5SweQ2CS0hF",
    "outputId": "5bab7378-4aaf-470d-81c5-1f55b0200d2b"
   },
   "outputs": [
    {
     "name": "stderr",
     "output_type": "stream",
     "text": [
      "C:\\Users\\yo\\AppData\\Local\\Temp\\ipykernel_10064\\211945910.py:15: DtypeWarning: Columns (17,22,23,24,25,26) have mixed types. Specify dtype option on import or set low_memory=False.\n",
      "  Puntajes  = pd.read_csv(\"C:/Users/yo/Downloads/A_INSCRITOS_PUNTAJES_2023_PAES_PUB_MRUN.csv\", delimiter =';')\n"
     ]
    }
   ],
   "source": [
    "#CARGAR LA BASE DE DATOS, PARA EJECUTAR ESTE DRIVE, LA BASE DEBE ESTAR EN EL DRIVE DE LA PERSONA,\n",
    "# LUEGO A CONTINUACIÓN DE 'path' SE DEBE COLOCAR LA RUTA DEL ARCHIVO EN DRIVE.\n",
    "\n",
    "#from google.colab import drive     #PERMITE CONECTAR CON DRIVE, SI ES QUE LA BASE DE DATOS SE ENCUENTRA DENTRO DE ÉL.\n",
    "#drive.mount('/content/drive')\n",
    "\n",
    "\n",
    "#Nombre = input(\"Coloca R de Rocío o S de Seba: \")\n",
    "\n",
    "#if Nombre == \"S\":\n",
    "#  path  = '/content/drive/MyDrive/ProyectoSimulacion/A_INSCRITOS_PUNTAJES_2023_PAES_PUB_MRUN.csv'  #Path para Sebastián Sabat\n",
    "#else:\n",
    "#  path =  \"Chío, debes colocar aquí tu path\"\n",
    "\n",
    "#cambiar por ruta al archivo csv o usar lo de arriba si usa google colab\n",
    "path= \"C:/Users/yo/Downloads/A_INSCRITOS_PUNTAJES_2023_PAES_PUB_MRUN.csv\" \n",
    "Puntajes  = pd.read_csv(path, delimiter =';')"
   ]
  },
  {
   "cell_type": "markdown",
   "metadata": {
    "id": "WdeuwErNouKQ"
   },
   "source": [
    "# ANÁLISIS EXPLORATORIO Y FILTRADO DE LA BASE DE DATOS"
   ]
  },
  {
   "cell_type": "markdown",
   "metadata": {
    "id": "UXDlf6PFKVLy"
   },
   "source": [
    "El principal objetivo es limpiar la base de datos que podrían desviarse sistemáticamente de los valores esperados y también, descubrir el tipo de variable de cada atributo."
   ]
  },
  {
   "cell_type": "code",
   "execution_count": 4,
   "metadata": {
    "colab": {
     "base_uri": "https://localhost:8080/"
    },
    "id": "vqrRyLy8U7oJ",
    "outputId": "0903fbf8-c3ea-4c26-bf07-b2624d1fc78f"
   },
   "outputs": [
    {
     "name": "stdout",
     "output_type": "stream",
     "text": [
      "<class 'pandas.core.frame.DataFrame'>\n",
      "RangeIndex: 296812 entries, 0 to 296811\n",
      "Columns: 117 entries, MRUN to OMITIDAS_INV_CTP\n",
      "dtypes: int64(73), object(44)\n",
      "memory usage: 264.9+ MB\n"
     ]
    }
   ],
   "source": [
    "#Cambiaremos el nombre de la base de datos:\n",
    "df=Puntajes\n",
    "\n",
    "#Borramos los datos repetidos de esta base de datos.\n",
    "df.drop_duplicates(inplace=True, ignore_index=True)\n",
    "\n",
    "#Vemos que la data tiene 296.812 filas y 117 columnas, hay 73 atributos enteros y 44 de tipo 'object'\n",
    "df.info()"
   ]
  },
  {
   "cell_type": "markdown",
   "metadata": {
    "id": "sZ2tSzYlQ1Qq"
   },
   "source": [
    "## Filtro por fecha de nacimiento:"
   ]
  },
  {
   "cell_type": "code",
   "execution_count": 5,
   "metadata": {
    "colab": {
     "base_uri": "https://localhost:8080/",
     "height": 378
    },
    "id": "uRupqkW3PPgu",
    "outputId": "c613dbc6-d0b5-4e7f-abc3-e429b812d6d6"
   },
   "outputs": [
    {
     "name": "stdout",
     "output_type": "stream",
     "text": [
      "22625\n"
     ]
    },
    {
     "data": {
      "text/html": [
       "<div>\n",
       "<style scoped>\n",
       "    .dataframe tbody tr th:only-of-type {\n",
       "        vertical-align: middle;\n",
       "    }\n",
       "\n",
       "    .dataframe tbody tr th {\n",
       "        vertical-align: top;\n",
       "    }\n",
       "\n",
       "    .dataframe thead th {\n",
       "        text-align: right;\n",
       "    }\n",
       "</style>\n",
       "<table border=\"1\" class=\"dataframe\">\n",
       "  <thead>\n",
       "    <tr style=\"text-align: right;\">\n",
       "      <th></th>\n",
       "      <th>MRUN</th>\n",
       "      <th>ANYO_PROCESO</th>\n",
       "      <th>COD_SEXO</th>\n",
       "      <th>FECHA_NACIMIENTO</th>\n",
       "      <th>RBD</th>\n",
       "      <th>CODIGO_ENS</th>\n",
       "      <th>LOCAL_EDUCACIONAL</th>\n",
       "      <th>UNIDAD_EDUCATIVA</th>\n",
       "      <th>NOMBRE_UNIDAD_EDUC</th>\n",
       "      <th>RAMA_EDUCACIONAL</th>\n",
       "      <th>...</th>\n",
       "      <th>PRUEBA_INV_CQUI</th>\n",
       "      <th>FORMA_INV_CQUI</th>\n",
       "      <th>CORRECTAS_INV_CQUI</th>\n",
       "      <th>ERRADAS_INV_CQUI</th>\n",
       "      <th>OMITIDAS_INV_CQUI</th>\n",
       "      <th>PRUEBA_INV_CTP</th>\n",
       "      <th>FORMA_INV_CTP</th>\n",
       "      <th>CORRECTAS_INV_CTP</th>\n",
       "      <th>ERRADAS_INV_CTP</th>\n",
       "      <th>OMITIDAS_INV_CTP</th>\n",
       "    </tr>\n",
       "  </thead>\n",
       "  <tbody>\n",
       "    <tr>\n",
       "      <th>0</th>\n",
       "      <td>3703667</td>\n",
       "      <td>2023</td>\n",
       "      <td>1</td>\n",
       "      <td>194708</td>\n",
       "      <td>5654</td>\n",
       "      <td>310</td>\n",
       "      <td>1747</td>\n",
       "      <td>1</td>\n",
       "      <td>INSTITUTO CLARET</td>\n",
       "      <td>H1</td>\n",
       "      <td>...</td>\n",
       "      <td>Ciencias Química.</td>\n",
       "      <td>0</td>\n",
       "      <td>0</td>\n",
       "      <td>0</td>\n",
       "      <td>0</td>\n",
       "      <td>Ciencias Técnico Profesional.</td>\n",
       "      <td>0</td>\n",
       "      <td>0</td>\n",
       "      <td>0</td>\n",
       "      <td>0</td>\n",
       "    </tr>\n",
       "    <tr>\n",
       "      <th>1</th>\n",
       "      <td>8437289</td>\n",
       "      <td>2023</td>\n",
       "      <td>1</td>\n",
       "      <td>194503</td>\n",
       "      <td>40407</td>\n",
       "      <td>363</td>\n",
       "      <td>3997</td>\n",
       "      <td>1</td>\n",
       "      <td>CENTRO DE ESTUDIOS BORDEMAR</td>\n",
       "      <td>H2</td>\n",
       "      <td>...</td>\n",
       "      <td>Ciencias Química.</td>\n",
       "      <td>0</td>\n",
       "      <td>0</td>\n",
       "      <td>0</td>\n",
       "      <td>0</td>\n",
       "      <td>Ciencias Técnico Profesional.</td>\n",
       "      <td>0</td>\n",
       "      <td>0</td>\n",
       "      <td>0</td>\n",
       "      <td>0</td>\n",
       "    </tr>\n",
       "    <tr>\n",
       "      <th>2</th>\n",
       "      <td>17372901</td>\n",
       "      <td>2023</td>\n",
       "      <td>1</td>\n",
       "      <td>194612</td>\n",
       "      <td>3645</td>\n",
       "      <td>363</td>\n",
       "      <td>1514</td>\n",
       "      <td>1</td>\n",
       "      <td>LICEO VIDA NUEVA</td>\n",
       "      <td>H2</td>\n",
       "      <td>...</td>\n",
       "      <td>Ciencias Química.</td>\n",
       "      <td>0</td>\n",
       "      <td>0</td>\n",
       "      <td>0</td>\n",
       "      <td>0</td>\n",
       "      <td>Ciencias Técnico Profesional.</td>\n",
       "      <td>0</td>\n",
       "      <td>0</td>\n",
       "      <td>0</td>\n",
       "      <td>0</td>\n",
       "    </tr>\n",
       "    <tr>\n",
       "      <th>4</th>\n",
       "      <td>22654139</td>\n",
       "      <td>2023</td>\n",
       "      <td>2</td>\n",
       "      <td>194507</td>\n",
       "      <td>3003</td>\n",
       "      <td>363</td>\n",
       "      <td>1450</td>\n",
       "      <td>2</td>\n",
       "      <td>COLEGIO PIAGET</td>\n",
       "      <td>H2</td>\n",
       "      <td>...</td>\n",
       "      <td>Ciencias Química.</td>\n",
       "      <td>0</td>\n",
       "      <td>0</td>\n",
       "      <td>0</td>\n",
       "      <td>0</td>\n",
       "      <td>Ciencias Técnico Profesional.</td>\n",
       "      <td>0</td>\n",
       "      <td>0</td>\n",
       "      <td>0</td>\n",
       "      <td>0</td>\n",
       "    </tr>\n",
       "    <tr>\n",
       "      <th>5</th>\n",
       "      <td>2824489</td>\n",
       "      <td>2023</td>\n",
       "      <td>2</td>\n",
       "      <td>195010</td>\n",
       "      <td>11811</td>\n",
       "      <td>363</td>\n",
       "      <td>3527</td>\n",
       "      <td>1</td>\n",
       "      <td>LICEO SANTA MARIA EUFRASIA</td>\n",
       "      <td>H2</td>\n",
       "      <td>...</td>\n",
       "      <td>Ciencias Química.</td>\n",
       "      <td>0</td>\n",
       "      <td>0</td>\n",
       "      <td>0</td>\n",
       "      <td>0</td>\n",
       "      <td>Ciencias Técnico Profesional.</td>\n",
       "      <td>0</td>\n",
       "      <td>0</td>\n",
       "      <td>0</td>\n",
       "      <td>0</td>\n",
       "    </tr>\n",
       "  </tbody>\n",
       "</table>\n",
       "<p>5 rows × 117 columns</p>\n",
       "</div>"
      ],
      "text/plain": [
       "       MRUN  ANYO_PROCESO  COD_SEXO FECHA_NACIMIENTO    RBD CODIGO_ENS  \\\n",
       "0   3703667          2023         1           194708   5654        310   \n",
       "1   8437289          2023         1           194503  40407        363   \n",
       "2  17372901          2023         1           194612   3645        363   \n",
       "4  22654139          2023         2           194507   3003        363   \n",
       "5   2824489          2023         2           195010  11811        363   \n",
       "\n",
       "  LOCAL_EDUCACIONAL UNIDAD_EDUCATIVA           NOMBRE_UNIDAD_EDUC  \\\n",
       "0              1747                1             INSTITUTO CLARET   \n",
       "1              3997                1  CENTRO DE ESTUDIOS BORDEMAR   \n",
       "2              1514                1             LICEO VIDA NUEVA   \n",
       "4              1450                2               COLEGIO PIAGET   \n",
       "5              3527                1   LICEO SANTA MARIA EUFRASIA   \n",
       "\n",
       "  RAMA_EDUCACIONAL  ...    PRUEBA_INV_CQUI FORMA_INV_CQUI CORRECTAS_INV_CQUI  \\\n",
       "0               H1  ...  Ciencias Química.              0                  0   \n",
       "1               H2  ...  Ciencias Química.              0                  0   \n",
       "2               H2  ...  Ciencias Química.              0                  0   \n",
       "4               H2  ...  Ciencias Química.              0                  0   \n",
       "5               H2  ...  Ciencias Química.              0                  0   \n",
       "\n",
       "  ERRADAS_INV_CQUI OMITIDAS_INV_CQUI                 PRUEBA_INV_CTP  \\\n",
       "0                0                 0  Ciencias Técnico Profesional.   \n",
       "1                0                 0  Ciencias Técnico Profesional.   \n",
       "2                0                 0  Ciencias Técnico Profesional.   \n",
       "4                0                 0  Ciencias Técnico Profesional.   \n",
       "5                0                 0  Ciencias Técnico Profesional.   \n",
       "\n",
       "  FORMA_INV_CTP CORRECTAS_INV_CTP ERRADAS_INV_CTP  OMITIDAS_INV_CTP  \n",
       "0             0                 0               0                 0  \n",
       "1             0                 0               0                 0  \n",
       "2             0                 0               0                 0  \n",
       "4             0                 0               0                 0  \n",
       "5             0                 0               0                 0  \n",
       "\n",
       "[5 rows x 117 columns]"
      ]
     },
     "execution_count": 5,
     "metadata": {},
     "output_type": "execute_result"
    }
   ],
   "source": [
    "#A CONTINUACIÓN MOSTRAREMOS QUE EXISTEN FECHAS DE NACIMIENTO QUE PODRÍAN SER PATOLÓGICAS.\n",
    "\n",
    "año='19' #Veremos todas las fechas de nacimiento que tienen un 19 en el año.\n",
    "\n",
    "#Pasamos los datos a string.\n",
    "df['FECHA_NACIMIENTO'] = df ['FECHA_NACIMIENTO'].astype (str)\n",
    "\n",
    "Base_fechas=df[df['FECHA_NACIMIENTO'].str.contains(año)]\n",
    "print(len(Base_fechas))  #Veremos que hay 22.625 personas que nacieron en el siglo XX. En particular, varios nacieron en la década de los 40.\n",
    "Base_fechas.head()"
   ]
  },
  {
   "cell_type": "code",
   "execution_count": 6,
   "metadata": {
    "colab": {
     "base_uri": "https://localhost:8080/",
     "height": 254
    },
    "id": "330tEVIsNVya",
    "outputId": "3f8ef3d6-985c-4691-ccb1-df7e2dc284ac"
   },
   "outputs": [
    {
     "data": {
      "text/plain": [
       "125942"
      ]
     },
     "execution_count": 6,
     "metadata": {},
     "output_type": "execute_result"
    }
   ],
   "source": [
    "#FILTRAREMOS LA BASE DE DATOS POR FECHA, SÓLO CONSIDERAREMOS NACIDOS EL 2004.\n",
    "\n",
    "año1='2004'  #Esta es la fecha de nacimiento de los estudiantes que tenían 18 años a fecha del 2022.\n",
    "\n",
    "#Pasamos los datos a string.\n",
    "df['FECHA_NACIMIENTO'] = df ['FECHA_NACIMIENTO'].astype (str)\n",
    "\n",
    "#Filtramos por año de nacimiento:\n",
    "df=df[df['FECHA_NACIMIENTO'].str.contains(año1)]\n",
    "len(df)"
   ]
  },
  {
   "cell_type": "markdown",
   "metadata": {
    "id": "QonwOvqDQ87B"
   },
   "source": [
    "## Filtro por fecha de egreso:"
   ]
  },
  {
   "cell_type": "code",
   "execution_count": 7,
   "metadata": {
    "colab": {
     "base_uri": "https://localhost:8080/",
     "height": 430
    },
    "id": "ldEUSp06OfcS",
    "outputId": "216c0a13-b9e7-403f-ed45-40440271f698"
   },
   "outputs": [
    {
     "name": "stdout",
     "output_type": "stream",
     "text": [
      "31800\n"
     ]
    },
    {
     "data": {
      "text/html": [
       "<div>\n",
       "<style scoped>\n",
       "    .dataframe tbody tr th:only-of-type {\n",
       "        vertical-align: middle;\n",
       "    }\n",
       "\n",
       "    .dataframe tbody tr th {\n",
       "        vertical-align: top;\n",
       "    }\n",
       "\n",
       "    .dataframe thead th {\n",
       "        text-align: right;\n",
       "    }\n",
       "</style>\n",
       "<table border=\"1\" class=\"dataframe\">\n",
       "  <thead>\n",
       "    <tr style=\"text-align: right;\">\n",
       "      <th></th>\n",
       "      <th>MRUN</th>\n",
       "      <th>ANYO_PROCESO</th>\n",
       "      <th>COD_SEXO</th>\n",
       "      <th>FECHA_NACIMIENTO</th>\n",
       "      <th>RBD</th>\n",
       "      <th>CODIGO_ENS</th>\n",
       "      <th>LOCAL_EDUCACIONAL</th>\n",
       "      <th>UNIDAD_EDUCATIVA</th>\n",
       "      <th>NOMBRE_UNIDAD_EDUC</th>\n",
       "      <th>RAMA_EDUCACIONAL</th>\n",
       "      <th>...</th>\n",
       "      <th>PRUEBA_INV_CQUI</th>\n",
       "      <th>FORMA_INV_CQUI</th>\n",
       "      <th>CORRECTAS_INV_CQUI</th>\n",
       "      <th>ERRADAS_INV_CQUI</th>\n",
       "      <th>OMITIDAS_INV_CQUI</th>\n",
       "      <th>PRUEBA_INV_CTP</th>\n",
       "      <th>FORMA_INV_CTP</th>\n",
       "      <th>CORRECTAS_INV_CTP</th>\n",
       "      <th>ERRADAS_INV_CTP</th>\n",
       "      <th>OMITIDAS_INV_CTP</th>\n",
       "    </tr>\n",
       "  </thead>\n",
       "  <tbody>\n",
       "    <tr>\n",
       "      <th>338</th>\n",
       "      <td>15004462</td>\n",
       "      <td>2023</td>\n",
       "      <td>2</td>\n",
       "      <td>200403</td>\n",
       "      <td>218</td>\n",
       "      <td>310</td>\n",
       "      <td>61</td>\n",
       "      <td>1</td>\n",
       "      <td>LICEO FRANCISCO DE AGUIRRE</td>\n",
       "      <td>H1</td>\n",
       "      <td>...</td>\n",
       "      <td>Ciencias Química.</td>\n",
       "      <td>0</td>\n",
       "      <td>0</td>\n",
       "      <td>0</td>\n",
       "      <td>0</td>\n",
       "      <td>Ciencias Técnico Profesional.</td>\n",
       "      <td>0</td>\n",
       "      <td>0</td>\n",
       "      <td>0</td>\n",
       "      <td>0</td>\n",
       "    </tr>\n",
       "    <tr>\n",
       "      <th>379</th>\n",
       "      <td>14464361</td>\n",
       "      <td>2023</td>\n",
       "      <td>2</td>\n",
       "      <td>200405</td>\n",
       "      <td>253</td>\n",
       "      <td>310</td>\n",
       "      <td>2307</td>\n",
       "      <td>1</td>\n",
       "      <td>COLEGIO ADVENTISTA DE CALAMA</td>\n",
       "      <td>H1</td>\n",
       "      <td>...</td>\n",
       "      <td>Ciencias Química.</td>\n",
       "      <td>0</td>\n",
       "      <td>0</td>\n",
       "      <td>0</td>\n",
       "      <td>0</td>\n",
       "      <td>Ciencias Técnico Profesional.</td>\n",
       "      <td>0</td>\n",
       "      <td>0</td>\n",
       "      <td>0</td>\n",
       "      <td>0</td>\n",
       "    </tr>\n",
       "    <tr>\n",
       "      <th>2400</th>\n",
       "      <td>12494969</td>\n",
       "      <td>2023</td>\n",
       "      <td>1</td>\n",
       "      <td>200406</td>\n",
       "      <td>10641</td>\n",
       "      <td>310</td>\n",
       "      <td>3065</td>\n",
       "      <td>1</td>\n",
       "      <td>LICEO ALTO JAHUEL</td>\n",
       "      <td>H1</td>\n",
       "      <td>...</td>\n",
       "      <td>Ciencias Química.</td>\n",
       "      <td>0</td>\n",
       "      <td>0</td>\n",
       "      <td>0</td>\n",
       "      <td>0</td>\n",
       "      <td>Ciencias Técnico Profesional.</td>\n",
       "      <td>0</td>\n",
       "      <td>0</td>\n",
       "      <td>0</td>\n",
       "      <td>0</td>\n",
       "    </tr>\n",
       "    <tr>\n",
       "      <th>2643</th>\n",
       "      <td>18983714</td>\n",
       "      <td>2023</td>\n",
       "      <td>1</td>\n",
       "      <td>200402</td>\n",
       "      <td>9058</td>\n",
       "      <td>410</td>\n",
       "      <td>1025</td>\n",
       "      <td>2</td>\n",
       "      <td>INSTITUTO SUPERIOR DE COMERCIO DIEGO PORT</td>\n",
       "      <td>T1</td>\n",
       "      <td>...</td>\n",
       "      <td>Ciencias Química.</td>\n",
       "      <td>0</td>\n",
       "      <td>0</td>\n",
       "      <td>0</td>\n",
       "      <td>0</td>\n",
       "      <td>Ciencias Técnico Profesional.</td>\n",
       "      <td>0</td>\n",
       "      <td>0</td>\n",
       "      <td>0</td>\n",
       "      <td>0</td>\n",
       "    </tr>\n",
       "    <tr>\n",
       "      <th>2657</th>\n",
       "      <td>5430379</td>\n",
       "      <td>2023</td>\n",
       "      <td>2</td>\n",
       "      <td>200406</td>\n",
       "      <td>191</td>\n",
       "      <td>310</td>\n",
       "      <td>29</td>\n",
       "      <td>1</td>\n",
       "      <td>LIC. ALCDE.SERGIO GONZALEZ GUTIERREZ</td>\n",
       "      <td>H1</td>\n",
       "      <td>...</td>\n",
       "      <td>Ciencias Química.</td>\n",
       "      <td>0</td>\n",
       "      <td>0</td>\n",
       "      <td>0</td>\n",
       "      <td>0</td>\n",
       "      <td>Ciencias Técnico Profesional.</td>\n",
       "      <td>0</td>\n",
       "      <td>0</td>\n",
       "      <td>0</td>\n",
       "      <td>0</td>\n",
       "    </tr>\n",
       "  </tbody>\n",
       "</table>\n",
       "<p>5 rows × 117 columns</p>\n",
       "</div>"
      ],
      "text/plain": [
       "          MRUN  ANYO_PROCESO  COD_SEXO FECHA_NACIMIENTO    RBD CODIGO_ENS  \\\n",
       "338   15004462          2023         2           200403    218        310   \n",
       "379   14464361          2023         2           200405    253        310   \n",
       "2400  12494969          2023         1           200406  10641        310   \n",
       "2643  18983714          2023         1           200402   9058        410   \n",
       "2657   5430379          2023         2           200406    191        310   \n",
       "\n",
       "     LOCAL_EDUCACIONAL UNIDAD_EDUCATIVA  \\\n",
       "338                 61                1   \n",
       "379               2307                1   \n",
       "2400              3065                1   \n",
       "2643              1025                2   \n",
       "2657                29                1   \n",
       "\n",
       "                             NOMBRE_UNIDAD_EDUC RAMA_EDUCACIONAL  ...  \\\n",
       "338                  LICEO FRANCISCO DE AGUIRRE               H1  ...   \n",
       "379                COLEGIO ADVENTISTA DE CALAMA               H1  ...   \n",
       "2400                          LICEO ALTO JAHUEL               H1  ...   \n",
       "2643  INSTITUTO SUPERIOR DE COMERCIO DIEGO PORT               T1  ...   \n",
       "2657       LIC. ALCDE.SERGIO GONZALEZ GUTIERREZ               H1  ...   \n",
       "\n",
       "        PRUEBA_INV_CQUI FORMA_INV_CQUI CORRECTAS_INV_CQUI ERRADAS_INV_CQUI  \\\n",
       "338   Ciencias Química.              0                  0                0   \n",
       "379   Ciencias Química.              0                  0                0   \n",
       "2400  Ciencias Química.              0                  0                0   \n",
       "2643  Ciencias Química.              0                  0                0   \n",
       "2657  Ciencias Química.              0                  0                0   \n",
       "\n",
       "     OMITIDAS_INV_CQUI                 PRUEBA_INV_CTP FORMA_INV_CTP  \\\n",
       "338                  0  Ciencias Técnico Profesional.             0   \n",
       "379                  0  Ciencias Técnico Profesional.             0   \n",
       "2400                 0  Ciencias Técnico Profesional.             0   \n",
       "2643                 0  Ciencias Técnico Profesional.             0   \n",
       "2657                 0  Ciencias Técnico Profesional.             0   \n",
       "\n",
       "     CORRECTAS_INV_CTP ERRADAS_INV_CTP  OMITIDAS_INV_CTP  \n",
       "338                  0               0                 0  \n",
       "379                  0               0                 0  \n",
       "2400                 0               0                 0  \n",
       "2643                 0               0                 0  \n",
       "2657                 0               0                 0  \n",
       "\n",
       "[5 rows x 117 columns]"
      ]
     },
     "execution_count": 7,
     "metadata": {},
     "output_type": "execute_result"
    }
   ],
   "source": [
    "#A CONTINUACIÓN MOSTRAREMOS QUE EXISTEN FECHAS DE EGRESO QUE PODRÍAN SER PATOLÓGICAS.\n",
    "\n",
    "not_in_2022=df['ANYO_DE_EGRESO'] != '2022'\n",
    "base_egresos= df[not_in_2022]\n",
    "\n",
    "print(len(base_egresos)) #Vemos que hay 31.800 estudiantes que egresaron antes del 2022 y que nacieron el 2004.\n",
    "base_egresos.head()"
   ]
  },
  {
   "cell_type": "code",
   "execution_count": 8,
   "metadata": {
    "id": "406sSI5Af8TG"
   },
   "outputs": [],
   "source": [
    "#Filtramos por año de egreso:\n",
    "in_2022 = df['ANYO_DE_EGRESO'] == '2022'\n",
    "df = df[in_2022]"
   ]
  },
  {
   "cell_type": "markdown",
   "metadata": {
    "id": "Fs5x0BH-RtTA"
   },
   "source": [
    "## Filtramos por rendición actual:"
   ]
  },
  {
   "cell_type": "code",
   "execution_count": 9,
   "metadata": {
    "colab": {
     "base_uri": "https://localhost:8080/"
    },
    "id": "g4PEvVkDRsQ5",
    "outputId": "c7133462-8d38-4096-c77e-c4133e8252cc"
   },
   "outputs": [
    {
     "data": {
      "text/plain": [
       "8"
      ]
     },
     "execution_count": 9,
     "metadata": {},
     "output_type": "execute_result"
    }
   ],
   "source": [
    "#AHORA VEAMOS SI ALGUNOS ESTUDIANTES QUE NACIERON EL 2004 Y EGRESARON EL 2022, LLEGARON A DAR LA PRUEBA ANTES.\n",
    "not_tipo_1 = df['RINDIO_PROCESO_ACTUAL'] != 1\n",
    "len(df[not_tipo_1]) #Vemos que hay 8 personas que pueden cumplir una de tres opciones: no rindió pruebas en el proceso actual,\n",
    "                    # dio sólo prueba de invierno o dio prueba de invierno y la de fin de año."
   ]
  },
  {
   "cell_type": "code",
   "execution_count": 10,
   "metadata": {
    "id": "VKzKPzk7RsZo"
   },
   "outputs": [],
   "source": [
    "#Filtramos por tipo de rendición actual:\n",
    "tipo_1 = df['RINDIO_PROCESO_ACTUAL'] == 1\n",
    "df = df[tipo_1]"
   ]
  },
  {
   "cell_type": "markdown",
   "metadata": {
    "id": "sz5eifl6VT0R"
   },
   "source": [
    "## Filtramos por plan de estudios:"
   ]
  },
  {
   "cell_type": "code",
   "execution_count": 11,
   "metadata": {
    "id": "JXmXwxAjVetD"
   },
   "outputs": [],
   "source": [
    "#Re-indexamos:\n",
    "df.reset_index(inplace=True)\n",
    "df.drop(['index'], axis = 'columns', inplace = True)"
   ]
  },
  {
   "cell_type": "code",
   "execution_count": 12,
   "metadata": {
    "id": "fztsFDOyVmZp"
   },
   "outputs": [],
   "source": [
    "Programas_convencionales = [\"310\", \"410\", \"510\", \"610\", \"710\", \"810\", \"910\"]\n",
    "\n",
    "idx=[]\n",
    "\n",
    "for i in range(0,len(df)):\n",
    "  CODIGO_ENS = df['CODIGO_ENS'][i]                      #Filtramos el tipo de programa educativo, para que sólo hayan planes H-C,\n",
    "                                                        # técnicos industriales, agrónomos, comerciales y artísticos para jóvenes\n",
    "                                                        # y/o niños. No planes \"para adultos\".\n",
    "  if (CODIGO_ENS  in Programas_convencionales):         #Con esto quedarán descartados estudiantes que fueron a colegios en cárceles,\n",
    "    idx +=[i]                                           # planes 2x1, etc.\n",
    "\n",
    "\n",
    "df = df.filter(idx, axis = 'index')"
   ]
  },
  {
   "cell_type": "code",
   "execution_count": 13,
   "metadata": {
    "id": "AMRhKinvZDZ9"
   },
   "outputs": [],
   "source": [
    "#Re-indexamos:\n",
    "df.reset_index(inplace=True)\n",
    "df.drop(['index'], axis = 'columns', inplace = True)"
   ]
  },
  {
   "cell_type": "code",
   "execution_count": 14,
   "metadata": {
    "colab": {
     "base_uri": "https://localhost:8080/"
    },
    "id": "nszfPqacd_zd",
    "outputId": "8934c2d6-0e67-446b-c7bb-5fb9fa759582"
   },
   "outputs": [
    {
     "data": {
      "text/plain": [
       "Series([], dtype: int64)"
      ]
     },
     "execution_count": 14,
     "metadata": {},
     "output_type": "execute_result"
    }
   ],
   "source": [
    "#Vemos que no hay nulls.\n",
    "nulls=df.isnull().sum()\n",
    "nulls[nulls!=0]"
   ]
  },
  {
   "cell_type": "code",
   "execution_count": 15,
   "metadata": {
    "colab": {
     "base_uri": "https://localhost:8080/"
    },
    "id": "9p5tymNgUJNX",
    "outputId": "00239ab1-2912-4eee-88fb-ed7a6b8ae7e0"
   },
   "outputs": [
    {
     "data": {
      "text/plain": [
       "Series([], dtype: int64)"
      ]
     },
     "execution_count": 15,
     "metadata": {},
     "output_type": "execute_result"
    }
   ],
   "source": [
    "#Vemos que no hay na.\n",
    "datos_nulos=df.isnull().sum()\n",
    "datos_nulos[datos_nulos!=0]"
   ]
  },
  {
   "cell_type": "markdown",
   "metadata": {
    "id": "gyXT88sNV8aS"
   },
   "source": [
    "## Filtremos a los estudiantes que rindieron mal las pruebas:"
   ]
  },
  {
   "cell_type": "markdown",
   "metadata": {
    "id": "kqMp0TLyWD6J"
   },
   "source": [
    "Para esto, diremos que un estudiante rindió **bien** las pruebas si rindió las obligatorias necesarias para poder postular a una carrera, es decir, rindió comprensión lectora, matemáticas general, rindió una entre ciencias e historia y, por su puesto, rindió la específica de matemáticas (que es nuestra variable objetivo).\n",
    "\n",
    "Diremos que un estudiante rindió mal las pruebas si no las rindió bien."
   ]
  },
  {
   "cell_type": "code",
   "execution_count": 16,
   "metadata": {
    "id": "ip3z4fz1Uvzw"
   },
   "outputs": [],
   "source": [
    "#La idea es filtrar los casos de estudiantes que no riendieron bien las pruebas, esto lo podemos saber viendo si es que\n",
    "# no riendieron alguna prueba que era obligatoria.\n",
    "\n",
    "def p(x):\n",
    "  a=100\n",
    "  b=1000\n",
    "  if x<a or x>b:\n",
    "    return False\n",
    "  else:\n",
    "      return True\n",
    "\n",
    "idx=[]\n",
    "for i in range(0,len(df)):\n",
    "  MA1  = float(df['MATE1_REG_ACTUAL'][i])\n",
    "  MA2  = float(df['MATE2_REG_ACTUAL'][i])\n",
    "  Len  = float(df['CLEC_REG_ACTUAL'][i])\n",
    "  His  = float(df['HCSOC_REG_ACTUAL'][i])\n",
    "  Cie  = float(df['CIEN_REG_ACTUAL'][i])\n",
    "  if p(MA1) and p(MA2) and p(Len) and ( p(His) or p(Cie) ):\n",
    "    idx +=[i]\n",
    "\n",
    "df = df.filter(idx, axis = 'index')"
   ]
  },
  {
   "cell_type": "code",
   "execution_count": 17,
   "metadata": {
    "colab": {
     "base_uri": "https://localhost:8080/",
     "height": 359
    },
    "id": "oG1aUF_Sb5Gm",
    "outputId": "acadc566-ad53-4a19-e3e3-52d0ba18fa61"
   },
   "outputs": [
    {
     "data": {
      "text/html": [
       "<div>\n",
       "<style scoped>\n",
       "    .dataframe tbody tr th:only-of-type {\n",
       "        vertical-align: middle;\n",
       "    }\n",
       "\n",
       "    .dataframe tbody tr th {\n",
       "        vertical-align: top;\n",
       "    }\n",
       "\n",
       "    .dataframe thead th {\n",
       "        text-align: right;\n",
       "    }\n",
       "</style>\n",
       "<table border=\"1\" class=\"dataframe\">\n",
       "  <thead>\n",
       "    <tr style=\"text-align: right;\">\n",
       "      <th></th>\n",
       "      <th>MRUN</th>\n",
       "      <th>ANYO_PROCESO</th>\n",
       "      <th>COD_SEXO</th>\n",
       "      <th>FECHA_NACIMIENTO</th>\n",
       "      <th>RBD</th>\n",
       "      <th>CODIGO_ENS</th>\n",
       "      <th>LOCAL_EDUCACIONAL</th>\n",
       "      <th>UNIDAD_EDUCATIVA</th>\n",
       "      <th>NOMBRE_UNIDAD_EDUC</th>\n",
       "      <th>RAMA_EDUCACIONAL</th>\n",
       "      <th>...</th>\n",
       "      <th>PRUEBA_INV_CQUI</th>\n",
       "      <th>FORMA_INV_CQUI</th>\n",
       "      <th>CORRECTAS_INV_CQUI</th>\n",
       "      <th>ERRADAS_INV_CQUI</th>\n",
       "      <th>OMITIDAS_INV_CQUI</th>\n",
       "      <th>PRUEBA_INV_CTP</th>\n",
       "      <th>FORMA_INV_CTP</th>\n",
       "      <th>CORRECTAS_INV_CTP</th>\n",
       "      <th>ERRADAS_INV_CTP</th>\n",
       "      <th>OMITIDAS_INV_CTP</th>\n",
       "    </tr>\n",
       "  </thead>\n",
       "  <tbody>\n",
       "    <tr>\n",
       "      <th>0</th>\n",
       "      <td>21055758</td>\n",
       "      <td>2023</td>\n",
       "      <td>2</td>\n",
       "      <td>200405</td>\n",
       "      <td>25571</td>\n",
       "      <td>310</td>\n",
       "      <td>3129</td>\n",
       "      <td>1</td>\n",
       "      <td>COLEGIO EL RACO</td>\n",
       "      <td>H1</td>\n",
       "      <td>...</td>\n",
       "      <td>Ciencias Química.</td>\n",
       "      <td>0</td>\n",
       "      <td>0</td>\n",
       "      <td>0</td>\n",
       "      <td>0</td>\n",
       "      <td>Ciencias Técnico Profesional.</td>\n",
       "      <td>0</td>\n",
       "      <td>0</td>\n",
       "      <td>0</td>\n",
       "      <td>0</td>\n",
       "    </tr>\n",
       "    <tr>\n",
       "      <th>1</th>\n",
       "      <td>18727126</td>\n",
       "      <td>2023</td>\n",
       "      <td>2</td>\n",
       "      <td>200411</td>\n",
       "      <td>40422</td>\n",
       "      <td>610</td>\n",
       "      <td>4285</td>\n",
       "      <td>2</td>\n",
       "      <td>COLEGIO NIRVANA</td>\n",
       "      <td>T3</td>\n",
       "      <td>...</td>\n",
       "      <td>Ciencias Química.</td>\n",
       "      <td>0</td>\n",
       "      <td>0</td>\n",
       "      <td>0</td>\n",
       "      <td>0</td>\n",
       "      <td>Ciencias Técnico Profesional.</td>\n",
       "      <td>0</td>\n",
       "      <td>0</td>\n",
       "      <td>0</td>\n",
       "      <td>0</td>\n",
       "    </tr>\n",
       "    <tr>\n",
       "      <th>2</th>\n",
       "      <td>18152939</td>\n",
       "      <td>2023</td>\n",
       "      <td>1</td>\n",
       "      <td>200406</td>\n",
       "      <td>12686</td>\n",
       "      <td>310</td>\n",
       "      <td>3124</td>\n",
       "      <td>6</td>\n",
       "      <td>LICEO ACADEMIA NACIONAL</td>\n",
       "      <td>H1</td>\n",
       "      <td>...</td>\n",
       "      <td>Ciencias Química.</td>\n",
       "      <td>0</td>\n",
       "      <td>0</td>\n",
       "      <td>0</td>\n",
       "      <td>0</td>\n",
       "      <td>Ciencias Técnico Profesional.</td>\n",
       "      <td>0</td>\n",
       "      <td>0</td>\n",
       "      <td>0</td>\n",
       "      <td>0</td>\n",
       "    </tr>\n",
       "    <tr>\n",
       "      <th>3</th>\n",
       "      <td>23506412</td>\n",
       "      <td>2023</td>\n",
       "      <td>2</td>\n",
       "      <td>200411</td>\n",
       "      <td>129</td>\n",
       "      <td>310</td>\n",
       "      <td>41</td>\n",
       "      <td>1</td>\n",
       "      <td>LICEO SUPERIOR GABRIELA MISTRAL</td>\n",
       "      <td>H1</td>\n",
       "      <td>...</td>\n",
       "      <td>Ciencias Química.</td>\n",
       "      <td>0</td>\n",
       "      <td>0</td>\n",
       "      <td>0</td>\n",
       "      <td>0</td>\n",
       "      <td>Ciencias Técnico Profesional.</td>\n",
       "      <td>0</td>\n",
       "      <td>0</td>\n",
       "      <td>0</td>\n",
       "      <td>0</td>\n",
       "    </tr>\n",
       "    <tr>\n",
       "      <th>4</th>\n",
       "      <td>2771736</td>\n",
       "      <td>2023</td>\n",
       "      <td>1</td>\n",
       "      <td>200410</td>\n",
       "      <td>25853</td>\n",
       "      <td>310</td>\n",
       "      <td>3060</td>\n",
       "      <td>1</td>\n",
       "      <td>COLEGIO POLIVALENTE NOVO HORIZONTE</td>\n",
       "      <td>H1</td>\n",
       "      <td>...</td>\n",
       "      <td>Ciencias Química.</td>\n",
       "      <td>0</td>\n",
       "      <td>0</td>\n",
       "      <td>0</td>\n",
       "      <td>0</td>\n",
       "      <td>Ciencias Técnico Profesional.</td>\n",
       "      <td>0</td>\n",
       "      <td>0</td>\n",
       "      <td>0</td>\n",
       "      <td>0</td>\n",
       "    </tr>\n",
       "  </tbody>\n",
       "</table>\n",
       "<p>5 rows × 117 columns</p>\n",
       "</div>"
      ],
      "text/plain": [
       "       MRUN  ANYO_PROCESO  COD_SEXO FECHA_NACIMIENTO    RBD CODIGO_ENS  \\\n",
       "0  21055758          2023         2           200405  25571        310   \n",
       "1  18727126          2023         2           200411  40422        610   \n",
       "2  18152939          2023         1           200406  12686        310   \n",
       "3  23506412          2023         2           200411    129        310   \n",
       "4   2771736          2023         1           200410  25853        310   \n",
       "\n",
       "  LOCAL_EDUCACIONAL UNIDAD_EDUCATIVA                  NOMBRE_UNIDAD_EDUC  \\\n",
       "0              3129                1                     COLEGIO EL RACO   \n",
       "1              4285                2                     COLEGIO NIRVANA   \n",
       "2              3124                6             LICEO ACADEMIA NACIONAL   \n",
       "3                41                1     LICEO SUPERIOR GABRIELA MISTRAL   \n",
       "4              3060                1  COLEGIO POLIVALENTE NOVO HORIZONTE   \n",
       "\n",
       "  RAMA_EDUCACIONAL  ...    PRUEBA_INV_CQUI FORMA_INV_CQUI CORRECTAS_INV_CQUI  \\\n",
       "0               H1  ...  Ciencias Química.              0                  0   \n",
       "1               T3  ...  Ciencias Química.              0                  0   \n",
       "2               H1  ...  Ciencias Química.              0                  0   \n",
       "3               H1  ...  Ciencias Química.              0                  0   \n",
       "4               H1  ...  Ciencias Química.              0                  0   \n",
       "\n",
       "  ERRADAS_INV_CQUI OMITIDAS_INV_CQUI                 PRUEBA_INV_CTP  \\\n",
       "0                0                 0  Ciencias Técnico Profesional.   \n",
       "1                0                 0  Ciencias Técnico Profesional.   \n",
       "2                0                 0  Ciencias Técnico Profesional.   \n",
       "3                0                 0  Ciencias Técnico Profesional.   \n",
       "4                0                 0  Ciencias Técnico Profesional.   \n",
       "\n",
       "  FORMA_INV_CTP CORRECTAS_INV_CTP ERRADAS_INV_CTP  OMITIDAS_INV_CTP  \n",
       "0             0                 0               0                 0  \n",
       "1             0                 0               0                 0  \n",
       "2             0                 0               0                 0  \n",
       "3             0                 0               0                 0  \n",
       "4             0                 0               0                 0  \n",
       "\n",
       "[5 rows x 117 columns]"
      ]
     },
     "execution_count": 17,
     "metadata": {},
     "output_type": "execute_result"
    }
   ],
   "source": [
    "#Re-indexamos:\n",
    "df.reset_index(inplace=True)\n",
    "df.drop(['index'], axis = 'columns', inplace = True)\n",
    "\n",
    "df.head()"
   ]
  },
  {
   "cell_type": "markdown",
   "metadata": {
    "id": "KVYOpTSAWtQK"
   },
   "source": [
    "## Conservaremos sólo los atributos que por interés propio (surgido al estudiar la documentación) nos parecen relevantes de estudiar:"
   ]
  },
  {
   "cell_type": "code",
   "execution_count": 18,
   "metadata": {
    "id": "5EPpwCq2cvBF"
   },
   "outputs": [],
   "source": [
    "#Borraremos las columnas que describen atributos que no nos interesará estudiar.\n",
    "\n",
    "#Columnas de interés\n",
    "columns=[\"FECHA_NACIMIENTO\",'COD_SEXO','RAMA_EDUCACIONAL',\"UNIDAD_EDUCATIVA\",'PTJE_NEM','PTJE_RANKING','ANYO_DE_EGRESO','MATE2_REG_ACTUAL',\\\n",
    "        'CLEC_REG_ACTUAL',\"MATE1_REG_ACTUAL\",\"CIEN_REG_ACTUAL\",'HCSOC_REG_ACTUAL']\n",
    "\n",
    "df=df[columns]"
   ]
  },
  {
   "cell_type": "code",
   "execution_count": 19,
   "metadata": {
    "colab": {
     "base_uri": "https://localhost:8080/"
    },
    "id": "qYB2lHwqrD4K",
    "outputId": "d8d2d364-902d-4e03-b891-c808f3838026"
   },
   "outputs": [],
   "source": [
    "#Re-indexamos:\n",
    "df.reset_index(inplace=True)\n",
    "df.drop(['index'], axis = 'columns', inplace = True)"
   ]
  },
  {
   "cell_type": "code",
   "execution_count": 20,
   "metadata": {
    "colab": {
     "base_uri": "https://localhost:8080/"
    },
    "id": "_jnP7UJ75WIw",
    "outputId": "fd87ea1c-5d65-4e0e-b169-c23c5fd25a71"
   },
   "outputs": [
    {
     "name": "stdout",
     "output_type": "stream",
     "text": [
      "<class 'pandas.core.frame.DataFrame'>\n",
      "RangeIndex: 40477 entries, 0 to 40476\n",
      "Data columns (total 12 columns):\n",
      " #   Column            Non-Null Count  Dtype \n",
      "---  ------            --------------  ----- \n",
      " 0   FECHA_NACIMIENTO  40477 non-null  object\n",
      " 1   COD_SEXO          40477 non-null  int64 \n",
      " 2   RAMA_EDUCACIONAL  40477 non-null  object\n",
      " 3   UNIDAD_EDUCATIVA  40477 non-null  object\n",
      " 4   PTJE_NEM          40477 non-null  int64 \n",
      " 5   PTJE_RANKING      40477 non-null  int64 \n",
      " 6   ANYO_DE_EGRESO    40477 non-null  object\n",
      " 7   MATE2_REG_ACTUAL  40477 non-null  object\n",
      " 8   CLEC_REG_ACTUAL   40477 non-null  object\n",
      " 9   MATE1_REG_ACTUAL  40477 non-null  object\n",
      " 10  CIEN_REG_ACTUAL   40477 non-null  object\n",
      " 11  HCSOC_REG_ACTUAL  40477 non-null  object\n",
      "dtypes: int64(3), object(9)\n",
      "memory usage: 3.7+ MB\n"
     ]
    }
   ],
   "source": [
    "df.info()"
   ]
  },
  {
   "cell_type": "markdown",
   "metadata": {
    "id": "V3ghryosbrQI"
   },
   "source": [
    "# SELECCIÓN DE ATRIBUTOS"
   ]
  },
  {
   "cell_type": "code",
   "execution_count": 21,
   "metadata": {
    "colab": {
     "base_uri": "https://localhost:8080/"
    },
    "id": "g8Vavovwb8-j",
    "outputId": "9acfa700-b815-41f3-af7a-51180b0e78e6"
   },
   "outputs": [
    {
     "data": {
      "text/plain": [
       "dtype('float64')"
      ]
     },
     "execution_count": 21,
     "metadata": {},
     "output_type": "execute_result"
    }
   ],
   "source": [
    "#De la línea de código anterior, vemos que la variable objetivo 'MATE2_REF_ACTUAL' no es numérica.\n",
    "df['MATE2_REG_ACTUAL'] = df ['MATE2_REG_ACTUAL']. astype ( float )\n",
    "df['MATE1_REG_ACTUAL'] = df ['MATE1_REG_ACTUAL']. astype ( float )\n",
    "df['CLEC_REG_ACTUAL'] = df ['CLEC_REG_ACTUAL']. astype ( float )\n",
    "df['HCSOC_REG_ACTUAL'] = df ['HCSOC_REG_ACTUAL']. astype ( float )\n",
    "df['CIEN_REG_ACTUAL'] = df ['CIEN_REG_ACTUAL']. astype ( float )\n",
    "df['MATE2_REG_ACTUAL'].dtypes"
   ]
  },
  {
   "cell_type": "code",
   "execution_count": 22,
   "metadata": {
    "colab": {
     "base_uri": "https://localhost:8080/"
    },
    "id": "AI3IWDJBpMzk",
    "outputId": "dbdc9a3a-8424-4895-b12f-c7a1a33f6643"
   },
   "outputs": [
    {
     "data": {
      "text/plain": [
       "FECHA_NACIMIENTO     object\n",
       "COD_SEXO              int64\n",
       "RAMA_EDUCACIONAL     object\n",
       "UNIDAD_EDUCATIVA     object\n",
       "PTJE_NEM              int64\n",
       "PTJE_RANKING          int64\n",
       "ANYO_DE_EGRESO       object\n",
       "MATE2_REG_ACTUAL    float64\n",
       "CLEC_REG_ACTUAL     float64\n",
       "MATE1_REG_ACTUAL    float64\n",
       "CIEN_REG_ACTUAL     float64\n",
       "HCSOC_REG_ACTUAL    float64\n",
       "dtype: object"
      ]
     },
     "execution_count": 22,
     "metadata": {},
     "output_type": "execute_result"
    }
   ],
   "source": [
    "#Veamos el tipo de dato para el resto de las variables.\n",
    "df.dtypes"
   ]
  },
  {
   "cell_type": "markdown",
   "metadata": {
    "id": "hxWKz7c1gwPd"
   },
   "source": [
    "## Estudiar correlación con el género:"
   ]
  },
  {
   "cell_type": "markdown",
   "metadata": {
    "id": "v8i0tW94hWEK"
   },
   "source": [
    "Referencia:\n",
    "FACSO-Universidad de Chile. Prueba de Hipótesis para la Diferencia de medias, Gallardo, Antivilo y Marrot, 2011.\n",
    "\n",
    "[Enlace material de ucursos](https://www.u-cursos.cl/facso/2011/1/PSI-E2/1/material_docente/bajar%3Fid_material%3D582249)\n"
   ]
  },
  {
   "cell_type": "code",
   "execution_count": 23,
   "metadata": {
    "colab": {
     "base_uri": "https://localhost:8080/",
     "height": 143
    },
    "id": "vJ3ZaV2MsKVe",
    "outputId": "ea82672a-e137-4373-e966-e34a0229c5b1"
   },
   "outputs": [
    {
     "data": {
      "text/html": [
       "<div>\n",
       "<style scoped>\n",
       "    .dataframe tbody tr th:only-of-type {\n",
       "        vertical-align: middle;\n",
       "    }\n",
       "\n",
       "    .dataframe tbody tr th {\n",
       "        vertical-align: top;\n",
       "    }\n",
       "\n",
       "    .dataframe thead th {\n",
       "        text-align: right;\n",
       "    }\n",
       "</style>\n",
       "<table border=\"1\" class=\"dataframe\">\n",
       "  <thead>\n",
       "    <tr style=\"text-align: right;\">\n",
       "      <th></th>\n",
       "      <th>count</th>\n",
       "      <th>mean</th>\n",
       "      <th>std</th>\n",
       "      <th>min</th>\n",
       "      <th>25%</th>\n",
       "      <th>50%</th>\n",
       "      <th>75%</th>\n",
       "      <th>max</th>\n",
       "    </tr>\n",
       "    <tr>\n",
       "      <th>COD_SEXO</th>\n",
       "      <th></th>\n",
       "      <th></th>\n",
       "      <th></th>\n",
       "      <th></th>\n",
       "      <th></th>\n",
       "      <th></th>\n",
       "      <th></th>\n",
       "      <th></th>\n",
       "    </tr>\n",
       "  </thead>\n",
       "  <tbody>\n",
       "    <tr>\n",
       "      <th>1</th>\n",
       "      <td>22972.0</td>\n",
       "      <td>448.492817</td>\n",
       "      <td>112.344919</td>\n",
       "      <td>100.0</td>\n",
       "      <td>385.0</td>\n",
       "      <td>413.0</td>\n",
       "      <td>483.0</td>\n",
       "      <td>1000.0</td>\n",
       "    </tr>\n",
       "    <tr>\n",
       "      <th>2</th>\n",
       "      <td>17505.0</td>\n",
       "      <td>432.427592</td>\n",
       "      <td>97.191208</td>\n",
       "      <td>100.0</td>\n",
       "      <td>369.0</td>\n",
       "      <td>413.0</td>\n",
       "      <td>459.0</td>\n",
       "      <td>1000.0</td>\n",
       "    </tr>\n",
       "  </tbody>\n",
       "</table>\n",
       "</div>"
      ],
      "text/plain": [
       "            count        mean         std    min    25%    50%    75%     max\n",
       "COD_SEXO                                                                     \n",
       "1         22972.0  448.492817  112.344919  100.0  385.0  413.0  483.0  1000.0\n",
       "2         17505.0  432.427592   97.191208  100.0  369.0  413.0  459.0  1000.0"
      ]
     },
     "execution_count": 23,
     "metadata": {},
     "output_type": "execute_result"
    }
   ],
   "source": [
    "#Obs: 1 representa a hombres y 2 a mujeres.\n",
    "\n",
    "data = df['MATE2_REG_ACTUAL'].groupby(df['COD_SEXO'])\n",
    "summary=data.describe()\n",
    "summary"
   ]
  },
  {
   "cell_type": "markdown",
   "metadata": {
    "id": "-j7fGvw3d7ji"
   },
   "source": [
    "A continuación, realizaremos el test de hipótesis para evaluar si la el género tiene o no efecto, consideramos $\\alpha = 1\\%$, luego se tiene que $Z_{1-\\frac{\\alpha}{2}}=2.58$.\n",
    "\n",
    "Para realizar este test, se considerará $\\mu_{1}$ y $\\mu_{2}$ la medias de los puntajes en la prueba de matemáticas electivas para los grupos de hombres y mujeres respectivamente.\n",
    "\n",
    "Se define:\n",
    "* **H0:** $\\mu_{1}=\\mu_{2}$ (que es equivalente a que no existe correlación).\n",
    "* **HA:** $\\mu_{1} \\not= \\mu_{2}$.\n",
    "\n",
    "Luego, sabemos que:\n",
    "\n",
    "$$ T =\\frac{\\mu_{1}-\\mu_{2}}{\\sqrt{\\frac{\\sigma_{1}^{2}}{n_{1}}+\\frac{\\sigma_{1}^{2}}{n_{2}}}} \\sim N(0,1)$$\n",
    "\n",
    "**Observación**: en realidad distribuye *t-student* con una cierta cantidad de grados de libertad (free degree) que se puede calcular vía:\n",
    "\n",
    "$$FD=\\frac{\\left(\\frac{\\sigma_{1}^{2}}{n_{1}}+\\frac{\\sigma_{2}^\n",
    "2}{n_{2}}\\right)^{2}}{\\frac{\\left(\\frac{\\sigma_{1}^{2}}{n_{1}}\\right)^{2}}{n_{1}-1}+\\frac{\\left(\\frac{\\sigma_{2}^{2}}{n_{2}}\\right)^{2}}{n_{2}-1}}$$\n",
    "\n",
    "Se sabe que una variable aleatoria *t-student* es aproximable por una distribución normal cero-uno si $FD$ es mayor estricto que $30$."
   ]
  },
  {
   "cell_type": "code",
   "execution_count": 24,
   "metadata": {
    "colab": {
     "base_uri": "https://localhost:8080/"
    },
    "id": "-qbSB_pRnQlj",
    "outputId": "10e42d67-e923-46a2-968a-7fdfd82da861"
   },
   "outputs": [
    {
     "name": "stdout",
     "output_type": "stream",
     "text": [
      "Se puede aproximar por una distribución normal.\n"
     ]
    }
   ],
   "source": [
    "media_Man = summary['mean'][1]\n",
    "media_Woman = summary['mean'][2]\n",
    "\n",
    "var_Man = summary['std'][1]**2\n",
    "var_Woman = summary['std'][2]**2\n",
    "\n",
    "n_Man = summary['count'][1]\n",
    "n_Woman = summary['count'][2]\n",
    "\n",
    "numerador =(var_Man/n_Man + var_Woman/n_Woman)**2\n",
    "\n",
    "denominador = (var_Man/n_Man)**2/(n_Man-1) + (var_Woman/n_Woman)**2/(n_Woman-1)\n",
    "\n",
    "FD = numerador / denominador\n",
    "\n",
    "if FD > 30:\n",
    "  print(\"Se puede aproximar por una distribución normal.\")\n",
    "\n",
    "Diff_medias=media_Man-media_Woman"
   ]
  },
  {
   "cell_type": "code",
   "execution_count": 25,
   "metadata": {
    "colab": {
     "base_uri": "https://localhost:8080/"
    },
    "id": "0-38JGrHwUM6",
    "outputId": "7100889e-f87c-4520-8fb2-c404fde9cee1"
   },
   "outputs": [
    {
     "name": "stdout",
     "output_type": "stream",
     "text": [
      "Intervalo de confianza: [13.372801098656845 , 18.757649353971267]\n",
      "Se rechaza hipótesis nula.\n"
     ]
    }
   ],
   "source": [
    "#Como sabemos que T distribuye Normal(0,1), luego:\n",
    "\n",
    "Z=2.58\n",
    "\n",
    "liminf=Diff_medias-Z*mt.sqrt( (var_Man/n_Man) + (var_Woman/n_Woman))\n",
    "limsup=Diff_medias+Z*mt.sqrt( (var_Man/n_Man) + (var_Woman/n_Woman))\n",
    "\n",
    "print('Intervalo de confianza: [' + str(liminf) + \" , \" + str(limsup)+']')\n",
    "\n",
    "\n",
    "if (liminf <= 0) and (0 <= limsup) :\n",
    "  print(\"No se puede rechazar hipótesis nula.\")\n",
    "else:\n",
    "  print(\"Se rechaza hipótesis nula.\")"
   ]
  },
  {
   "cell_type": "markdown",
   "metadata": {
    "id": "DphHgs-CQgjL"
   },
   "source": [
    "## Estudiar correlación con variables continuas"
   ]
  },
  {
   "cell_type": "markdown",
   "metadata": {
    "id": "fovrgczqQlPX"
   },
   "source": [
    "Se realiza un cambio en los códigos de la base de datos para cuantificar la rama educacional:\n",
    "* 0=H1: Humanista Científico Diurno\n",
    "* 1=H2: Humanista Científico Nocturno\n",
    "* 2=H3: Humanista Científico – Validación de estudios\n",
    "* 3=H4: Humanista Científico – Reconocimiento de estudios\n",
    "* 4=T1: Técnico Profesional Comercial\n",
    "* 5=T2: Técnico Profesional Industrial\n",
    "* 6=T3: Técnico Profesional Servicios y Técnica\n",
    "* 7=T4: Técnico Profesional Agrícola\n",
    "* 8=T5: Técnico Profesional Marítima"
   ]
  },
  {
   "cell_type": "code",
   "execution_count": 26,
   "metadata": {
    "colab": {
     "base_uri": "https://localhost:8080/",
     "height": 226
    },
    "id": "8U8OVIypQjqF",
    "outputId": "117ffa29-ca7e-4d62-b74f-0bf006084101"
   },
   "outputs": [
    {
     "data": {
      "text/html": [
       "<div>\n",
       "<style scoped>\n",
       "    .dataframe tbody tr th:only-of-type {\n",
       "        vertical-align: middle;\n",
       "    }\n",
       "\n",
       "    .dataframe tbody tr th {\n",
       "        vertical-align: top;\n",
       "    }\n",
       "\n",
       "    .dataframe thead th {\n",
       "        text-align: right;\n",
       "    }\n",
       "</style>\n",
       "<table border=\"1\" class=\"dataframe\">\n",
       "  <thead>\n",
       "    <tr style=\"text-align: right;\">\n",
       "      <th></th>\n",
       "      <th>FECHA_NACIMIENTO</th>\n",
       "      <th>COD_SEXO</th>\n",
       "      <th>RAMA_EDUCACIONAL</th>\n",
       "      <th>UNIDAD_EDUCATIVA</th>\n",
       "      <th>PTJE_NEM</th>\n",
       "      <th>PTJE_RANKING</th>\n",
       "      <th>ANYO_DE_EGRESO</th>\n",
       "      <th>MATE2_REG_ACTUAL</th>\n",
       "      <th>CLEC_REG_ACTUAL</th>\n",
       "      <th>MATE1_REG_ACTUAL</th>\n",
       "      <th>CIEN_REG_ACTUAL</th>\n",
       "      <th>HCSOC_REG_ACTUAL</th>\n",
       "    </tr>\n",
       "  </thead>\n",
       "  <tbody>\n",
       "    <tr>\n",
       "      <th>0</th>\n",
       "      <td>200405</td>\n",
       "      <td>2</td>\n",
       "      <td>0</td>\n",
       "      <td>1</td>\n",
       "      <td>785</td>\n",
       "      <td>808</td>\n",
       "      <td>2022</td>\n",
       "      <td>428.0</td>\n",
       "      <td>663.0</td>\n",
       "      <td>579.0</td>\n",
       "      <td>0.0</td>\n",
       "      <td>565.0</td>\n",
       "    </tr>\n",
       "    <tr>\n",
       "      <th>1</th>\n",
       "      <td>200411</td>\n",
       "      <td>2</td>\n",
       "      <td>6</td>\n",
       "      <td>2</td>\n",
       "      <td>0</td>\n",
       "      <td>0</td>\n",
       "      <td>2022</td>\n",
       "      <td>369.0</td>\n",
       "      <td>574.0</td>\n",
       "      <td>516.0</td>\n",
       "      <td>458.0</td>\n",
       "      <td>380.0</td>\n",
       "    </tr>\n",
       "    <tr>\n",
       "      <th>2</th>\n",
       "      <td>200406</td>\n",
       "      <td>1</td>\n",
       "      <td>0</td>\n",
       "      <td>6</td>\n",
       "      <td>757</td>\n",
       "      <td>840</td>\n",
       "      <td>2022</td>\n",
       "      <td>413.0</td>\n",
       "      <td>536.0</td>\n",
       "      <td>413.0</td>\n",
       "      <td>0.0</td>\n",
       "      <td>380.0</td>\n",
       "    </tr>\n",
       "    <tr>\n",
       "      <th>3</th>\n",
       "      <td>200411</td>\n",
       "      <td>2</td>\n",
       "      <td>0</td>\n",
       "      <td>1</td>\n",
       "      <td>915</td>\n",
       "      <td>1000</td>\n",
       "      <td>2022</td>\n",
       "      <td>444.0</td>\n",
       "      <td>649.0</td>\n",
       "      <td>452.0</td>\n",
       "      <td>409.0</td>\n",
       "      <td>335.0</td>\n",
       "    </tr>\n",
       "    <tr>\n",
       "      <th>4</th>\n",
       "      <td>200410</td>\n",
       "      <td>1</td>\n",
       "      <td>0</td>\n",
       "      <td>1</td>\n",
       "      <td>604</td>\n",
       "      <td>604</td>\n",
       "      <td>2022</td>\n",
       "      <td>385.0</td>\n",
       "      <td>490.0</td>\n",
       "      <td>480.0</td>\n",
       "      <td>0.0</td>\n",
       "      <td>454.0</td>\n",
       "    </tr>\n",
       "  </tbody>\n",
       "</table>\n",
       "</div>"
      ],
      "text/plain": [
       "  FECHA_NACIMIENTO  COD_SEXO  RAMA_EDUCACIONAL UNIDAD_EDUCATIVA  PTJE_NEM  \\\n",
       "0           200405         2                 0                1       785   \n",
       "1           200411         2                 6                2         0   \n",
       "2           200406         1                 0                6       757   \n",
       "3           200411         2                 0                1       915   \n",
       "4           200410         1                 0                1       604   \n",
       "\n",
       "   PTJE_RANKING ANYO_DE_EGRESO  MATE2_REG_ACTUAL  CLEC_REG_ACTUAL  \\\n",
       "0           808           2022             428.0            663.0   \n",
       "1             0           2022             369.0            574.0   \n",
       "2           840           2022             413.0            536.0   \n",
       "3          1000           2022             444.0            649.0   \n",
       "4           604           2022             385.0            490.0   \n",
       "\n",
       "   MATE1_REG_ACTUAL  CIEN_REG_ACTUAL  HCSOC_REG_ACTUAL  \n",
       "0             579.0              0.0             565.0  \n",
       "1             516.0            458.0             380.0  \n",
       "2             413.0              0.0             380.0  \n",
       "3             452.0            409.0             335.0  \n",
       "4             480.0              0.0             454.0  "
      ]
     },
     "execution_count": 26,
     "metadata": {},
     "output_type": "execute_result"
    }
   ],
   "source": [
    "df['RAMA_EDUCACIONAL']=df['RAMA_EDUCACIONAL'].replace(['H1', \"H2\", \"H3\", \"H4\", \"T1\", \"T2\", \"T3\", \"T4\", \"T5\"],[0,1,2,3,4,5,6,7,8])\n",
    "df.head()"
   ]
  },
  {
   "cell_type": "code",
   "execution_count": 27,
   "metadata": {
    "colab": {
     "base_uri": "https://localhost:8080/"
    },
    "id": "k_yOknToQ8nl",
    "outputId": "ed9e2258-1c1b-4aa8-b540-0d7d1746db8f"
   },
   "outputs": [
    {
     "name": "stdout",
     "output_type": "stream",
     "text": [
      "RAMA_EDUCACIONAL\n",
      "0    30112\n",
      "4     3439\n",
      "5     4433\n",
      "6     2047\n",
      "7      370\n",
      "8       76\n",
      "Name: RAMA_EDUCACIONAL, dtype: int64\n",
      "Valores nulos después de eliminar cadenas vacías:\n",
      "0\n",
      "Valores nulos después de la conversión a float:\n",
      "0\n"
     ]
    }
   ],
   "source": [
    "#VEAMOS COMO SE COMPORTA EL ATRIBUTO RAMA EDUCACIONAL:\n",
    "\n",
    "#Con el siguiente código, se puede ver que hay 4 valores ''.\n",
    "freq = df['RAMA_EDUCACIONAL'].groupby(df['RAMA_EDUCACIONAL']).count()\n",
    "print(freq)\n",
    "\n",
    "# Eliminamos las filas con valores '' en 'RAMA_EDUCACIONAL':\n",
    "df = df[df['RAMA_EDUCACIONAL'] != '']\n",
    "\n",
    "# Verificamos si hay valores nulos\n",
    "print(\"Valores nulos después de eliminar cadenas vacías:\")\n",
    "print(df['RAMA_EDUCACIONAL'].isnull().sum())\n",
    "\n",
    "# Convertimos la columna 'RAMA_EDUCACIONAL' a float, manejo de valores nulos\n",
    "df['RAMA_EDUCACIONAL'] = pd.to_numeric(df['RAMA_EDUCACIONAL'], errors='coerce')\n",
    "\n",
    "# Verificamos si hay valores nulos después de la conversión\n",
    "print(\"Valores nulos después de la conversión a float:\")\n",
    "print(df['RAMA_EDUCACIONAL'].isnull().sum())"
   ]
  },
  {
   "cell_type": "code",
   "execution_count": 28,
   "metadata": {
    "colab": {
     "base_uri": "https://localhost:8080/",
     "height": 226
    },
    "id": "816BNzMRRd7I",
    "outputId": "27a6b31e-9252-4cf5-e243-ef166e1e125d"
   },
   "outputs": [
    {
     "data": {
      "text/html": [
       "<div>\n",
       "<style scoped>\n",
       "    .dataframe tbody tr th:only-of-type {\n",
       "        vertical-align: middle;\n",
       "    }\n",
       "\n",
       "    .dataframe tbody tr th {\n",
       "        vertical-align: top;\n",
       "    }\n",
       "\n",
       "    .dataframe thead th {\n",
       "        text-align: right;\n",
       "    }\n",
       "</style>\n",
       "<table border=\"1\" class=\"dataframe\">\n",
       "  <thead>\n",
       "    <tr style=\"text-align: right;\">\n",
       "      <th></th>\n",
       "      <th>FECHA_NACIMIENTO</th>\n",
       "      <th>COD_SEXO</th>\n",
       "      <th>RAMA_EDUCACIONAL</th>\n",
       "      <th>UNIDAD_EDUCATIVA</th>\n",
       "      <th>PTJE_NEM</th>\n",
       "      <th>PTJE_RANKING</th>\n",
       "      <th>ANYO_DE_EGRESO</th>\n",
       "      <th>MATE2_REG_ACTUAL</th>\n",
       "      <th>CLEC_REG_ACTUAL</th>\n",
       "      <th>MATE1_REG_ACTUAL</th>\n",
       "      <th>CIEN_REG_ACTUAL</th>\n",
       "      <th>HCSOC_REG_ACTUAL</th>\n",
       "    </tr>\n",
       "  </thead>\n",
       "  <tbody>\n",
       "    <tr>\n",
       "      <th>0</th>\n",
       "      <td>200405</td>\n",
       "      <td>2</td>\n",
       "      <td>0.0</td>\n",
       "      <td>1</td>\n",
       "      <td>785</td>\n",
       "      <td>808</td>\n",
       "      <td>2022</td>\n",
       "      <td>428.0</td>\n",
       "      <td>663.0</td>\n",
       "      <td>579.0</td>\n",
       "      <td>0.0</td>\n",
       "      <td>565.0</td>\n",
       "    </tr>\n",
       "    <tr>\n",
       "      <th>1</th>\n",
       "      <td>200411</td>\n",
       "      <td>2</td>\n",
       "      <td>6.0</td>\n",
       "      <td>2</td>\n",
       "      <td>0</td>\n",
       "      <td>0</td>\n",
       "      <td>2022</td>\n",
       "      <td>369.0</td>\n",
       "      <td>574.0</td>\n",
       "      <td>516.0</td>\n",
       "      <td>458.0</td>\n",
       "      <td>380.0</td>\n",
       "    </tr>\n",
       "    <tr>\n",
       "      <th>2</th>\n",
       "      <td>200406</td>\n",
       "      <td>1</td>\n",
       "      <td>0.0</td>\n",
       "      <td>6</td>\n",
       "      <td>757</td>\n",
       "      <td>840</td>\n",
       "      <td>2022</td>\n",
       "      <td>413.0</td>\n",
       "      <td>536.0</td>\n",
       "      <td>413.0</td>\n",
       "      <td>0.0</td>\n",
       "      <td>380.0</td>\n",
       "    </tr>\n",
       "    <tr>\n",
       "      <th>3</th>\n",
       "      <td>200411</td>\n",
       "      <td>2</td>\n",
       "      <td>0.0</td>\n",
       "      <td>1</td>\n",
       "      <td>915</td>\n",
       "      <td>1000</td>\n",
       "      <td>2022</td>\n",
       "      <td>444.0</td>\n",
       "      <td>649.0</td>\n",
       "      <td>452.0</td>\n",
       "      <td>409.0</td>\n",
       "      <td>335.0</td>\n",
       "    </tr>\n",
       "    <tr>\n",
       "      <th>4</th>\n",
       "      <td>200410</td>\n",
       "      <td>1</td>\n",
       "      <td>0.0</td>\n",
       "      <td>1</td>\n",
       "      <td>604</td>\n",
       "      <td>604</td>\n",
       "      <td>2022</td>\n",
       "      <td>385.0</td>\n",
       "      <td>490.0</td>\n",
       "      <td>480.0</td>\n",
       "      <td>0.0</td>\n",
       "      <td>454.0</td>\n",
       "    </tr>\n",
       "  </tbody>\n",
       "</table>\n",
       "</div>"
      ],
      "text/plain": [
       "  FECHA_NACIMIENTO  COD_SEXO  RAMA_EDUCACIONAL UNIDAD_EDUCATIVA  PTJE_NEM  \\\n",
       "0           200405         2               0.0                1       785   \n",
       "1           200411         2               6.0                2         0   \n",
       "2           200406         1               0.0                6       757   \n",
       "3           200411         2               0.0                1       915   \n",
       "4           200410         1               0.0                1       604   \n",
       "\n",
       "   PTJE_RANKING ANYO_DE_EGRESO  MATE2_REG_ACTUAL  CLEC_REG_ACTUAL  \\\n",
       "0           808           2022             428.0            663.0   \n",
       "1             0           2022             369.0            574.0   \n",
       "2           840           2022             413.0            536.0   \n",
       "3          1000           2022             444.0            649.0   \n",
       "4           604           2022             385.0            490.0   \n",
       "\n",
       "   MATE1_REG_ACTUAL  CIEN_REG_ACTUAL  HCSOC_REG_ACTUAL  \n",
       "0             579.0              0.0             565.0  \n",
       "1             516.0            458.0             380.0  \n",
       "2             413.0              0.0             380.0  \n",
       "3             452.0            409.0             335.0  \n",
       "4             480.0              0.0             454.0  "
      ]
     },
     "execution_count": 28,
     "metadata": {},
     "output_type": "execute_result"
    }
   ],
   "source": [
    "#Pasemos sus datos a valores reales.\n",
    "df['RAMA_EDUCACIONAL'] = df ['RAMA_EDUCACIONAL']. astype ( float )\n",
    "df.head()"
   ]
  },
  {
   "cell_type": "markdown",
   "metadata": {
    "id": "nI0n57UnSFf6"
   },
   "source": [
    "**Observación:** para estudiar correctamente si Rama Educacional debiese incluirse o no, lo correcto sería construir $n$ variables binarias, una por cada tipo de resultado que puede tomar la variable Rama Educacional, que en este caso son 6 (0, 4,5,6,7 y 8) y luego realizar test de hipótesis para las diferencias de medias entre la variable objetivo y cada una de estas variables binarias.\n",
    "\n",
    "Sin embargo, dado que hacer tantas veces ese proceso podría resultad tedioso, en realidad para disminuir la cantidad de trabajo aprovecharemos que fueron convertidas a valor real para ver la correlación vía el coeficiente de correlación de Pearson. Esta es sólo una simplificación para disminuir la cantidad de trabajo."
   ]
  },
  {
   "cell_type": "code",
   "execution_count": 29,
   "metadata": {
    "colab": {
     "base_uri": "https://localhost:8080/",
     "height": 226
    },
    "id": "pVmPBEzQUztk",
    "outputId": "4e679ade-1ba2-40ca-96bf-c06633c1b1d9"
   },
   "outputs": [
    {
     "data": {
      "text/html": [
       "<div>\n",
       "<style scoped>\n",
       "    .dataframe tbody tr th:only-of-type {\n",
       "        vertical-align: middle;\n",
       "    }\n",
       "\n",
       "    .dataframe tbody tr th {\n",
       "        vertical-align: top;\n",
       "    }\n",
       "\n",
       "    .dataframe thead th {\n",
       "        text-align: right;\n",
       "    }\n",
       "</style>\n",
       "<table border=\"1\" class=\"dataframe\">\n",
       "  <thead>\n",
       "    <tr style=\"text-align: right;\">\n",
       "      <th></th>\n",
       "      <th>FECHA_NACIMIENTO</th>\n",
       "      <th>COD_SEXO</th>\n",
       "      <th>RAMA_EDUCACIONAL</th>\n",
       "      <th>UNIDAD_EDUCATIVA</th>\n",
       "      <th>PTJE_NEM</th>\n",
       "      <th>PTJE_RANKING</th>\n",
       "      <th>ANYO_DE_EGRESO</th>\n",
       "      <th>MATE2_REG_ACTUAL</th>\n",
       "      <th>CLEC_REG_ACTUAL</th>\n",
       "      <th>MATE1_REG_ACTUAL</th>\n",
       "      <th>CIEN_REG_ACTUAL</th>\n",
       "      <th>HCSOC_REG_ACTUAL</th>\n",
       "    </tr>\n",
       "  </thead>\n",
       "  <tbody>\n",
       "    <tr>\n",
       "      <th>0</th>\n",
       "      <td>200405</td>\n",
       "      <td>2</td>\n",
       "      <td>0.0</td>\n",
       "      <td>1</td>\n",
       "      <td>785</td>\n",
       "      <td>808</td>\n",
       "      <td>2022</td>\n",
       "      <td>428.0</td>\n",
       "      <td>663.0</td>\n",
       "      <td>579.0</td>\n",
       "      <td>0.0</td>\n",
       "      <td>565.0</td>\n",
       "    </tr>\n",
       "    <tr>\n",
       "      <th>1</th>\n",
       "      <td>200411</td>\n",
       "      <td>2</td>\n",
       "      <td>6.0</td>\n",
       "      <td>2</td>\n",
       "      <td>0</td>\n",
       "      <td>0</td>\n",
       "      <td>2022</td>\n",
       "      <td>369.0</td>\n",
       "      <td>574.0</td>\n",
       "      <td>516.0</td>\n",
       "      <td>458.0</td>\n",
       "      <td>380.0</td>\n",
       "    </tr>\n",
       "    <tr>\n",
       "      <th>2</th>\n",
       "      <td>200406</td>\n",
       "      <td>1</td>\n",
       "      <td>0.0</td>\n",
       "      <td>6</td>\n",
       "      <td>757</td>\n",
       "      <td>840</td>\n",
       "      <td>2022</td>\n",
       "      <td>413.0</td>\n",
       "      <td>536.0</td>\n",
       "      <td>413.0</td>\n",
       "      <td>0.0</td>\n",
       "      <td>380.0</td>\n",
       "    </tr>\n",
       "    <tr>\n",
       "      <th>3</th>\n",
       "      <td>200411</td>\n",
       "      <td>2</td>\n",
       "      <td>0.0</td>\n",
       "      <td>1</td>\n",
       "      <td>915</td>\n",
       "      <td>1000</td>\n",
       "      <td>2022</td>\n",
       "      <td>444.0</td>\n",
       "      <td>649.0</td>\n",
       "      <td>452.0</td>\n",
       "      <td>409.0</td>\n",
       "      <td>335.0</td>\n",
       "    </tr>\n",
       "    <tr>\n",
       "      <th>4</th>\n",
       "      <td>200410</td>\n",
       "      <td>1</td>\n",
       "      <td>0.0</td>\n",
       "      <td>1</td>\n",
       "      <td>604</td>\n",
       "      <td>604</td>\n",
       "      <td>2022</td>\n",
       "      <td>385.0</td>\n",
       "      <td>490.0</td>\n",
       "      <td>480.0</td>\n",
       "      <td>0.0</td>\n",
       "      <td>454.0</td>\n",
       "    </tr>\n",
       "  </tbody>\n",
       "</table>\n",
       "</div>"
      ],
      "text/plain": [
       "  FECHA_NACIMIENTO  COD_SEXO  RAMA_EDUCACIONAL UNIDAD_EDUCATIVA  PTJE_NEM  \\\n",
       "0           200405         2               0.0                1       785   \n",
       "1           200411         2               6.0                2         0   \n",
       "2           200406         1               0.0                6       757   \n",
       "3           200411         2               0.0                1       915   \n",
       "4           200410         1               0.0                1       604   \n",
       "\n",
       "   PTJE_RANKING ANYO_DE_EGRESO  MATE2_REG_ACTUAL  CLEC_REG_ACTUAL  \\\n",
       "0           808           2022             428.0            663.0   \n",
       "1             0           2022             369.0            574.0   \n",
       "2           840           2022             413.0            536.0   \n",
       "3          1000           2022             444.0            649.0   \n",
       "4           604           2022             385.0            490.0   \n",
       "\n",
       "   MATE1_REG_ACTUAL  CIEN_REG_ACTUAL  HCSOC_REG_ACTUAL  \n",
       "0             579.0              0.0             565.0  \n",
       "1             516.0            458.0             380.0  \n",
       "2             413.0              0.0             380.0  \n",
       "3             452.0            409.0             335.0  \n",
       "4             480.0              0.0             454.0  "
      ]
     },
     "execution_count": 29,
     "metadata": {},
     "output_type": "execute_result"
    }
   ],
   "source": [
    "df.head()"
   ]
  },
  {
   "cell_type": "code",
   "execution_count": 30,
   "metadata": {
    "colab": {
     "base_uri": "https://localhost:8080/",
     "height": 928
    },
    "id": "nV-ZylFIRs0L",
    "outputId": "6f80fb3c-d1a4-4af5-e2c5-7e18b8674b2a"
   },
   "outputs": [
    {
     "data": {
      "image/png": "[encoded data removed]",
      "text/plain": [
       "<Figure size 1500x1000 with 2 Axes>"
      ]
     },
     "metadata": {},
     "output_type": "display_data"
    }
   ],
   "source": [
    "df_correlacion=df.drop('COD_SEXO', axis= 'columns', inplace = False)  #Para el gráfico de correlación, sacaremos el sexo pues ya estudiamos\n",
    "                                                                  # sí era significativo o no\n",
    "                                                                  # vía el test de diferencia de medias.\n",
    "\n",
    "corr_df = df_correlacion.corr(method=\"pearson\")\n",
    "plt.figure(figsize=(15, 10))\n",
    "sns.heatmap(corr_df, annot=True)\n",
    "plt.show()"
   ]
  },
  {
   "cell_type": "markdown",
   "metadata": {
    "id": "7be9UYwPpk--"
   },
   "source": [
    "Recordamos que en esta matriz solo nos interesan las varibles continuas, en específico, nos fijamos en el Ranking y en el NEM de los estudiantes. Las cuales presentan correlación alta con la prueba de matemáticas específica, que es la variable que nos interesa."
   ]
  },
  {
   "cell_type": "markdown",
   "metadata": {
    "id": "yCZE3Ng1bIiM"
   },
   "source": [
    "# ENTRENAMIENTO RED NEURONAL"
   ]
  },
  {
   "cell_type": "code",
   "execution_count": 31,
   "metadata": {
    "colab": {
     "base_uri": "https://localhost:8080/",
     "height": 226
    },
    "id": "5Yc8oX4ecm0q",
    "outputId": "c8c6a9ec-20a7-4d77-9ffc-370be95557a7"
   },
   "outputs": [
    {
     "data": {
      "text/html": [
       "<div>\n",
       "<style scoped>\n",
       "    .dataframe tbody tr th:only-of-type {\n",
       "        vertical-align: middle;\n",
       "    }\n",
       "\n",
       "    .dataframe tbody tr th {\n",
       "        vertical-align: top;\n",
       "    }\n",
       "\n",
       "    .dataframe thead th {\n",
       "        text-align: right;\n",
       "    }\n",
       "</style>\n",
       "<table border=\"1\" class=\"dataframe\">\n",
       "  <thead>\n",
       "    <tr style=\"text-align: right;\">\n",
       "      <th></th>\n",
       "      <th>FECHA_NACIMIENTO</th>\n",
       "      <th>COD_SEXO</th>\n",
       "      <th>RAMA_EDUCACIONAL</th>\n",
       "      <th>UNIDAD_EDUCATIVA</th>\n",
       "      <th>PTJE_NEM</th>\n",
       "      <th>PTJE_RANKING</th>\n",
       "      <th>ANYO_DE_EGRESO</th>\n",
       "      <th>MATE2_REG_ACTUAL</th>\n",
       "      <th>CLEC_REG_ACTUAL</th>\n",
       "      <th>MATE1_REG_ACTUAL</th>\n",
       "      <th>CIEN_REG_ACTUAL</th>\n",
       "      <th>HCSOC_REG_ACTUAL</th>\n",
       "    </tr>\n",
       "  </thead>\n",
       "  <tbody>\n",
       "    <tr>\n",
       "      <th>0</th>\n",
       "      <td>200405</td>\n",
       "      <td>2</td>\n",
       "      <td>0.0</td>\n",
       "      <td>1</td>\n",
       "      <td>785</td>\n",
       "      <td>808</td>\n",
       "      <td>2022</td>\n",
       "      <td>428.0</td>\n",
       "      <td>663.0</td>\n",
       "      <td>579.0</td>\n",
       "      <td>0.0</td>\n",
       "      <td>565.0</td>\n",
       "    </tr>\n",
       "    <tr>\n",
       "      <th>1</th>\n",
       "      <td>200411</td>\n",
       "      <td>2</td>\n",
       "      <td>6.0</td>\n",
       "      <td>2</td>\n",
       "      <td>0</td>\n",
       "      <td>0</td>\n",
       "      <td>2022</td>\n",
       "      <td>369.0</td>\n",
       "      <td>574.0</td>\n",
       "      <td>516.0</td>\n",
       "      <td>458.0</td>\n",
       "      <td>380.0</td>\n",
       "    </tr>\n",
       "    <tr>\n",
       "      <th>2</th>\n",
       "      <td>200406</td>\n",
       "      <td>1</td>\n",
       "      <td>0.0</td>\n",
       "      <td>6</td>\n",
       "      <td>757</td>\n",
       "      <td>840</td>\n",
       "      <td>2022</td>\n",
       "      <td>413.0</td>\n",
       "      <td>536.0</td>\n",
       "      <td>413.0</td>\n",
       "      <td>0.0</td>\n",
       "      <td>380.0</td>\n",
       "    </tr>\n",
       "    <tr>\n",
       "      <th>3</th>\n",
       "      <td>200411</td>\n",
       "      <td>2</td>\n",
       "      <td>0.0</td>\n",
       "      <td>1</td>\n",
       "      <td>915</td>\n",
       "      <td>1000</td>\n",
       "      <td>2022</td>\n",
       "      <td>444.0</td>\n",
       "      <td>649.0</td>\n",
       "      <td>452.0</td>\n",
       "      <td>409.0</td>\n",
       "      <td>335.0</td>\n",
       "    </tr>\n",
       "    <tr>\n",
       "      <th>4</th>\n",
       "      <td>200410</td>\n",
       "      <td>1</td>\n",
       "      <td>0.0</td>\n",
       "      <td>1</td>\n",
       "      <td>604</td>\n",
       "      <td>604</td>\n",
       "      <td>2022</td>\n",
       "      <td>385.0</td>\n",
       "      <td>490.0</td>\n",
       "      <td>480.0</td>\n",
       "      <td>0.0</td>\n",
       "      <td>454.0</td>\n",
       "    </tr>\n",
       "  </tbody>\n",
       "</table>\n",
       "</div>"
      ],
      "text/plain": [
       "  FECHA_NACIMIENTO  COD_SEXO  RAMA_EDUCACIONAL UNIDAD_EDUCATIVA  PTJE_NEM  \\\n",
       "0           200405         2               0.0                1       785   \n",
       "1           200411         2               6.0                2         0   \n",
       "2           200406         1               0.0                6       757   \n",
       "3           200411         2               0.0                1       915   \n",
       "4           200410         1               0.0                1       604   \n",
       "\n",
       "   PTJE_RANKING ANYO_DE_EGRESO  MATE2_REG_ACTUAL  CLEC_REG_ACTUAL  \\\n",
       "0           808           2022             428.0            663.0   \n",
       "1             0           2022             369.0            574.0   \n",
       "2           840           2022             413.0            536.0   \n",
       "3          1000           2022             444.0            649.0   \n",
       "4           604           2022             385.0            490.0   \n",
       "\n",
       "   MATE1_REG_ACTUAL  CIEN_REG_ACTUAL  HCSOC_REG_ACTUAL  \n",
       "0             579.0              0.0             565.0  \n",
       "1             516.0            458.0             380.0  \n",
       "2             413.0              0.0             380.0  \n",
       "3             452.0            409.0             335.0  \n",
       "4             480.0              0.0             454.0  "
      ]
     },
     "execution_count": 31,
     "metadata": {},
     "output_type": "execute_result"
    }
   ],
   "source": [
    "df.head()"
   ]
  },
  {
   "cell_type": "code",
   "execution_count": 32,
   "metadata": {
    "id": "AfYhsDhRWuqE"
   },
   "outputs": [],
   "source": [
    "#Empezamos a entrenar la máquina\n",
    "columns2=['COD_SEXO','PTJE_NEM','PTJE_RANKING','MATE2_REG_ACTUAL','RAMA_EDUCACIONAL'] #Predictores\n",
    "dataset1=df[columns2]"
   ]
  },
  {
   "cell_type": "code",
   "execution_count": 33,
   "metadata": {
    "colab": {
     "base_uri": "https://localhost:8080/"
    },
    "id": "37LAc-S-bMhm",
    "outputId": "86482167-319f-477c-d8cd-e64128e480e4"
   },
   "outputs": [
    {
     "name": "stdout",
     "output_type": "stream",
     "text": [
      "40477\n"
     ]
    },
    {
     "name": "stderr",
     "output_type": "stream",
     "text": [
      "C:\\Users\\yo\\AppData\\Local\\Temp\\ipykernel_10064\\2845504778.py:5: SettingWithCopyWarning: \n",
      "A value is trying to be set on a copy of a slice from a DataFrame.\n",
      "Try using .loc[row_indexer,col_indexer] = value instead\n",
      "\n",
      "See the caveats in the documentation: https://pandas.pydata.org/pandas-docs/stable/user_guide/indexing.html#returning-a-view-versus-a-copy\n",
      "  dataset1['class']=np.zeros(size)\n"
     ]
    }
   ],
   "source": [
    "#Hacemos una clase que indique si a un estudiante si le fue bien o mal\n",
    "size=dataset1['PTJE_NEM'].size\n",
    "print(size)\n",
    "\n",
    "dataset1['class']=np.zeros(size)\n",
    "\n",
    "dataset1.loc[dataset1.MATE2_REG_ACTUAL > 500, \"class\"] = 1 #Generamos la clase\n",
    "\n",
    "dataset1= dataset1.drop(['MATE2_REG_ACTUAL'], axis=1)"
   ]
  },
  {
   "cell_type": "code",
   "execution_count": 34,
   "metadata": {
    "colab": {
     "base_uri": "https://localhost:8080/",
     "height": 206
    },
    "id": "yjqn0BlDbO0L",
    "outputId": "86d563f8-e63d-4c1c-c87f-ff27947c11c2"
   },
   "outputs": [
    {
     "data": {
      "text/html": [
       "<div>\n",
       "<style scoped>\n",
       "    .dataframe tbody tr th:only-of-type {\n",
       "        vertical-align: middle;\n",
       "    }\n",
       "\n",
       "    .dataframe tbody tr th {\n",
       "        vertical-align: top;\n",
       "    }\n",
       "\n",
       "    .dataframe thead th {\n",
       "        text-align: right;\n",
       "    }\n",
       "</style>\n",
       "<table border=\"1\" class=\"dataframe\">\n",
       "  <thead>\n",
       "    <tr style=\"text-align: right;\">\n",
       "      <th></th>\n",
       "      <th>COD_SEXO</th>\n",
       "      <th>PTJE_NEM</th>\n",
       "      <th>PTJE_RANKING</th>\n",
       "      <th>RAMA_EDUCACIONAL</th>\n",
       "      <th>class</th>\n",
       "    </tr>\n",
       "  </thead>\n",
       "  <tbody>\n",
       "    <tr>\n",
       "      <th>0</th>\n",
       "      <td>0</td>\n",
       "      <td>785</td>\n",
       "      <td>808</td>\n",
       "      <td>0.0</td>\n",
       "      <td>0.0</td>\n",
       "    </tr>\n",
       "    <tr>\n",
       "      <th>1</th>\n",
       "      <td>0</td>\n",
       "      <td>0</td>\n",
       "      <td>0</td>\n",
       "      <td>6.0</td>\n",
       "      <td>0.0</td>\n",
       "    </tr>\n",
       "    <tr>\n",
       "      <th>2</th>\n",
       "      <td>1</td>\n",
       "      <td>757</td>\n",
       "      <td>840</td>\n",
       "      <td>0.0</td>\n",
       "      <td>0.0</td>\n",
       "    </tr>\n",
       "    <tr>\n",
       "      <th>3</th>\n",
       "      <td>0</td>\n",
       "      <td>915</td>\n",
       "      <td>1000</td>\n",
       "      <td>0.0</td>\n",
       "      <td>0.0</td>\n",
       "    </tr>\n",
       "    <tr>\n",
       "      <th>4</th>\n",
       "      <td>1</td>\n",
       "      <td>604</td>\n",
       "      <td>604</td>\n",
       "      <td>0.0</td>\n",
       "      <td>0.0</td>\n",
       "    </tr>\n",
       "  </tbody>\n",
       "</table>\n",
       "</div>"
      ],
      "text/plain": [
       "   COD_SEXO  PTJE_NEM  PTJE_RANKING  RAMA_EDUCACIONAL  class\n",
       "0         0       785           808               0.0    0.0\n",
       "1         0         0             0               6.0    0.0\n",
       "2         1       757           840               0.0    0.0\n",
       "3         0       915          1000               0.0    0.0\n",
       "4         1       604           604               0.0    0.0"
      ]
     },
     "execution_count": 34,
     "metadata": {},
     "output_type": "execute_result"
    }
   ],
   "source": [
    "#Procedemos a normalizar los datos\n",
    "#'COD_SEXO' tiene valores 1 o 2, reemplazamos el 2 por 0\n",
    "dataset1['COD_SEXO']=dataset1['COD_SEXO'].replace(2,0)\n",
    "dataset1.head()"
   ]
  },
  {
   "cell_type": "code",
   "execution_count": 35,
   "metadata": {
    "colab": {
     "base_uri": "https://localhost:8080/",
     "height": 206
    },
    "id": "Rr3GW4BmbQ7L",
    "outputId": "3632a056-f31e-4ba0-ef37-223f7b6fc74e"
   },
   "outputs": [
    {
     "data": {
      "text/html": [
       "<div>\n",
       "<style scoped>\n",
       "    .dataframe tbody tr th:only-of-type {\n",
       "        vertical-align: middle;\n",
       "    }\n",
       "\n",
       "    .dataframe tbody tr th {\n",
       "        vertical-align: top;\n",
       "    }\n",
       "\n",
       "    .dataframe thead th {\n",
       "        text-align: right;\n",
       "    }\n",
       "</style>\n",
       "<table border=\"1\" class=\"dataframe\">\n",
       "  <thead>\n",
       "    <tr style=\"text-align: right;\">\n",
       "      <th></th>\n",
       "      <th>COD_SEXO</th>\n",
       "      <th>PTJE_NEM</th>\n",
       "      <th>PTJE_RANKING</th>\n",
       "      <th>RAMA_EDUCACIONAL</th>\n",
       "      <th>class</th>\n",
       "    </tr>\n",
       "  </thead>\n",
       "  <tbody>\n",
       "    <tr>\n",
       "      <th>0</th>\n",
       "      <td>0</td>\n",
       "      <td>0.785</td>\n",
       "      <td>0.808</td>\n",
       "      <td>0.00</td>\n",
       "      <td>0.0</td>\n",
       "    </tr>\n",
       "    <tr>\n",
       "      <th>1</th>\n",
       "      <td>0</td>\n",
       "      <td>0.000</td>\n",
       "      <td>0.000</td>\n",
       "      <td>0.75</td>\n",
       "      <td>0.0</td>\n",
       "    </tr>\n",
       "    <tr>\n",
       "      <th>2</th>\n",
       "      <td>1</td>\n",
       "      <td>0.757</td>\n",
       "      <td>0.840</td>\n",
       "      <td>0.00</td>\n",
       "      <td>0.0</td>\n",
       "    </tr>\n",
       "    <tr>\n",
       "      <th>3</th>\n",
       "      <td>0</td>\n",
       "      <td>0.915</td>\n",
       "      <td>1.000</td>\n",
       "      <td>0.00</td>\n",
       "      <td>0.0</td>\n",
       "    </tr>\n",
       "    <tr>\n",
       "      <th>4</th>\n",
       "      <td>1</td>\n",
       "      <td>0.604</td>\n",
       "      <td>0.604</td>\n",
       "      <td>0.00</td>\n",
       "      <td>0.0</td>\n",
       "    </tr>\n",
       "  </tbody>\n",
       "</table>\n",
       "</div>"
      ],
      "text/plain": [
       "   COD_SEXO  PTJE_NEM  PTJE_RANKING  RAMA_EDUCACIONAL  class\n",
       "0         0     0.785         0.808              0.00    0.0\n",
       "1         0     0.000         0.000              0.75    0.0\n",
       "2         1     0.757         0.840              0.00    0.0\n",
       "3         0     0.915         1.000              0.00    0.0\n",
       "4         1     0.604         0.604              0.00    0.0"
      ]
     },
     "execution_count": 35,
     "metadata": {},
     "output_type": "execute_result"
    }
   ],
   "source": [
    "#Normalizamos los datos\n",
    "#'PTJE_NEM'\n",
    "max_nem = dataset1[\"PTJE_NEM\"].max()\n",
    "dataset1['PTJE_NEM'] = dataset1[\"PTJE_NEM\"] / max_nem\n",
    "\n",
    "#'PTJE_RANKING'\n",
    "max_ranking = dataset1[\"PTJE_RANKING\"].max()\n",
    "dataset1['PTJE_RANKING'] = dataset1[\"PTJE_RANKING\"] / max_ranking\n",
    "\n",
    "#'RAMA_EDUCACIONAL'\n",
    "max_ranking = dataset1['RAMA_EDUCACIONAL'].max()\n",
    "dataset1['RAMA_EDUCACIONAL'] = dataset1['RAMA_EDUCACIONAL'] / max_ranking\n",
    "\n",
    "\n",
    "dataset1.head()"
   ]
  },
  {
   "cell_type": "markdown",
   "metadata": {
    "id": "Bigop0r3dsbv"
   },
   "source": [
    "Tenemos que nuestras clases están desbalanceadas, por lo que haremos un submuestreo aleatorio para remediarlo."
   ]
  },
  {
   "cell_type": "code",
   "execution_count": 36,
   "metadata": {
    "colab": {
     "base_uri": "https://localhost:8080/"
    },
    "id": "GXfwv5OWbTX9",
    "outputId": "209c8258-4171-4364-f59a-6c5a483db6cd"
   },
   "outputs": [
    {
     "name": "stdout",
     "output_type": "stream",
     "text": [
      "class\n",
      "0.0    33031\n",
      "1.0     7446\n",
      "Name: class, dtype: int64\n"
     ]
    }
   ],
   "source": [
    "#Contador de Frecuencia de clases\n",
    "freq2 = dataset1['class'].groupby(dataset1['class']).count()\n",
    "print(freq2)"
   ]
  },
  {
   "cell_type": "code",
   "execution_count": 37,
   "metadata": {
    "colab": {
     "base_uri": "https://localhost:8080/",
     "height": 206
    },
    "id": "pztDq7fsbXaC",
    "outputId": "4e7ace6f-c4e6-4d50-8645-82c93eaaadfc"
   },
   "outputs": [
    {
     "data": {
      "text/html": [
       "<div>\n",
       "<style scoped>\n",
       "    .dataframe tbody tr th:only-of-type {\n",
       "        vertical-align: middle;\n",
       "    }\n",
       "\n",
       "    .dataframe tbody tr th {\n",
       "        vertical-align: top;\n",
       "    }\n",
       "\n",
       "    .dataframe thead th {\n",
       "        text-align: right;\n",
       "    }\n",
       "</style>\n",
       "<table border=\"1\" class=\"dataframe\">\n",
       "  <thead>\n",
       "    <tr style=\"text-align: right;\">\n",
       "      <th></th>\n",
       "      <th>COD_SEXO</th>\n",
       "      <th>PTJE_NEM</th>\n",
       "      <th>PTJE_RANKING</th>\n",
       "      <th>RAMA_EDUCACIONAL</th>\n",
       "      <th>class</th>\n",
       "    </tr>\n",
       "  </thead>\n",
       "  <tbody>\n",
       "    <tr>\n",
       "      <th>0</th>\n",
       "      <td>0</td>\n",
       "      <td>0.785</td>\n",
       "      <td>0.808</td>\n",
       "      <td>0.00</td>\n",
       "      <td>0.0</td>\n",
       "    </tr>\n",
       "    <tr>\n",
       "      <th>1</th>\n",
       "      <td>0</td>\n",
       "      <td>0.000</td>\n",
       "      <td>0.000</td>\n",
       "      <td>0.75</td>\n",
       "      <td>0.0</td>\n",
       "    </tr>\n",
       "    <tr>\n",
       "      <th>2</th>\n",
       "      <td>1</td>\n",
       "      <td>0.757</td>\n",
       "      <td>0.840</td>\n",
       "      <td>0.00</td>\n",
       "      <td>0.0</td>\n",
       "    </tr>\n",
       "    <tr>\n",
       "      <th>3</th>\n",
       "      <td>0</td>\n",
       "      <td>0.915</td>\n",
       "      <td>1.000</td>\n",
       "      <td>0.00</td>\n",
       "      <td>0.0</td>\n",
       "    </tr>\n",
       "    <tr>\n",
       "      <th>4</th>\n",
       "      <td>1</td>\n",
       "      <td>0.604</td>\n",
       "      <td>0.604</td>\n",
       "      <td>0.00</td>\n",
       "      <td>0.0</td>\n",
       "    </tr>\n",
       "  </tbody>\n",
       "</table>\n",
       "</div>"
      ],
      "text/plain": [
       "   COD_SEXO  PTJE_NEM  PTJE_RANKING  RAMA_EDUCACIONAL  class\n",
       "0         0     0.785         0.808              0.00    0.0\n",
       "1         0     0.000         0.000              0.75    0.0\n",
       "2         1     0.757         0.840              0.00    0.0\n",
       "3         0     0.915         1.000              0.00    0.0\n",
       "4         1     0.604         0.604              0.00    0.0"
      ]
     },
     "execution_count": 37,
     "metadata": {},
     "output_type": "execute_result"
    }
   ],
   "source": [
    "#Queremos balancear la base de datos\n",
    "from sklearn.utils import resample\n",
    "# '0' y '1' representan las dos clases\n",
    "\n",
    "# Dividir el conjunto de datos en clases\n",
    "clase_mayoritaria = dataset1[dataset1['class'] == 0]\n",
    "clase_minoritaria = dataset1[dataset1['class'] == 1]\n",
    "\n",
    "# Submuestreo de la clase mayoritaria\n",
    "clase_mayoritaria_submuestreada = resample(clase_mayoritaria, replace=False, n_samples=len(clase_minoritaria), random_state=42)\n",
    "\n",
    "# Combinar las clases submuestreada y minoritaria\n",
    "dataset = pd.concat([clase_mayoritaria_submuestreada, clase_minoritaria])\n",
    "\n",
    "dataset1.head()"
   ]
  },
  {
   "cell_type": "code",
   "execution_count": 38,
   "metadata": {
    "colab": {
     "base_uri": "https://localhost:8080/"
    },
    "id": "7X-uR009bcm3",
    "outputId": "5721670e-570a-4c54-cc09-e10437e50990"
   },
   "outputs": [
    {
     "name": "stdout",
     "output_type": "stream",
     "text": [
      "class\n",
      "0.0    7446\n",
      "1.0    7446\n",
      "Name: class, dtype: int64\n"
     ]
    }
   ],
   "source": [
    "#Comprobamos que funcionó\n",
    "freq3 = dataset['class'].groupby(dataset['class']).count()\n",
    "print(freq3)"
   ]
  },
  {
   "cell_type": "code",
   "execution_count": 39,
   "metadata": {
    "id": "6zSPLbXzbdBg"
   },
   "outputs": [],
   "source": [
    "#80% de datos para train y 20% de datos para test\n",
    "train_dataset = dataset.sample(frac=0.8,random_state=0)\n",
    "test_dataset = dataset.drop(train_dataset.index)\n",
    "\n",
    "train_labels = train_dataset.pop('class')\n",
    "test_labels = test_dataset.pop('class')"
   ]
  },
  {
   "cell_type": "code",
   "execution_count": 40,
   "metadata": {
    "id": "ZZThARgzbeYH"
   },
   "outputs": [],
   "source": [
    "#Convertimos todo a arrays Numpy\n",
    "X_train = train_dataset.to_numpy()\n",
    "X_test = test_dataset.to_numpy()\n",
    "\n",
    "Y_train = train_labels.to_numpy()\n",
    "Y_test = test_labels.to_numpy()\n",
    "\n",
    "Y_train = Y_train[:,None]\n",
    "Y_test = Y_test[:,None]"
   ]
  },
  {
   "cell_type": "code",
   "execution_count": 41,
   "metadata": {
    "id": "RLyleM1AbgTv"
   },
   "outputs": [],
   "source": [
    "#This class describes a fully connected layer (without activation function)\n",
    "\n",
    "class Linear:\n",
    "    # W: weight matrix (in x out)\n",
    "    # b: bias (out x 1)\n",
    "\n",
    "    #Constructor - we define the parameters of this layer\n",
    "    def __init__(self, num_inputs, num_outputs, learning_rate, name):\n",
    "      #The parameters are initialized randomly - uniform distribution [0,1)\n",
    "      # Inicialización de Xavier / Glorot para los pesos\n",
    "      self.W = np.random.rand(num_inputs, num_outputs) * np.sqrt(2.0 / (num_inputs + num_outputs))\n",
    "      self.b = np.zeros((num_outputs, 1))\n",
    "      self.lr = learning_rate\n",
    "      self.name = name\n",
    "\n",
    "    # input: mini-batch (batch_size x in)\n",
    "    # This function only operates the linear function\n",
    "    def forward(self, input):\n",
    "      self.inputs = input\n",
    "      return np.dot(self.inputs, self.W) + self.b.T\n",
    "\n",
    "    # dy: Error in next layer (batch_size x out)\n",
    "    # This functions receives the error of the next layer and computes the error in this layer\n",
    "    def backward(self, dy):\n",
    "      batch_size = dy.shape[0]\n",
    "      dy = dy.T # (out x batch_size)\n",
    "      dw = dy.dot(self.inputs) #(out x in)\n",
    "      db = np.sum(dy, axis=1, keepdims=True) #(out x 1)\n",
    "      dx = np.dot(dy.T, self.W.T) # (batch_size x out) x (out x in)\n",
    "\n",
    "      #SGD Rules\n",
    "      self.W -= (self.lr/batch_size)*dw.T\n",
    "      self.b -= (self.lr/batch_size)*db\n",
    "\n",
    "      #The function computes the error in this layer and returns it for backpropagation\n",
    "      return dx\n",
    "\n",
    "\n",
    "\n",
    "#Class for the sigmoid activation function\n",
    "class Sigmoid:\n",
    "    def __init__(self):\n",
    "      pass\n",
    "\n",
    "    #Computes the sigmoid function\n",
    "    def forward(self, inputs):\n",
    "      self.output = 1/(1 + np.exp(-inputs))\n",
    "      return self.output\n",
    "\n",
    "    #Backpropagates the incoming error using the derivative of sigmoid\n",
    "    def backward(self, dy):\n",
    "      return dy*self.output*(1-self.output) # dy/4\n",
    "\n",
    "#Class for the ReLU activation function\n",
    "class ReLU:\n",
    "  def __init__(self):\n",
    "    pass\n",
    "\n",
    "  def forward(self, input):\n",
    "    self.input = input\n",
    "    ret = input.copy()\n",
    "    ret[ret<0] = 0\n",
    "    return ret\n",
    "\n",
    "  def backward(self, dy):\n",
    "    dx = dy.copy()\n",
    "    dx[self.input<0] = 0\n",
    "    return dx"
   ]
  },
  {
   "cell_type": "markdown",
   "metadata": {
    "id": "Llgsn-HEb03P"
   },
   "source": [
    "Primero implementaremos la Red Neuronal optimizada con el método de descenso del gradiente estocástico"
   ]
  },
  {
   "cell_type": "code",
   "execution_count": 42,
   "metadata": {
    "id": "LHXcMPxhbkxn"
   },
   "outputs": [],
   "source": [
    "lre=0.01\n",
    "\n",
    "#Class for the neural network\n",
    "class NetworkReLU:\n",
    "    def __init__(self):\n",
    "      lr = lre #Learning rate\n",
    "\n",
    "\n",
    "      #The layers are in a list\n",
    "      # Tenemos una red neuronal de 4 etapas\n",
    "      self.layers = []\n",
    "      self.layers.append(Linear(num_inputs=4, num_outputs=7, learning_rate=lr, name='fc1'))\n",
    "      self.layers.append(ReLU())\n",
    "      self.layers.append(Linear(num_inputs=7, num_outputs=3, learning_rate=lr, name='fc2'))\n",
    "      self.layers.append(ReLU())\n",
    "      self.layers.append(Linear(num_inputs=3, num_outputs=2, learning_rate=lr, name='fc3'))\n",
    "      self.layers.append(ReLU())\n",
    "      self.layers.append(Linear(num_inputs=2, num_outputs=1, learning_rate=lr, name='fc3'))\n",
    "      self.layers.append(Sigmoid())\n",
    "      self.num_layers = len(self.layers)\n",
    "\n",
    "    #Implements the training algorithm with mini-batch SGD\n",
    "    def train(self, training_data, training_label, batch_size, epoch, test_data, test_label, lambd=0.0025,verbose=False):\n",
    "      def binary_cross_entropy_with_l2(output, labels, lambd):\n",
    "        epsilon = 1e-15\n",
    "        output = np.clip(output, epsilon, 1 - epsilon)\n",
    "        loss = - (labels * np.log(output) + (1 - labels) * np.log(1 - output))\n",
    "\n",
    "       # Agrega el término de regularización L2\n",
    "        l2_reg = 0.0\n",
    "        for layer in self.layers:\n",
    "          if isinstance(layer, Linear):\n",
    "            l2_reg += np.sum(layer.W ** 2)\n",
    "            loss += 0.5 * lambd * l2_reg\n",
    "        return loss\n",
    "\n",
    "      #History values of losses\n",
    "      train_loss = []\n",
    "      test_loss = []\n",
    "\n",
    "      #Main outer loop\n",
    "      for e in range(epoch):\n",
    "        # Perform a training epoch\n",
    "        loss = 0\n",
    "\n",
    "        #Iterate over each batch\n",
    "        for batch_index in range(0, training_data.shape[0], batch_size):\n",
    "          #We need to identify whether a batch is complete or a batch is incomplete because it is the last one\n",
    "          if batch_index+batch_size < training_data.shape[0]:\n",
    "            data = training_data[batch_index:batch_index+batch_size]\n",
    "            label = training_label[batch_index:batch_index+batch_size]\n",
    "          else:\n",
    "            data = training_data[batch_index:training_data.shape[0]]\n",
    "            label = training_label[batch_index:training_label.shape[0]]\n",
    "\n",
    "          acc = 0\n",
    "\n",
    "          #Forward pass - iterate over the list of layers\n",
    "          x = data\n",
    "          for l in range(self.num_layers):\n",
    "            output = self.layers[l].forward(x)\n",
    "            x = output\n",
    "\n",
    "          #The first error is the derivative of the loss wrt. the NN output\n",
    "          dy = output - label\n",
    "          #loss += mse(output, label) #Compute the loss\n",
    "          loss += np.sum(binary_cross_entropy_with_l2(output, label,lambd)) #Compute the loss\n",
    "\n",
    "          #Backpropagate\n",
    "          for l in range(self.num_layers-1, -1, -1):\n",
    "            dout = self.layers[l].backward(dy)\n",
    "            dy = dout\n",
    "\n",
    "            for layer in self.layers:\n",
    "              if isinstance(layer, Linear):\n",
    "                loss += 0.5 * lambd * np.sum(layer.W ** 2)  # Término de regularización L2 en la pérdida\n",
    "                # Resto del código de entrenamiento de la capa lineal\n",
    "\n",
    "        #End of an epoch\n",
    "        loss /= training_data.shape[0]\n",
    "        train_loss.append(loss)\n",
    "\n",
    "        #Test after one epoch\n",
    "        loss = 0\n",
    "        outputs = []\n",
    "\n",
    "        correct = 0\n",
    "        for batch_index in range(0, test_data.shape[0], batch_size):\n",
    "          if batch_index+batch_size < test_data.shape[0]:\n",
    "            data = test_data[batch_index:batch_index+batch_size]\n",
    "            label = test_label[batch_index:batch_index+batch_size]\n",
    "          else:\n",
    "            data = test_data[batch_index:test_data.shape[0]]\n",
    "            label = test_label[batch_index:test_label.shape[0]]\n",
    "\n",
    "          acc = 0\n",
    "\n",
    "          #Forward pass\n",
    "          x = data\n",
    "          for l in range(self.num_layers):\n",
    "            output = self.layers[l].forward(x)\n",
    "            x = output\n",
    "\n",
    "          #loss += mse(output, label)\n",
    "          loss += np.sum(binary_cross_entropy_with_l2(output, label,lambd)) #Compute the loss\n",
    "\n",
    "          test_output = (output >= 0.5)\n",
    "          #Compare the output of the network with the correct labels\n",
    "          correct += (test_output == label).sum()\n",
    "\n",
    "        loss /= test_data.shape[0]\n",
    "        test_loss.append(loss)\n",
    "\n",
    "        if verbose:\n",
    "          print('Epoch {}/{}: loss = {}: Test accuracy={}'.format(e, epoch, loss, (100*correct)/test_label.shape[0]))\n",
    "        else:\n",
    "          if e % 20 == 0:\n",
    "            print('Epoch {}/{}: loss = {}: Test accuracy={}'.format(e, epoch, loss, (100*correct)/test_label.shape[0]))\n",
    "\n",
    "      return dict({'train_loss': train_loss, 'test_loss':test_loss})\n",
    "\n",
    "    def evaluate(self, data, label, batch_size):\n",
    "      correct = 0\n",
    "      for batch_index in range(0, data.shape[0], batch_size):\n",
    "        if batch_index+batch_size < data.shape[0]:\n",
    "          ndata = data[batch_index:batch_index+batch_size]\n",
    "          nlabel = label[batch_index:batch_index+batch_size]\n",
    "        else:\n",
    "          ndata = data[batch_index:data.shape[0]]\n",
    "          nlabel = label[batch_index:label.shape[0]]\n",
    "\n",
    "        x = ndata\n",
    "        for l in range(self.num_layers):\n",
    "          output = self.layers[l].forward(x)\n",
    "          x = output\n",
    "\n",
    "        test_output = (output >= 0.5)\n",
    "        #Compare the output of the network with the correct labels\n",
    "        correct += (test_output == nlabel).sum()\n",
    "\n",
    "      return (100*correct)/label.shape[0]\n",
    "\n",
    "    def predict(self, data, batch_size):\n",
    "      output_pred = []\n",
    "\n",
    "      for batch_index in range(0, data.shape[0], batch_size):\n",
    "        if batch_index+batch_size < data.shape[0]:\n",
    "          ndata = data[batch_index:batch_index+batch_size]\n",
    "        else:\n",
    "          ndata = data[batch_index:data.shape[0]]\n",
    "\n",
    "        x = ndata\n",
    "        for l in range(self.num_layers):\n",
    "          output = self.layers[l].forward(x)\n",
    "          x = output\n",
    "\n",
    "        test_output = (output >= 0.5)\n",
    "        #test_output = np.argmax(output, axis=1)\n",
    "        output_pred.append(test_output)\n",
    "\n",
    "      return np.vstack(output_pred)"
   ]
  },
  {
   "cell_type": "code",
   "execution_count": 43,
   "metadata": {
    "colab": {
     "base_uri": "https://localhost:8080/"
    },
    "id": "U-iERrwZbqfq",
    "outputId": "eb8cf714-8118-49c2-f300-6beb2a969a5d"
   },
   "outputs": [
    {
     "name": "stdout",
     "output_type": "stream",
     "text": [
      "Epoch 0/500: loss = 0.7109854174280812: Test accuracy=49.05977165883143\n",
      "Epoch 20/500: loss = 0.6623224262152376: Test accuracy=68.87172599059771\n",
      "Epoch 40/500: loss = 0.5581170190238881: Test accuracy=76.39355271994627\n",
      "Epoch 60/500: loss = 0.5401006926260014: Test accuracy=76.59503022162525\n",
      "Epoch 80/500: loss = 0.5366067279734937: Test accuracy=76.4607118871726\n",
      "Epoch 100/500: loss = 0.5347964517881516: Test accuracy=76.72934855607791\n",
      "Epoch 120/500: loss = 0.533621106414996: Test accuracy=76.79650772330423\n",
      "Epoch 140/500: loss = 0.5328219003308807: Test accuracy=76.83008730691739\n",
      "Epoch 160/500: loss = 0.5323135978284749: Test accuracy=76.93082605775689\n",
      "Epoch 180/500: loss = 0.5320643286569091: Test accuracy=77.03156480859637\n",
      "Epoch 200/500: loss = 0.5320309261396288: Test accuracy=77.03156480859637\n",
      "Epoch 220/500: loss = 0.5322200283897989: Test accuracy=77.19946272666219\n",
      "Epoch 240/500: loss = 0.5326485133648848: Test accuracy=77.36736064472801\n",
      "Epoch 260/500: loss = 0.5333143597306855: Test accuracy=77.66957689724647\n",
      "Epoch 280/500: loss = 0.5342138036298317: Test accuracy=78.00537273337811\n",
      "Epoch 300/500: loss = 0.5353894671674485: Test accuracy=78.3747481531229\n",
      "Epoch 320/500: loss = 0.5369178914336283: Test accuracy=78.50906648757555\n",
      "Epoch 340/500: loss = 0.5386142306230834: Test accuracy=78.57622565480187\n",
      "Epoch 360/500: loss = 0.5406261230939224: Test accuracy=78.64338482202821\n",
      "Epoch 380/500: loss = 0.5428420786964077: Test accuracy=78.64338482202821\n",
      "Epoch 400/500: loss = 0.5452399453211894: Test accuracy=78.60980523841505\n",
      "Epoch 420/500: loss = 0.5476410365813473: Test accuracy=78.60980523841505\n",
      "Epoch 440/500: loss = 0.549234301455087: Test accuracy=78.84486232370719\n",
      "Epoch 460/500: loss = 0.5513630197800206: Test accuracy=78.67696440564137\n",
      "Epoch 480/500: loss = 0.553334676573333: Test accuracy=78.94560107454667\n",
      "Train accuracy:78.99949639080074 - Test accuracy: 78.91202149093351\n"
     ]
    }
   ],
   "source": [
    "batch_size=30\n",
    "net = NetworkReLU()\n",
    "history = net.train(X_train, Y_train, batch_size, 500, X_test, Y_test)\n",
    "\n",
    "print('Train accuracy:{} - Test accuracy: {}'.format(net.evaluate(X_train, Y_train, batch_size), net.evaluate(X_test, Y_test, batch_size)))"
   ]
  },
  {
   "cell_type": "code",
   "execution_count": 44,
   "metadata": {
    "colab": {
     "base_uri": "https://localhost:8080/",
     "height": 452
    },
    "id": "zKLDGtFSbsZo",
    "outputId": "fab59fff-9f09-43c0-9058-044b0b3c166b"
   },
   "outputs": [
    {
     "data": {
      "image/png": "[encoded data removed]",
      "text/plain": [
       "<Figure size 640x480 with 1 Axes>"
      ]
     },
     "metadata": {},
     "output_type": "display_data"
    }
   ],
   "source": [
    "plt.figure()\n",
    "plt.plot(history['train_loss'], color='b', label='Train Loss')\n",
    "plt.plot(history['test_loss'], color='r', label='Test loss')\n",
    "plt.title('Entrenamiento SGD, lr= '+str(lre)+', batch_size= '+str(batch_size))\n",
    "plt.legend()\n",
    "plt.show()"
   ]
  },
  {
   "cell_type": "markdown",
   "metadata": {
    "id": "LAHS-cqWbyQx"
   },
   "source": [
    "Ahora implementaremos el algoritmo adam para resolver este problema:"
   ]
  },
  {
   "cell_type": "code",
   "execution_count": 45,
   "metadata": {
    "id": "yVH5YKADb-8g"
   },
   "outputs": [],
   "source": [
    "#This class describes a fully connected layer (without activation function)\n",
    "beta11=0.77\n",
    "beta22=0.999\n",
    "\n",
    "class Linear:\n",
    "    # W: weight matrix (in x out)\n",
    "    # b: bias (out x 1)\n",
    "\n",
    "    #Constructor - we define the parameters of this layer\n",
    "    def __init__(self, num_inputs, num_outputs, learning_rate, name, beta1=beta11, beta2=beta22, epsilon=1e-8):\n",
    "      #The parameters are initialized randomly - uniform distribution [0,1)\n",
    "      # Inicialización de Xavier / Glorot para los pesos\n",
    "      self.W = np.random.rand(num_inputs, num_outputs) * np.sqrt(2.0 / (num_inputs + num_outputs))\n",
    "      self.b = np.zeros((num_outputs, 1))\n",
    "      self.lr = learning_rate\n",
    "      self.name = name\n",
    "\n",
    "      # Variables de Adam\n",
    "      self.beta1 = beta1\n",
    "      self.beta2 = beta2\n",
    "      self.epsilon = epsilon\n",
    "      if beta1 is not None and beta2 is not None and epsilon is not None:\n",
    "        self.m = np.zeros_like(self.W)\n",
    "        self.v = np.zeros_like(self.W)\n",
    "        self.t = 0\n",
    "      else:\n",
    "        self.m = None\n",
    "        self.v = None\n",
    "\n",
    "    # input: mini-batch (batch_size x in)\n",
    "    # This function only operates the linear function\n",
    "    def forward(self, input):\n",
    "      self.inputs = input\n",
    "      return np.dot(self.inputs, self.W) + self.b.T\n",
    "\n",
    "    # dy: Error in next layer (batch_size x out)\n",
    "    # This functions receives the error of the next layer and computes the error in this layer\n",
    "    def backward(self, dy):\n",
    "      batch_size = dy.shape[0]\n",
    "      dy = dy.T # (out x batch_size)\n",
    "      dw = dy.dot(self.inputs) #(out x in)\n",
    "      db = np.sum(dy, axis=1, keepdims=True) #(out x 1)\n",
    "      dx = np.dot(dy.T, self.W.T) # (batch_size x out) x (out x in)\n",
    "\n",
    "    # Actualización de pesos con el método Adam\n",
    "      if self.m is not None and self.v is not None:\n",
    "            self.t += 1\n",
    "            self.m = self.beta1 * self.m + (1 - self.beta1) * dw.T\n",
    "            self.v = self.beta2 * self.v + (1 - self.beta2) * (dw.T ** 2)\n",
    "            m_hat = self.m / (1 - self.beta1 ** self.t)\n",
    "            v_hat = self.v / (1 - self.beta2 ** self.t)\n",
    "\n",
    "            self.W -= self.lr * m_hat / (np.sqrt(v_hat) + self.epsilon)\n",
    "            self.b -= self.lr * db\n",
    "      else:\n",
    "            # Actualización de pesos sin Adam (descenso de gradiente estándar)\n",
    "            self.W -= (self.lr/batch_size) * dw.T\n",
    "            self.b -= (self.lr/batch_size) * db\n",
    "\n",
    "      #The function computes the error in this layer and returns it for backpropagation\n",
    "      return dx\n",
    "\n",
    "#Class for the sigmoid activation function\n",
    "class Sigmoid:\n",
    "    def __init__(self):\n",
    "      pass\n",
    "\n",
    "    #Computes the sigmoid function\n",
    "    def forward(self, inputs):\n",
    "      self.output = 1/(1 + np.exp(-inputs))\n",
    "      return self.output\n",
    "\n",
    "    #Backpropagates the incoming error using the derivative of sigmoid\n",
    "    def backward(self, dy):\n",
    "      return dy*self.output*(1-self.output) # dy/4\n",
    "\n",
    "#Class for the ReLU activation function\n",
    "class ReLU:\n",
    "  def __init__(self):\n",
    "    pass\n",
    "\n",
    "  def forward(self, input):\n",
    "    self.input = input\n",
    "    ret = input.copy()\n",
    "    ret[ret<0] = 0\n",
    "    return ret\n",
    "\n",
    "  def backward(self, dy):\n",
    "    dx = dy.copy()\n",
    "    dx[self.input<0] = 0\n",
    "    return dx"
   ]
  },
  {
   "cell_type": "code",
   "execution_count": 46,
   "metadata": {
    "id": "rC0GyT05b_nn"
   },
   "outputs": [],
   "source": [
    "lre=0.01 #Learning rate\n",
    "\n",
    "#Class for the neural network\n",
    "class NetworkReLU_ADAM:\n",
    "    def __init__(self):\n",
    "      lr = lre #Learning rate\n",
    "\n",
    "\n",
    "      #The layers are in a list\n",
    "      # Tenemos una red neuronal de 4 etapas\n",
    "      self.layers = []\n",
    "      self.layers.append(Linear(num_inputs=4, num_outputs=7, learning_rate=lr, name='fc1', beta1=beta11, beta2=beta22, epsilon=1e-8))\n",
    "      self.layers.append(Linear(num_inputs=7, num_outputs=3, learning_rate=lr, name='fc2', beta1=beta11, beta2=beta22, epsilon=1e-8))\n",
    "      self.layers.append(Linear(num_inputs=3, num_outputs=2, learning_rate=lr, name='fc3', beta1=beta11, beta2=beta22, epsilon=1e-8))\n",
    "      self.layers.append(Linear(num_inputs=2, num_outputs=1, learning_rate=lr, name='fc3'))\n",
    "      self.layers.append(Sigmoid())\n",
    "      self.num_layers = len(self.layers)\n",
    "\n",
    "    #Implements the training algorithm with mini-batch ADAM\n",
    "    def train(self, training_data, training_label, batch_size, epoch, test_data, test_label, lambd=0.0019,verbose=False):\n",
    "      def binary_cross_entropy_with_l2(output, labels, lambd):\n",
    "        epsilon = 1e-15\n",
    "        output = np.clip(output, epsilon, 1 - epsilon)\n",
    "        loss = - (labels * np.log(output) + (1 - labels) * np.log(1 - output))\n",
    "\n",
    "       # Agrega el término de regularización L2\n",
    "        l2_reg = 0.0\n",
    "        for layer in self.layers:\n",
    "          if isinstance(layer, Linear):\n",
    "            l2_reg += np.sum(layer.W ** 2)\n",
    "            loss += 0.5 * lambd * l2_reg\n",
    "        return loss\n",
    "\n",
    "      #History values of losses\n",
    "      train_loss = []\n",
    "      test_loss = []\n",
    "\n",
    "      #Main outer loop\n",
    "      for e in range(epoch):\n",
    "        # Perform a training epoch\n",
    "        loss = 0\n",
    "\n",
    "        #Iterate over each batch\n",
    "        for batch_index in range(0, training_data.shape[0], batch_size):\n",
    "          #We need to identify whether a batch is complete or a batch is incomplete because it is the last one\n",
    "          if batch_index+batch_size < training_data.shape[0]:\n",
    "            data = training_data[batch_index:batch_index+batch_size]\n",
    "            label = training_label[batch_index:batch_index+batch_size]\n",
    "          else:\n",
    "            data = training_data[batch_index:training_data.shape[0]]\n",
    "            label = training_label[batch_index:training_label.shape[0]]\n",
    "\n",
    "          acc = 0\n",
    "\n",
    "          #Forward pass - iterate over the list of layers\n",
    "          x = data\n",
    "          for l in range(self.num_layers):\n",
    "            output = self.layers[l].forward(x)\n",
    "            x = output\n",
    "\n",
    "          #The first error is the derivative of the loss wrt. the NN output\n",
    "          dy = output - label\n",
    "          #loss += mse(output, label) #Compute the loss\n",
    "          loss += np.sum(binary_cross_entropy_with_l2(output, label,lambd)) #Compute the loss\n",
    "\n",
    "          #Backpropagate\n",
    "          for l in range(self.num_layers-1, -1, -1):\n",
    "            dout = self.layers[l].backward(dy)\n",
    "            dy = dout\n",
    "\n",
    "            for layer in self.layers:\n",
    "              if isinstance(layer, Linear):\n",
    "                loss += 0.5 * lambd * np.sum(layer.W ** 2)  # Término de regularización L2 en la pérdida\n",
    "                # Resto del código de entrenamiento de la capa lineal\n",
    "\n",
    "        #End of an epoch\n",
    "        loss /= training_data.shape[0]\n",
    "        train_loss.append(loss)\n",
    "\n",
    "        #Test after one epoch\n",
    "        loss = 0\n",
    "        outputs = []\n",
    "\n",
    "        correct = 0\n",
    "        for batch_index in range(0, test_data.shape[0], batch_size):\n",
    "          if batch_index+batch_size < test_data.shape[0]:\n",
    "            data = test_data[batch_index:batch_index+batch_size]\n",
    "            label = test_label[batch_index:batch_index+batch_size]\n",
    "          else:\n",
    "            data = test_data[batch_index:test_data.shape[0]]\n",
    "            label = test_label[batch_index:test_label.shape[0]]\n",
    "\n",
    "          acc = 0\n",
    "\n",
    "          #Forward pass\n",
    "          x = data\n",
    "          for l in range(self.num_layers):\n",
    "            output = self.layers[l].forward(x)\n",
    "            x = output\n",
    "\n",
    "          #loss += mse(output, label)\n",
    "          loss += np.sum(binary_cross_entropy_with_l2(output, label,lambd)) #Compute the loss\n",
    "\n",
    "          test_output = (output >= 0.5)\n",
    "          #Compare the output of the network with the correct labels\n",
    "          correct += (test_output == label).sum()\n",
    "\n",
    "        loss /= test_data.shape[0]\n",
    "        test_loss.append(loss)\n",
    "\n",
    "        if verbose:\n",
    "          print('Epoch {}/{}: loss = {}: Test accuracy={}'.format(e, epoch, loss, (100*correct)/test_label.shape[0]))\n",
    "        else:\n",
    "          if e % 20 == 0:\n",
    "            print('Epoch {}/{}: loss = {}: Test accuracy={}'.format(e, epoch, loss, (100*correct)/test_label.shape[0]))\n",
    "\n",
    "      return dict({'train_loss': train_loss, 'test_loss':test_loss})\n",
    "\n",
    "    def evaluate(self, data, label, batch_size):\n",
    "      correct = 0\n",
    "      for batch_index in range(0, data.shape[0], batch_size):\n",
    "        if batch_index+batch_size < data.shape[0]:\n",
    "          ndata = data[batch_index:batch_index+batch_size]\n",
    "          nlabel = label[batch_index:batch_index+batch_size]\n",
    "        else:\n",
    "          ndata = data[batch_index:data.shape[0]]\n",
    "          nlabel = label[batch_index:label.shape[0]]\n",
    "\n",
    "        x = ndata\n",
    "        for l in range(self.num_layers):\n",
    "          output = self.layers[l].forward(x)\n",
    "          x = output\n",
    "\n",
    "        test_output = (output >= 0.5)\n",
    "        #Compare the output of the network with the correct labels\n",
    "        correct += (test_output == nlabel).sum()\n",
    "\n",
    "      return (100*correct)/label.shape[0]\n",
    "\n",
    "    def predict(self, data, batch_size):\n",
    "      output_pred = []\n",
    "\n",
    "      for batch_index in range(0, data.shape[0], batch_size):\n",
    "        if batch_index+batch_size < data.shape[0]:\n",
    "          ndata = data[batch_index:batch_index+batch_size]\n",
    "        else:\n",
    "          ndata = data[batch_index:data.shape[0]]\n",
    "\n",
    "        x = ndata\n",
    "        for l in range(self.num_layers):\n",
    "          output = self.layers[l].forward(x)\n",
    "          x = output\n",
    "\n",
    "        test_output = (output >= 0.5)\n",
    "        #test_output = np.argmax(output, axis=1)\n",
    "        output_pred.append(test_output)\n",
    "\n",
    "      return np.vstack(output_pred)"
   ]
  },
  {
   "cell_type": "code",
   "execution_count": 47,
   "metadata": {
    "colab": {
     "base_uri": "https://localhost:8080/"
    },
    "id": "MaW-Ish_cJJm",
    "outputId": "c3428773-4e68-4c10-fb07-764509ee56a7"
   },
   "outputs": [
    {
     "name": "stdout",
     "output_type": "stream",
     "text": [
      "Epoch 0/600: loss = 0.5801210801373963: Test accuracy=75.28542646071189\n",
      "Epoch 20/600: loss = 0.5861106088547233: Test accuracy=77.46809939556749\n",
      "Epoch 40/600: loss = 0.6533000686756343: Test accuracy=78.00537273337811\n",
      "Epoch 60/600: loss = 0.7099455342062441: Test accuracy=78.17327065144393\n",
      "Epoch 80/600: loss = 0.7665588797444403: Test accuracy=78.03895231699127\n",
      "Epoch 100/600: loss = 0.831821256624006: Test accuracy=78.13969106783075\n",
      "Epoch 120/600: loss = 0.8870154130678892: Test accuracy=78.07253190060443\n",
      "Epoch 140/600: loss = 0.9338430775882501: Test accuracy=78.03895231699127\n",
      "Epoch 160/600: loss = 0.9792739435026866: Test accuracy=77.97179314976495\n",
      "Epoch 180/600: loss = 1.0261389161798227: Test accuracy=77.93821356615177\n",
      "Epoch 200/600: loss = 1.07333525120947: Test accuracy=77.87105439892545\n",
      "Epoch 220/600: loss = 1.1210821658459127: Test accuracy=77.93821356615177\n",
      "Epoch 240/600: loss = 1.1686846382024512: Test accuracy=77.93821356615177\n",
      "Epoch 260/600: loss = 1.2163760311178768: Test accuracy=77.87105439892545\n",
      "Epoch 280/600: loss = 1.2643878934908426: Test accuracy=77.93821356615177\n",
      "Epoch 300/600: loss = 1.3118917480172: Test accuracy=78.00537273337811\n",
      "Epoch 320/600: loss = 1.3594696726163247: Test accuracy=78.00537273337811\n",
      "Epoch 340/600: loss = 1.406763366531622: Test accuracy=78.00537273337811\n",
      "Epoch 360/600: loss = 1.4541000306105238: Test accuracy=78.07253190060443\n",
      "Epoch 380/600: loss = 1.5009321627850563: Test accuracy=78.07253190060443\n",
      "Epoch 400/600: loss = 1.5471858835562737: Test accuracy=78.10611148421759\n",
      "Epoch 420/600: loss = 1.5944026187065234: Test accuracy=78.07253190060443\n",
      "Epoch 440/600: loss = 1.6428160514057997: Test accuracy=78.07253190060443\n",
      "Epoch 460/600: loss = 1.691752081708739: Test accuracy=78.13969106783075\n",
      "Epoch 480/600: loss = 1.739884387258463: Test accuracy=78.10611148421759\n",
      "Epoch 500/600: loss = 1.7871267847201318: Test accuracy=78.17327065144393\n",
      "Epoch 520/600: loss = 1.8337289233563177: Test accuracy=78.17327065144393\n",
      "Epoch 540/600: loss = 1.879747019515629: Test accuracy=78.20685023505709\n",
      "Epoch 560/600: loss = 1.9249184872664082: Test accuracy=78.07253190060443\n",
      "Epoch 580/600: loss = 1.9695907079134052: Test accuracy=78.07253190060443\n",
      "Train accuracy:79.70454926976666 - Test accuracy: 78.20685023505709\n"
     ]
    }
   ],
   "source": [
    "batch_size=30\n",
    "net2 = NetworkReLU_ADAM()\n",
    "history = net2.train(X_train, Y_train, batch_size, 600, X_test, Y_test)\n",
    "\n",
    "print('Train accuracy:{} - Test accuracy: {}'.format(net2.evaluate(X_train, Y_train, batch_size), net2.evaluate(X_test, Y_test, batch_size)))"
   ]
  },
  {
   "cell_type": "code",
   "execution_count": 48,
   "metadata": {
    "colab": {
     "base_uri": "https://localhost:8080/",
     "height": 452
    },
    "id": "uGA5AhRXcNSR",
    "outputId": "0765d5e1-9fd3-40ec-f98c-b71b4b284add"
   },
   "outputs": [
    {
     "data": {
      "image/png": "[encoded data removed]",
      "text/plain": [
       "<Figure size 640x480 with 1 Axes>"
      ]
     },
     "metadata": {},
     "output_type": "display_data"
    }
   ],
   "source": [
    "plt.figure()\n",
    "plt.plot(history['train_loss'], color='b', label='Train Loss')\n",
    "plt.plot(history['test_loss'], color='r', label='Test loss')\n",
    "plt.title('Entrenamiento ADAM, beta1= '+ str(beta11)+' beta2= '+str(beta22)+' lr= '+str(lre)+', batch_size= '+str(batch_size))\n",
    "plt.legend()\n",
    "plt.show()"
   ]
  },
  {
   "cell_type": "markdown",
   "metadata": {
    "id": "nVRziJrmiB1n"
   },
   "source": [
    "# REFERENCIAS GENERALES\n"
   ]
  },
  {
   "cell_type": "markdown",
   "metadata": {
    "id": "o_pgvAa9kO_D"
   },
   "source": [
    "\n",
    "[1] Material de Inspiración para abordar el trabajo:\n",
    "\n",
    "Tarea 1, Análisis de Datos e Inferencia Causal, año 2022. Material disponible en: [este enlace](https://www.u-cursos.cl/ingenieria/2023/2/MA4402/1/grupos/1/15/material_docente/o/7409325).\n",
    "\n",
    "\\\\\n",
    "\n",
    "[2] Extracción de la base de datos:\n",
    "\n",
    "Centro de estudios Mineduc, Ministerio de Educación. Datos abiertos: Prueba de Admisión a la Educación Superior (PAES), año 2023, archivo nombre: ***Prueba de Acceso a la Educación Superior 2023 - Inscritos Puntajes***. Material accesible desde [aquí](https://datosabiertos.mineduc.cl/pruebas-de-admision-a-la-educacion-superior/)"
   ]
  }
 ],
 "metadata": {
  "colab": {
   "collapsed_sections": [
    "JLR1tiUJDxEd"
   ],
   "provenance": []
  },
  "kernelspec": {
   "display_name": "Python 3 (ipykernel)",
   "language": "python",
   "name": "python3"
  },
  "language_info": {
   "codemirror_mode": {
    "name": "ipython",
    "version": 3
   },
   "file_extension": ".py",
   "mimetype": "text/x-python",
   "name": "python",
   "nbconvert_exporter": "python",
   "pygments_lexer": "ipython3",
   "version": "3.11.5"
  }
 },
 "nbformat": 4,
 "nbformat_minor": 4
}
