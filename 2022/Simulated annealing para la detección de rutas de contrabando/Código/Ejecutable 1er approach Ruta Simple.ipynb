{
 "cells": [
  {
   "cell_type": "code",
   "execution_count": 1,
   "metadata": {
    "cell_id": "cb94d8cd0e1c4ff488948845a2c74b82",
    "deepnote_cell_type": "code",
    "deepnote_to_be_reexecuted": false,
    "execution_millis": 4312,
    "execution_start": 1670410064009,
    "source_hash": "ba5bb8df",
    "tags": []
   },
   "outputs": [
    {
     "name": "stdout",
     "output_type": "stream",
     "text": [
      "Defaulting to user installation because normal site-packages is not writeable\n",
      "Requirement already satisfied: networkx in c:\\users\\nico_\\appdata\\roaming\\python\\python39\\site-packages (2.8.8)\n"
     ]
    }
   ],
   "source": [
    "# Importamos las librerías necesarias y fijamos la semilla.\n",
    "import numpy as np\n",
    "import random\n",
    "import scipy\n",
    "from scipy.stats import uniform as spuniform\n",
    "import matplotlib.pyplot as plt\n",
    "\n",
    "from matplotlib import pyplot\n",
    "import math\n",
    "import statistics\n",
    "import pandas as pd\n",
    "import time\n",
    "!pip install networkx\n",
    "import networkx as nx\n",
    "\n",
    "from matplotlib import colors\n",
    "\n",
    "np.random.seed(11)"
   ]
  },
  {
   "cell_type": "code",
   "execution_count": 2,
   "metadata": {
    "cell_id": "df57f5b1b7ec4da49f70bdc177b11b14",
    "deepnote_cell_type": "code",
    "deepnote_to_be_reexecuted": false,
    "execution_millis": 1,
    "execution_start": 1670467794899,
    "source_hash": "4c7c0a5a",
    "tags": []
   },
   "outputs": [],
   "source": [
    "# Calcula cuánto tiempo ha pasado desde un momento dado hasta el momento actual.\n",
    "def timeSince(since):\n",
    "    now = time.time_ns()\n",
    "    s = now - since\n",
    "    return s*10**(-9)"
   ]
  },
  {
   "cell_type": "markdown",
   "metadata": {
    "cell_id": "60979ae6e3f946f4956f9ec2d99ece47",
    "deepnote_cell_type": "markdown",
    "tags": []
   },
   "source": [
    "Definimos la función grafoM que crea un mapa con la estructura de regiones con provincias a partir de una lista P que informe el número de provincias por región:"
   ]
  },
  {
   "cell_type": "code",
   "execution_count": 3,
   "metadata": {
    "cell_id": "ed4b6df083874337a57c05d77a534d7b",
    "deepnote_cell_type": "code",
    "deepnote_to_be_reexecuted": false,
    "execution_millis": 73,
    "execution_start": 1670467795556,
    "source_hash": "cd6b5101",
    "tags": []
   },
   "outputs": [],
   "source": [
    "def grafoM(P):\n",
    "    # Inicialización del grafo dirigido.\n",
    "    G = nx.DiGraph()\n",
    "    # Suma de cantidad de provincias por región.\n",
    "    V = sum(P[i] for i in range(len(P)))\n",
    "    # Agregamos los vértices de un grafo.\n",
    "    G.add_nodes_from(range(V))\n",
    "    R = {}\n",
    "    # Generación de posiciones para cada provincia.\n",
    "    # Se itera sobre cada región.\n",
    "    for i in range(len(P)):\n",
    "        pi = []\n",
    "        # Se itera sobre cada provincia.\n",
    "        for p in range(P[i]):\n",
    "            # Crea una tupla (x,y) posición de la provincia.\n",
    "            pi.append(np.array([np.random.uniform(), i + np.random.uniform()]))\n",
    "        R[i] = pi\n",
    "    C = {}\n",
    "    # Calculando el costo de las aristas.\n",
    "    for r in R:\n",
    "        if r < len(R)-1:\n",
    "            # Definimos el costo de cada arista.\n",
    "            C[r]= {}\n",
    "            for j in range(len(R[r])): \n",
    "                C[r][j]= []\n",
    "                for k in range(len(R[r+1])):\n",
    "                    # Costo definido como distancia euclideana.\n",
    "                    C[r][j].append(np.linalg.norm(R[r][j] - R[r+1][k])) \n",
    "    # Creación de las aristas del grafo.\n",
    "    E = []\n",
    "    k=0\n",
    "    for i in range(len(P)-1):\n",
    "        for j in range(P[i]):\n",
    "            for h in range(P[i+1]):\n",
    "                E.append((k+j,k+P[i]+h, {\"weight\": C[i][j][h]} ))\n",
    "        k+=P[i]\n",
    "    G.add_edges_from(E)        \n",
    "    return G , R , C"
   ]
  },
  {
   "cell_type": "code",
   "execution_count": 4,
   "metadata": {
    "cell_id": "efc5547fabd8469facba99f836f40777",
    "deepnote_cell_type": "code",
    "deepnote_to_be_reexecuted": false,
    "execution_millis": 2,
    "execution_start": 1670467797163,
    "source_hash": "8d723429",
    "tags": []
   },
   "outputs": [],
   "source": [
    "# Se define el costo de una ruta como la suma de los costos de cada arista.\n",
    "def costo(ruta, distancias):\n",
    "    S = 0\n",
    "    for i in range(len(ruta)-1):\n",
    "        # Donde estoy.\n",
    "        inicio = ruta[i][1]\n",
    "        # Donde voy.\n",
    "        fin = ruta[i+1][1]\n",
    "        # Sumo costo.\n",
    "        S += distancias[i][inicio][fin]\n",
    "    return S"
   ]
  },
  {
   "cell_type": "markdown",
   "metadata": {
    "cell_id": "6876dc2791c14c5b9a49995e6e01fde8",
    "deepnote_cell_type": "markdown",
    "tags": []
   },
   "source": [
    "Aplicamos Simulated Annealing. Para esto se requiere:\n",
    "\n",
    "- mapa: un grafo creado con la función grafo.\n",
    "- distancias: costos asociados a las aristas del grafo anterior.\n",
    "- $\\sigma_0$: configuración (ruta) inicial.\n",
    "- C: ponderador aplicado a la función $\\beta$.\n",
    "- beta: función beta para crear sucesión $\\beta_n$.\n"
   ]
  },
  {
   "cell_type": "code",
   "execution_count": 5,
   "metadata": {},
   "outputs": [],
   "source": [
    "# Parámetros a cambiar.\n",
    "# Cantidad de pasos\n",
    "pasos=10**4"
   ]
  },
  {
   "cell_type": "code",
   "execution_count": 6,
   "metadata": {
    "cell_id": "ac38d28d469e4673818b039398255bc4",
    "deepnote_cell_type": "code",
    "deepnote_to_be_reexecuted": false,
    "execution_millis": 0,
    "execution_start": 1670467798798,
    "source_hash": "8f359775",
    "tags": []
   },
   "outputs": [],
   "source": [
    "def SimAnn(mapa, distancias, sigma0, C, beta, pasos):\n",
    "    # Se definen las uniformes para cada paso.\n",
    "    U = np.random.uniform(size = pasos)\n",
    "    # Almacenamos las configuraciones.\n",
    "    sigmas = [sigma0]\n",
    "    # Almacenamos los costos de cada iteración.\n",
    "    w = [costo(sigma0,distancias)]\n",
    "    conteo=0\n",
    "    for i in range(pasos-1):\n",
    "        # Configuración anterior.\n",
    "        sigma = sigmas[i]\n",
    "        # Definimos beta_n según la función dada.\n",
    "        betan = beta(i,C)\n",
    "        # Definimos el vecino.\n",
    "        # En qué región cambiar.\n",
    "        region = np.random.randint(1,len(mapa)-1)\n",
    "        # Provincias de la region menos la tomada.\n",
    "        provincias = [i for i in range(len(mapa[region])) if i != sigma[region][1]]\n",
    "        # Elijo a qué provincia cambiar.\n",
    "        prov = np.random.choice(provincias)\n",
    "        # Construimos el vecino.\n",
    "        tau = [sigma[0]]\n",
    "        for j in range(1,len(sigma)):\n",
    "            # Estoy en la región de cambio.\n",
    "            if j == region:\n",
    "                tau.append((j,prov))\n",
    "            else:\n",
    "                tau.append(sigma[j])\n",
    "        # Costo anterior.\n",
    "        ws = costo(sigma,distancias)\n",
    "        # Costo vecino.\n",
    "        wt = costo(tau,distancias)\n",
    "        dif = np.exp(-betan*(wt-ws))\n",
    "        if U[i] <= min(dif,1):\n",
    "            conteo +=1\n",
    "            sigmas.append(tau)\n",
    "            w.append(costo(tau,distancias))\n",
    "        else:\n",
    "            sigmas.append(sigma)\n",
    "            w.append(costo(sigma,distancias))\n",
    "    return sigmas[len(sigmas)-1] , w[len(sigmas)-1], w , sigmas"
   ]
  },
  {
   "cell_type": "markdown",
   "metadata": {
    "cell_id": "9486f813f2274697acf219e8b09d79ca",
    "deepnote_cell_type": "markdown",
    "tags": []
   },
   "source": [
    "Hacemos la prueba sobre un mismo grafo, cambiando la sucesión de $\\beta_n$ y los parámetros C y los pasos del Simmulated Annealing:"
   ]
  },
  {
   "cell_type": "code",
   "execution_count": 7,
   "metadata": {
    "cell_id": "8ceef07625e44fb7bc3e05de5448eede",
    "deepnote_cell_type": "code",
    "deepnote_to_be_reexecuted": false,
    "execution_millis": 0,
    "execution_start": 1670467890200,
    "source_hash": "87f5d57d",
    "tags": []
   },
   "outputs": [],
   "source": [
    "# Parámetros a cambiar.\n",
    "# Beta lineal.\n",
    "def beta1(n,C):\n",
    "    return n/C\n",
    "\n",
    "# Beta cuadrático.\n",
    "def beta2(n,C):\n",
    "    return (n**2)/C\n",
    "\n",
    "# Beta exponencial.\n",
    "def beta3(n,C):\n",
    "    return np.exp(n)/C"
   ]
  },
  {
   "cell_type": "code",
   "execution_count": 8,
   "metadata": {
    "cell_id": "b37a10c06fee491895c820b1939dcf64",
    "deepnote_cell_type": "code",
    "deepnote_to_be_reexecuted": false,
    "execution_millis": 1,
    "execution_start": 1670467890962,
    "source_hash": "82c733c7",
    "tags": []
   },
   "outputs": [],
   "source": [
    "# Transforma el formato de una ruta u,v,y a (0,u),(1,v),(2,y).\n",
    "def camino(ruta,ciudad):\n",
    "    A=[]\n",
    "    k=0\n",
    "    for i in range(len(ruta)):\n",
    "        A.append((i,ruta[i]-k))\n",
    "        k+= len(ciudad[i])\n",
    "    return A"
   ]
  },
  {
   "cell_type": "markdown",
   "metadata": {
    "cell_id": "a8fdb4ba415d41bf8587f8c45f5988d1",
    "deepnote_cell_type": "markdown",
    "tags": []
   },
   "source": [
    "Definimos una función que dibuja una ruta en la grilla del país. Para esto se le entrega:\n",
    "\n",
    "- $\\sigma$: una ruta del mapa.\n",
    "- ciudades: el mapa de las ciudades.\n",
    "\n",
    "También se puede entregar de manera opcional:\n",
    "\n",
    "- p: otra ruta del mapa para comparar con $\\sigma$.\n",
    "- index: lista de índices de $\\sigma$ que se desean destacar."
   ]
  },
  {
   "cell_type": "code",
   "execution_count": 9,
   "metadata": {
    "cell_id": "7440655eab8a48baa753459590d37ffd",
    "deepnote_cell_type": "code",
    "deepnote_to_be_reexecuted": false,
    "execution_millis": 1,
    "execution_start": 1670412179981,
    "source_hash": "aa665711",
    "tags": []
   },
   "outputs": [],
   "source": [
    "# Sigma una configuración como secuencia de vértices.\n",
    "def plotear(sigma,ciudades,p=[],index=[]):\n",
    "    plt.figure()\n",
    "    # Graficar provincias.\n",
    "    X= [ciudades[i][j][0] for i in range(len(ciudades)) for j in range(len(ciudades[i]))]\n",
    "    Y= [ciudades[i][j][1] for i in range(len(ciudades)) for j in range(len(ciudades[i]))]\n",
    "    plt.scatter(X,Y, marker=\"o\")\n",
    "    plt.scatter(X[0],Y[0],marker=\"x\", color=\"g\")\n",
    "    plt.scatter(X[-1],Y[-1],marker=\"x\", color=\"g\")\n",
    "    for i in range(len(R)):\n",
    "        plt.axhline(y = i, color = 'b', linestyle = '-')\n",
    "    for i in range(len(sigma)-1):\n",
    "        plt.plot([ciudades[sigma[i][0]][sigma[i][1]][0],ciudades[sigma[i+1][0]][sigma[i+1][1]][0]],[ciudades[sigma[i][0]][sigma[i][1]][1],ciudades[sigma[i+1][0]][sigma[i+1][1]][1]],'k-')\n",
    "    if len(index)>0:\n",
    "        for i in index:\n",
    "            plt.plot([ciudades[sigma[i][0]][sigma[i][1]][0],ciudades[sigma[i+1][0]][sigma[i+1][1]][0]],[ciudades[sigma[i][0]][sigma[i][1]][1],ciudades[sigma[i+1][0]][sigma[i+1][1]][1]],'k-',color=\"r\")\n",
    "    for i in range(len(p)-1):\n",
    "        plt.plot([ciudades[p[i][0]][p[i][1]][0],ciudades[p[i+1][0]][p[i+1][1]][0]],[ciudades[p[i][0]][p[i][1]][1],ciudades[p[i+1][0]][p[i+1][1]][1]],'k-',color= \"g\")"
   ]
  },
  {
   "cell_type": "markdown",
   "metadata": {
    "cell_id": "0630eedfa1af40c7a40f535ed729c412",
    "deepnote_cell_type": "markdown",
    "tags": []
   },
   "source": [
    "## Simulación de evaluación\n",
    "\n",
    "Comenzamos creando un grafo cualquiera."
   ]
  },
  {
   "cell_type": "code",
   "execution_count": 10,
   "metadata": {
    "cell_id": "03800e18dca843f7845c0090509f2b02",
    "deepnote_cell_type": "code",
    "deepnote_to_be_reexecuted": false,
    "execution_millis": 3,
    "execution_start": 1670410069522,
    "source_hash": "d960e271",
    "tags": []
   },
   "outputs": [],
   "source": [
    "# Parámetros a cambiar.\n",
    "# Lista del número de provincias por región.\n",
    "P = [2,2,3,3,3,8,6,3,4,3,3,2,2,4,4,4]\n",
    "\n",
    "G,R,C = grafoM(P)\n",
    "\n",
    "# Encontremos de inmediato el camino más corto desde el nodo 0 al último nodo:\n",
    "p = nx.shortest_path(G,0,len(G.nodes)-1,\"weight\")\n",
    "p = camino(p,R)\n",
    "\n",
    "# Procedamos a realizar el S.A., primero definimos los parámetros:\n",
    "\n",
    "# Parámetros a cambiar.\n",
    "c = [1,5,10,100]\n",
    "pasos = [10**2, 10**3, 10**4]\n",
    "\n",
    "# Luego creamos una ruta aleatoria para comenzar:\n",
    "\n",
    "ruta = [(0,0)]\n",
    "for i in range(1,len(R)-1):\n",
    "    ruta.append((i,np.random.randint(0,len(R[i]))))\n",
    "ruta.append((len(R)-1,len(R[len(R)-1])-1))\n",
    "\n",
    "# Se realizan distintas iteraciones de S.A. según cada parámetro:\n",
    "\n",
    "# Parámetros a cambiar.\n",
    "# beta = beta1, beta2, beta3 (lineal, cuadrática, exponencial).\n",
    "beta = beta1\n",
    "# c = c[0], c[1], c[2], c[3] (1, 5, 10, 100).\n",
    "c = c[0]\n",
    "# i = 0, 1, 2 (100, 1.000, 10.000)\n",
    "i=2\n",
    "\n",
    "s10,w10,W10,S10 = SimAnn(R,C,ruta,c,beta,pasos[i])"
   ]
  },
  {
   "cell_type": "markdown",
   "metadata": {
    "cell_id": "188de47317c54683bd3aa82cef405d93",
    "deepnote_cell_type": "markdown",
    "tags": []
   },
   "source": [
    "### Evaluación de Simulaciones\n",
    "\n",
    "Veamos la evolución de la función de energía (distancia total de la ruta) para cada método según el parámetro C."
   ]
  },
  {
   "cell_type": "code",
   "execution_count": 11,
   "metadata": {
    "cell_id": "72659ae44f8548f6a9ea553534dfb0ad",
    "deepnote_cell_type": "code",
    "deepnote_to_be_reexecuted": false,
    "execution_millis": 708,
    "execution_start": 1670410096033,
    "source_hash": "dcc7a8ff",
    "tags": []
   },
   "outputs": [
    {
     "data": {
      "image/png": "[encoded data removed]",
      "text/plain": [
       "<Figure size 640x480 with 1 Axes>"
      ]
     },
     "metadata": {},
     "output_type": "display_data"
    }
   ],
   "source": [
    "X = range(pasos[i])\n",
    "fig, axs = plt.subplots(1, 1)\n",
    "axs.plot(X, W10)\n",
    "axs.set_title('C =' + str(c))\n",
    "fig.suptitle(\"Comparación de evolución de energía con sucesión \"+beta.__name__+\" para valores de C\")\n",
    "fig.tight_layout()"
   ]
  },
  {
   "cell_type": "markdown",
   "metadata": {
    "cell_id": "7aab072348e44cea8e2afaad865071b2",
    "deepnote_cell_type": "markdown",
    "tags": []
   },
   "source": [
    "Evaluamos los costos de cada camino encontrado al final del Annealing, comparando con el óptimo original encontrado con Dijkstra:"
   ]
  },
  {
   "cell_type": "code",
   "execution_count": 12,
   "metadata": {},
   "outputs": [
    {
     "data": {
      "text/html": [
       "<div>\n",
       "<style scoped>\n",
       "    .dataframe tbody tr th:only-of-type {\n",
       "        vertical-align: middle;\n",
       "    }\n",
       "\n",
       "    .dataframe tbody tr th {\n",
       "        vertical-align: top;\n",
       "    }\n",
       "\n",
       "    .dataframe thead th {\n",
       "        text-align: right;\n",
       "    }\n",
       "</style>\n",
       "<table border=\"1\" class=\"dataframe\">\n",
       "  <thead>\n",
       "    <tr style=\"text-align: right;\">\n",
       "      <th></th>\n",
       "      <th>Método</th>\n",
       "      <th>C=1</th>\n",
       "      <th>Dijkstra</th>\n",
       "    </tr>\n",
       "  </thead>\n",
       "  <tbody>\n",
       "    <tr>\n",
       "      <th>0</th>\n",
       "      <td>beta1</td>\n",
       "      <td>15.889633</td>\n",
       "      <td>15.838588</td>\n",
       "    </tr>\n",
       "  </tbody>\n",
       "</table>\n",
       "</div>"
      ],
      "text/plain": [
       "  Método        C=1   Dijkstra\n",
       "0  beta1  15.889633  15.838588"
      ]
     },
     "execution_count": 12,
     "metadata": {},
     "output_type": "execute_result"
    }
   ],
   "source": [
    "d = {\"Método\": [beta.__name__] , \"C=\"+str(c): [costo(s10,C)], \"Dijkstra\": [costo(p,C)]}\n",
    "df = pd.DataFrame(d)\n",
    "df"
   ]
  },
  {
   "cell_type": "code",
   "execution_count": 13,
   "metadata": {},
   "outputs": [
    {
     "data": {
      "image/png": "[encoded data removed]",
      "text/plain": [
       "<Figure size 640x480 with 1 Axes>"
      ]
     },
     "metadata": {},
     "output_type": "display_data"
    }
   ],
   "source": [
    "plotear(s10,R)"
   ]
  }
 ],
 "metadata": {
  "deepnote": {},
  "deepnote_execution_queue": [],
  "deepnote_notebook_id": "fff3c78d474d4e43b0d2b65b93ba7fe1",
  "deepnote_persisted_session": {
   "createdAt": "2022-12-07T12:32:52.062Z"
  },
  "kernelspec": {
   "display_name": "Python 3 (ipykernel)",
   "language": "python",
   "name": "python3"
  },
  "language_info": {
   "codemirror_mode": {
    "name": "ipython",
    "version": 3
   },
   "file_extension": ".py",
   "mimetype": "text/x-python",
   "name": "python",
   "nbconvert_exporter": "python",
   "pygments_lexer": "ipython3",
   "version": "3.9.13"
  }
 },
 "nbformat": 4,
 "nbformat_minor": 1
}
